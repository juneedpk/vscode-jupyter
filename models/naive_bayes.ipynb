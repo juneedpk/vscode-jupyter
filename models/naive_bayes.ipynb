{
 "cells": [
  {
   "cell_type": "markdown",
   "metadata": {},
   "source": [
    "# Naive Bayes Algorithm"
   ]
  },
  {
   "cell_type": "markdown",
   "metadata": {},
   "source": [
    ". Naive bayes is probabilistic machine learning based on Bayes theorem,which describes the probability of an event based on prior knowledge or evidence.In the context of classification , the naive bayes theroem is used to predict the class label of given sample based on its features."
   ]
  },
  {
   "cell_type": "markdown",
   "metadata": {},
   "source": [
    ". The Naive bayes therorem worked on assumption that features in the dataset are indpendent to each other,given the class label.This is known as indpendence assumption by simplyfing conditional probablities needed to make predcitions."
   ]
  },
  {
   "cell_type": "markdown",
   "metadata": {},
   "source": [
    ". This alogrithm is also generative model meaning that it models the joint probability distribution of the features and the class label."
   ]
  },
  {
   "cell_type": "markdown",
   "metadata": {},
   "source": [
    ". it can be used  for both binary and multiclass calssification problems,working well with high dimensioal datastes.also used for text classification,spam filitering etc."
   ]
  },
  {
   "cell_type": "markdown",
   "metadata": {},
   "source": [
    "## types of Naive Algorithm"
   ]
  },
  {
   "cell_type": "markdown",
   "metadata": {},
   "source": [
    "1.  Gaussain Naive Bayes: most commonly used type of classifier.it contain contiuous data and dataset follows normal distribution.not worked well with highly skewed data.\n",
    "\n",
    "2. Multinomial Naive Bayes: used discrete data (non negative integer values) e.g text classification,spam filtering.assumption that features follows multinomial distribution.\n",
    "\n",
    "3. Bernoulli Naive Bayes: similer to multinomial but used for binary classification( 0 and 1),used for discrete data and follows bernoulli distribution.used also for text classification ."
   ]
  },
  {
   "cell_type": "code",
   "execution_count": 15,
   "metadata": {},
   "outputs": [
    {
     "name": "stdout",
     "output_type": "stream",
     "text": [
      "1.0\n"
     ]
    }
   ],
   "source": [
    "from sklearn.naive_bayes import GaussianNB\n",
    "from sklearn.metrics import accuracy_score\n",
    "from sklearn.model_selection import train_test_split\n",
    "from sklearn.datasets import load_iris\n",
    "import pandas as pd\n",
    "import seaborn as sns\n",
    "\n",
    "iris= load_iris()\n",
    "\n",
    "X = iris.data\n",
    "y = iris.target\n",
    "\n",
    "X_train, X_test, y_train, y_test = train_test_split(X,y, test_size=0.2, random_state=42)\n",
    "\n",
    "\n",
    "model = GaussianNB().fit(X_train, y_train)\n",
    "\n",
    "y_pred = model.predict(X_test)\n",
    "print(accuracy_score(y_test, y_pred))\n",
    "\n"
   ]
  },
  {
   "cell_type": "code",
   "execution_count": 16,
   "metadata": {},
   "outputs": [
    {
     "data": {
      "text/html": [
       "<div>\n",
       "<style scoped>\n",
       "    .dataframe tbody tr th:only-of-type {\n",
       "        vertical-align: middle;\n",
       "    }\n",
       "\n",
       "    .dataframe tbody tr th {\n",
       "        vertical-align: top;\n",
       "    }\n",
       "\n",
       "    .dataframe thead th {\n",
       "        text-align: right;\n",
       "    }\n",
       "</style>\n",
       "<table border=\"1\" class=\"dataframe\">\n",
       "  <thead>\n",
       "    <tr style=\"text-align: right;\">\n",
       "      <th></th>\n",
       "      <th>carat</th>\n",
       "      <th>cut</th>\n",
       "      <th>color</th>\n",
       "      <th>clarity</th>\n",
       "      <th>depth</th>\n",
       "      <th>table</th>\n",
       "      <th>price</th>\n",
       "      <th>x</th>\n",
       "      <th>y</th>\n",
       "      <th>z</th>\n",
       "    </tr>\n",
       "  </thead>\n",
       "  <tbody>\n",
       "    <tr>\n",
       "      <th>0</th>\n",
       "      <td>0.23</td>\n",
       "      <td>Ideal</td>\n",
       "      <td>E</td>\n",
       "      <td>SI2</td>\n",
       "      <td>61.5</td>\n",
       "      <td>55.0</td>\n",
       "      <td>326</td>\n",
       "      <td>3.95</td>\n",
       "      <td>3.98</td>\n",
       "      <td>2.43</td>\n",
       "    </tr>\n",
       "    <tr>\n",
       "      <th>1</th>\n",
       "      <td>0.21</td>\n",
       "      <td>Premium</td>\n",
       "      <td>E</td>\n",
       "      <td>SI1</td>\n",
       "      <td>59.8</td>\n",
       "      <td>61.0</td>\n",
       "      <td>326</td>\n",
       "      <td>3.89</td>\n",
       "      <td>3.84</td>\n",
       "      <td>2.31</td>\n",
       "    </tr>\n",
       "    <tr>\n",
       "      <th>2</th>\n",
       "      <td>0.23</td>\n",
       "      <td>Good</td>\n",
       "      <td>E</td>\n",
       "      <td>VS1</td>\n",
       "      <td>56.9</td>\n",
       "      <td>65.0</td>\n",
       "      <td>327</td>\n",
       "      <td>4.05</td>\n",
       "      <td>4.07</td>\n",
       "      <td>2.31</td>\n",
       "    </tr>\n",
       "    <tr>\n",
       "      <th>3</th>\n",
       "      <td>0.29</td>\n",
       "      <td>Premium</td>\n",
       "      <td>I</td>\n",
       "      <td>VS2</td>\n",
       "      <td>62.4</td>\n",
       "      <td>58.0</td>\n",
       "      <td>334</td>\n",
       "      <td>4.20</td>\n",
       "      <td>4.23</td>\n",
       "      <td>2.63</td>\n",
       "    </tr>\n",
       "    <tr>\n",
       "      <th>4</th>\n",
       "      <td>0.31</td>\n",
       "      <td>Good</td>\n",
       "      <td>J</td>\n",
       "      <td>SI2</td>\n",
       "      <td>63.3</td>\n",
       "      <td>58.0</td>\n",
       "      <td>335</td>\n",
       "      <td>4.34</td>\n",
       "      <td>4.35</td>\n",
       "      <td>2.75</td>\n",
       "    </tr>\n",
       "  </tbody>\n",
       "</table>\n",
       "</div>"
      ],
      "text/plain": [
       "   carat      cut color clarity  depth  table  price     x     y     z\n",
       "0   0.23    Ideal     E     SI2   61.5   55.0    326  3.95  3.98  2.43\n",
       "1   0.21  Premium     E     SI1   59.8   61.0    326  3.89  3.84  2.31\n",
       "2   0.23     Good     E     VS1   56.9   65.0    327  4.05  4.07  2.31\n",
       "3   0.29  Premium     I     VS2   62.4   58.0    334  4.20  4.23  2.63\n",
       "4   0.31     Good     J     SI2   63.3   58.0    335  4.34  4.35  2.75"
      ]
     },
     "execution_count": 16,
     "metadata": {},
     "output_type": "execute_result"
    }
   ],
   "source": [
    "diamonds = pd.read_csv('https://raw.githubusercontent.com/mwaskom/seaborn-data/master/diamonds.csv')\n",
    "\n",
    "diamonds.head()"
   ]
  },
  {
   "cell_type": "code",
   "execution_count": 17,
   "metadata": {},
   "outputs": [],
   "source": [
    "X = diamonds[['carat', 'depth', 'table', 'price', 'x', 'y', 'z']]\n",
    "y = diamonds['cut']"
   ]
  },
  {
   "cell_type": "code",
   "execution_count": 18,
   "metadata": {},
   "outputs": [
    {
     "name": "stdout",
     "output_type": "stream",
     "text": [
      "0.5727660363366703\n"
     ]
    }
   ],
   "source": [
    "X_train, X_test, y_train, y_test = train_test_split(X,y, test_size=0.2, random_state=42)\n",
    "\n",
    "model2 = GaussianNB().fit(X_train, y_train)\n",
    "\n",
    "y_pred = model2.predict(X_test)\n",
    "print(accuracy_score(y_test, y_pred))"
   ]
  },
  {
   "cell_type": "code",
   "execution_count": 28,
   "metadata": {},
   "outputs": [
    {
     "name": "stdout",
     "output_type": "stream",
     "text": [
      "0.8638888888888889\n"
     ]
    }
   ],
   "source": [
    "from sklearn.datasets import load_digits\n",
    "from sklearn.naive_bayes import BernoulliNB\n",
    "\n",
    "\n",
    "digits = load_digits()\n",
    "\n",
    "X = digits.data\n",
    "y = digits.target\n",
    "\n",
    "X_train, X_test, y_train, y_test = train_test_split(X,y, test_size=0.2, random_state=42)\n",
    "\n",
    "model3 = BernoulliNB(binarize=0.5).fit(X_train, y_train)\n",
    "\n",
    "y_pred = model3.predict(X_test)\n",
    "print(accuracy_score(y_test, y_pred))\n"
   ]
  },
  {
   "cell_type": "code",
   "execution_count": 27,
   "metadata": {},
   "outputs": [
    {
     "name": "stdout",
     "output_type": "stream",
     "text": [
      "0.9111111111111111\n"
     ]
    }
   ],
   "source": [
    "from sklearn.datasets import load_digits\n",
    "from sklearn.naive_bayes import MultinomialNB\n",
    "\n",
    "\n",
    "digits = load_digits()\n",
    "\n",
    "X = digits.data\n",
    "y = digits.target\n",
    "\n",
    "X_train, X_test, y_train, y_test = train_test_split(X,y, test_size=0.2, random_state=42)\n",
    "\n",
    "model3 = MultinomialNB().fit(X_train, y_train)\n",
    "\n",
    "y_pred = model3.predict(X_test)\n",
    "print(accuracy_score(y_test, y_pred))\n"
   ]
  },
  {
   "cell_type": "markdown",
   "metadata": {},
   "source": [
    "In practice, to get best possible algorthim from three types is using cross validation."
   ]
  },
  {
   "cell_type": "markdown",
   "metadata": {},
   "source": [
    "### STEPS TO FOLLOW:"
   ]
  },
  {
   "cell_type": "markdown",
   "metadata": {},
   "source": [
    "1. preprocess the data e.g feature scaling,handling missing values,encoding cateogical labels.\n",
    "2. splits the data into training and test sets.\n",
    "3. choose naive bayes alogorthim and hypermeters:guassian or bernoulli etc.\n",
    "4. train and evaulate model\n",
    "5. refine the model\n",
    "   "
   ]
  },
  {
   "cell_type": "code",
   "execution_count": 36,
   "metadata": {},
   "outputs": [
    {
     "name": "stdout",
     "output_type": "stream",
     "text": [
      "Gaussian Naive Bayes - Best Parameters: {}\n",
      "Gaussian Naive Bayes - Best Cross-Validation Score: 0.9533333333333334\n",
      "\n",
      "Multinomial Naive Bayes - Best Parameters: {'alpha': 2.0}\n",
      "Multinomial Naive Bayes - Best Cross-Validation Score: 0.9600000000000002\n",
      "\n",
      "Bernoulli Naive Bayes - Best Parameters: {'alpha': 0.1, 'binarize': 1.0}\n",
      "Bernoulli Naive Bayes - Best Cross-Validation Score: 0.6666666666666666\n",
      "\n"
     ]
    }
   ],
   "source": [
    "from sklearn.model_selection import train_test_split, GridSearchCV\n",
    "from sklearn.naive_bayes import GaussianNB, MultinomialNB, BernoulliNB\n",
    "from sklearn.datasets import load_iris  # Replace with your dataset\n",
    "\n",
    "# Step 2: Load your dataset\n",
    "data = load_iris()  # Example dataset, replace with your own data\n",
    "X = data.data\n",
    "y = data.target\n",
    "\n",
    "# Step 3: Define hyperparameter grids\n",
    "param_grid_gaussian = {}\n",
    "\n",
    "param_grid_multinomial = {'alpha': [0.1, 0.5, 1.0, 2.0]}\n",
    "\n",
    "param_grid_bernoulli = {'alpha': [0.1, 0.5, 1.0, 2.0],'binarize': [0.0, 0.5, 1.0]}\n",
    "\n",
    "# Step 4: Create a dictionary mapping algorithms to hyperparameter grids\n",
    "param_grids = {\n",
    "    'Gaussian Naive Bayes': (GaussianNB(), param_grid_gaussian),\n",
    "    'Multinomial Naive Bayes': (MultinomialNB(), param_grid_multinomial),\n",
    "    'Bernoulli Naive Bayes': (BernoulliNB(), param_grid_bernoulli)\n",
    "}\n",
    "\n",
    "# Step 5: Initialize GridSearchCV objects for each algorithm\n",
    "results = {}\n",
    "for algo, (model, param_grid) in param_grids.items():\n",
    "    grid_search = GridSearchCV(model, param_grid,scoring='accuracy', cv=5, n_jobs=-1)\n",
    "    grid_search.fit(X, y)\n",
    "    results[algo] = {\n",
    "        'Best Params': grid_search.best_params_,\n",
    "        'Best Score': grid_search.best_score_\n",
    "    }\n",
    "\n",
    "# Step 6: Print the results\n",
    "for algo, result in results.items():\n",
    "    print(f'{algo} - Best Parameters: {result[\"Best Params\"]}')\n",
    "    print(f'{algo} - Best Cross-Validation Score: {result[\"Best Score\"]}')\n",
    "    print()\n"
   ]
  },
  {
   "cell_type": "code",
   "execution_count": 39,
   "metadata": {},
   "outputs": [
    {
     "data": {
      "image/png": "[encoded data removed]",
      "text/plain": [
       "<Figure size 600x600 with 1 Axes>"
      ]
     },
     "metadata": {},
     "output_type": "display_data"
    }
   ],
   "source": [
    "import matplotlib.pyplot as plt\n",
    "\n",
    "# Extract the best cross-validation scores and algorithms\n",
    "algo_names = list(results.keys())\n",
    "best_scores = [result['Best Score'] for result in results.values()]\n",
    "\n",
    "# Create a bar chart to visualize the best scores\n",
    "plt.figure(figsize=(6, 6))\n",
    "plt.bar(algo_names, best_scores, color='skyblue')\n",
    "plt.xlabel('Naive Bayes Algorithm')\n",
    "plt.ylabel('Best Cross-Validation Score')\n",
    "plt.title('Comparison of Naive Bayes Algorithms')\n",
    "plt.ylim([0, 1])  # Set the y-axis limit\n",
    "plt.xticks(rotation=15)  # Rotate the x-axis labels for readability\n",
    "plt.tight_layout()\n",
    "\n",
    "# Display the chart\n",
    "plt.show()\n"
   ]
  }
 ],
 "metadata": {
  "kernelspec": {
   "display_name": "Python 3",
   "language": "python",
   "name": "python3"
  },
  "language_info": {
   "codemirror_mode": {
    "name": "ipython",
    "version": 3
   },
   "file_extension": ".py",
   "mimetype": "text/x-python",
   "name": "python",
   "nbconvert_exporter": "python",
   "pygments_lexer": "ipython3",
   "version": "3.11.1"
  },
  "orig_nbformat": 4
 },
 "nbformat": 4,
 "nbformat_minor": 2
}
