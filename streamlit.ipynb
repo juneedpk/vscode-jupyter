{
 "cells": [
  {
   "cell_type": "code",
   "execution_count": 2,
   "metadata": {},
   "outputs": [
    {
     "data": {
      "text/plain": [
       "['javaid.pkl']"
      ]
     },
     "execution_count": 2,
     "metadata": {},
     "output_type": "execute_result"
    }
   ],
   "source": [
    "import pandas as pd\n",
    "import numpy as np\n",
    "import seaborn as sns\n",
    "\n",
    "from sklearn.linear_model import LogisticRegression\n",
    "from sklearn.preprocessing import LabelEncoder\n",
    "\n",
    "import joblib\n",
    "\n",
    "df = pd.read_csv('https://raw.githubusercontent.com/gerchristko/Streamlit-ML-App/main/data.csv')\n",
    "df.head()\n",
    "le = LabelEncoder()\n",
    "df['Eye'] = le.fit_transform(df['Eye'])\n",
    "X = df[['Height', 'Weight', 'Eye']]\n",
    "y = df['Species']\n",
    "model = LogisticRegression().fit(X, y)\n",
    "\n",
    "\n",
    "joblib.dump(model, 'javaid.pkl')"
   ]
  }
 ],
 "metadata": {
  "kernelspec": {
   "display_name": "Python 3",
   "language": "python",
   "name": "python3"
  },
  "language_info": {
   "codemirror_mode": {
    "name": "ipython",
    "version": 3
   },
   "file_extension": ".py",
   "mimetype": "text/x-python",
   "name": "python",
   "nbconvert_exporter": "python",
   "pygments_lexer": "ipython3",
   "version": "3.11.1"
  },
  "orig_nbformat": 4
 },
 "nbformat": 4,
 "nbformat_minor": 2
}
