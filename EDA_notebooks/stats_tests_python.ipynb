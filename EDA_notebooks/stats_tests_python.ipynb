{
 "cells": [
  {
   "cell_type": "markdown",
   "metadata": {},
   "source": [
    "## 1.shapiro wilk test\n",
    "\n",
    "\n",
    "Tests wehther the data sample has guassian distribution or not !\n",
    "\n",
    "Assumptions\n",
    "\n",
    "1. observations in each sample are independent and identically distributed (iid).\n",
    "2. Interpretation\n",
    "\n",
    "- HO:THE SAMPLE HAS  GUASSIAN NORMAL DISTRIBUTION.\n",
    "- H1:THE SAMPLE DONT HAVE GUASSAIN / NORMAL DISTRIBUTION."
   ]
  },
  {
   "cell_type": "code",
   "execution_count": 2,
   "metadata": {},
   "outputs": [
    {
     "name": "stdout",
     "output_type": "stream",
     "text": [
      "stat= 0.8951009511947632\n",
      "p-value = 0.19340917468070984\n",
      "the data is normally distributed\n"
     ]
    }
   ],
   "source": [
    "# example of shapiro wilk test\n",
    "from scipy.stats import shapiro\n",
    "\n",
    "data = [0.873,2.817,0.121,-0.945,-0.055,-1.436,0.360,-1.478,-1.637,-1.869]\n",
    "\n",
    "stat,p = shapiro(data)\n",
    "print('stat=',stat)\n",
    "print('p-value =',p)\n",
    "\n",
    "if p > 0.05:\n",
    "    print('the data is normally distributed')\n",
    "else:\n",
    "    print('the data is not normal')"
   ]
  },
  {
   "cell_type": "code",
   "execution_count": 3,
   "metadata": {},
   "outputs": [
    {
     "name": "stderr",
     "output_type": "stream",
     "text": [
      "C:\\Users\\AI\\AppData\\Roaming\\Python\\Python38\\site-packages\\seaborn\\_decorators.py:36: FutureWarning: Pass the following variable as a keyword arg: x. From version 0.12, the only valid positional argument will be `data`, and passing other arguments without an explicit keyword will result in an error or misinterpretation.\n",
      "  warnings.warn(\n"
     ]
    },
    {
     "data": {
      "text/plain": [
       "<AxesSubplot:xlabel='age'>"
      ]
     },
     "execution_count": 3,
     "metadata": {},
     "output_type": "execute_result"
    },
    {
     "data": {
      "image/png": "[encoded data removed]",
      "text/plain": [
       "<Figure size 432x288 with 1 Axes>"
      ]
     },
     "metadata": {
      "needs_background": "light"
     },
     "output_type": "display_data"
    }
   ],
   "source": [
    "import numpy as np\n",
    "import pandas as pd\n",
    "import seaborn as sns\n",
    "import matplotlib.pyplot as plt\n",
    "\n",
    "ks = sns.load_dataset('titanic')\n",
    "#ks['age'].hist()\n",
    "sns.boxplot(ks['age'])"
   ]
  },
  {
   "cell_type": "code",
   "execution_count": 4,
   "metadata": {},
   "outputs": [
    {
     "name": "stdout",
     "output_type": "stream",
     "text": [
      "stat= 0.9906661510467529\n",
      "p-value = 0.28414419293403625\n",
      "the data is normally distributed\n"
     ]
    },
    {
     "name": "stderr",
     "output_type": "stream",
     "text": [
      "C:\\Users\\AI\\AppData\\Roaming\\Python\\Python38\\site-packages\\seaborn\\_decorators.py:36: FutureWarning: Pass the following variable as a keyword arg: x. From version 0.12, the only valid positional argument will be `data`, and passing other arguments without an explicit keyword will result in an error or misinterpretation.\n",
      "  warnings.warn(\n"
     ]
    },
    {
     "data": {
      "text/plain": [
       "<AxesSubplot:xlabel='age'>"
      ]
     },
     "execution_count": 4,
     "metadata": {},
     "output_type": "execute_result"
    },
    {
     "data": {
      "image/png": "[encoded data removed]",
      "text/plain": [
       "<Figure size 432x288 with 1 Axes>"
      ]
     },
     "metadata": {
      "needs_background": "light"
     },
     "output_type": "display_data"
    }
   ],
   "source": [
    "\n",
    "ks=ks.dropna()\n",
    "stat,p = shapiro(ks['age'])\n",
    "\n",
    "print('stat=',stat)\n",
    "print('p-value =',p)\n",
    "\n",
    "if p > 0.05:\n",
    "\n",
    "    print('the data is normally distributed')\n",
    "else:\n",
    "    print('the data is not normal')\n",
    "\n",
    "sns.boxplot(ks['age'])"
   ]
  },
  {
   "cell_type": "markdown",
   "metadata": {},
   "source": [
    "## 2. correlation test\n",
    "1. Pearson correlation coefficent.\n",
    "\n",
    "Tests whether two samples have linear relationship.\n",
    "\n",
    "**Assumptions**\n",
    "1. observations in each sample are independent and identical distributed. (iid)\n",
    "2. observations in each sample are normally distributed.\n",
    "3. observations in each sample have the same variance.\n",
    "4. interpretation\n",
    "\n",
    "HO: THE TWO SAMPLE ARE INDEPENDENT.\n",
    "\n",
    "H1: THERE IS DEPENDENCY BETWEEN SAMPLES.\n"
   ]
  },
  {
   "cell_type": "code",
   "execution_count": 5,
   "metadata": {},
   "outputs": [
    {
     "name": "stdout",
     "output_type": "stream",
     "text": [
      "stats= -0.09073036394094937\n",
      "p-value 0.223185916258614\n",
      "probably independent\n"
     ]
    }
   ],
   "source": [
    "from scipy.stats import pearsonr\n",
    "\n",
    "ks=ks.dropna()\n",
    "stat,p = pearsonr(ks['age'],ks['fare'])\n",
    "\n",
    "print('stats=' ,stat)\n",
    "print('p-value', p)\n",
    "\n",
    "if p > 0.05:\n",
    "    print('probably independent')\n",
    "else:\n",
    "    print('probably dependent (correlated)')\n"
   ]
  },
  {
   "cell_type": "markdown",
   "metadata": {},
   "source": [
    "**2. Spearman correlation cofficent**\n",
    "\n",
    "Tests whether two samples have monotonic relationship.\n",
    "\n",
    "**Assumptions**\n",
    "1. observations in each sample are independent and identical distributed. (iid)\n",
    "2. observations in each sample can be ranked.\n",
    "3. interpretation\n",
    "\n",
    "HO: THE TWO SAMPLE ARE INDEPENDENT.\n",
    "\n",
    "H1: THERE IS DEPENDENCY BETWEEN SAMPLES."
   ]
  },
  {
   "cell_type": "code",
   "execution_count": 6,
   "metadata": {},
   "outputs": [
    {
     "name": "stdout",
     "output_type": "stream",
     "text": [
      "stats= -0.07258447372826443\n",
      "p-value 0.33017748068844077\n",
      "probably independent\n"
     ]
    }
   ],
   "source": [
    "from scipy.stats import spearmanr\n",
    "\n",
    "ks=ks.dropna()\n",
    "stat,p = spearmanr(ks['age'],ks['fare'])\n",
    "\n",
    "print('stats=' ,stat)\n",
    "print('p-value', p)\n",
    "\n",
    "if p > 0.05:\n",
    "    print('probably independent')\n",
    "else:\n",
    "    print('probably dependent (correlated)')\n"
   ]
  },
  {
   "cell_type": "markdown",
   "metadata": {},
   "source": [
    "## 3. chi squared test\n",
    "\n",
    "Tests whether two categorical variables are related or independent.\n",
    "\n",
    "**Assumptions**\n",
    "1. observations used in calculation of contingency table are independent. 25 or more examples in each cell of the contingency table.\n",
    "2. interpretation\n",
    "\n",
    "HO: THE TWO SAMPLE ARE INDEPENDENT.\n",
    "\n",
    "H1: THERE IS DEPENDENCY BETWEEN SAMPLES."
   ]
  },
  {
   "cell_type": "code",
   "execution_count": 9,
   "metadata": {},
   "outputs": [
    {
     "name": "stdout",
     "output_type": "stream",
     "text": [
      "stat= 0.27157465150403504\n",
      "p-value 0.873028283380073\n",
      "probably independent\n"
     ]
    }
   ],
   "source": [
    "from scipy.stats import chi2_contingency\n",
    "table = [[10,20,30],[6,9,17]] #ranking numbers of different things\n",
    "stat,p,dof,expected = chi2_contingency(table)\n",
    "\n",
    "print ('stat=',stat)\n",
    "print('p-value',p)\n",
    "\n",
    "if p > 0.05:\n",
    "    print('probably independent')\n",
    "else:\n",
    "    print('probably dependent')"
   ]
  },
  {
   "cell_type": "markdown",
   "metadata": {},
   "source": [
    "## 3. Paramteric statistical hypthesis tests"
   ]
  },
  {
   "cell_type": "markdown",
   "metadata": {},
   "source": [
    "1. **Student's t-test**\n",
    "\n",
    "Tests whether the means of two indpendent samples are significantlly different.\n",
    "\n",
    "**Assumptions**\n",
    "\n",
    "1. observations in each sample are independent and identical distributed. (iid)\n",
    "2. observations in each sample are normally distributed.\n",
    "3. observations in each sample have the same variance.\n",
    "4. interpretation\n",
    "\n",
    "HO: THE MEAN OF  SMAPLES ARE EQUAL.\n",
    "\n",
    "H1: THE MEAN OF SAMPLES ARE UNEQUAL.\n"
   ]
  },
  {
   "cell_type": "code",
   "execution_count": 13,
   "metadata": {},
   "outputs": [
    {
     "name": "stdout",
     "output_type": "stream",
     "text": [
      "stat= -7.480848976059225\n",
      "p-value 5.64656168773021e-13\n",
      "probably the different datset\n"
     ]
    }
   ],
   "source": [
    "from scipy.stats import ttest_ind\n",
    "\n",
    "stat,p = ttest_ind(ks['age'],ks['fare'])\n",
    "\n",
    "print('stat=',stat)\n",
    "print('p-value',p)\n",
    "\n",
    "if p > 0.05:\n",
    "    print('probably same dataset')\n",
    "else:\n",
    "    print('probably the different datset')\n"
   ]
  },
  {
   "cell_type": "markdown",
   "metadata": {},
   "source": [
    "2. **paired students t-test**\n",
    "\n",
    "Tests whether the means of two indpendent samples are significantlly different.\n",
    "\n",
    "**Assumptions**\n",
    "\n",
    "1. observations in each sample are independent and identical distributed. (iid)\n",
    "2. observations in each sample are normally distributed.\n",
    "3. observations in each sample have the same variance.\n",
    "4. observations across each sample are paired.\n",
    "5. interpretation\n",
    "\n",
    "HO: THE MEAN OF  SMAPLES ARE EQUAL.\n",
    "\n",
    "H1: THE MEAN OF SAMPLES ARE UNEQUAL."
   ]
  },
  {
   "cell_type": "code",
   "execution_count": 14,
   "metadata": {},
   "outputs": [
    {
     "name": "stdout",
     "output_type": "stream",
     "text": [
      "stat= -7.350857699919938\n",
      "p-value 6.554033898002242e-12\n",
      "probably the different datset\n"
     ]
    }
   ],
   "source": [
    "from scipy.stats import ttest_rel\n",
    "\n",
    "stat,p = ttest_rel(ks['age'],ks['fare'])\n",
    "\n",
    "print('stat=',stat)\n",
    "print('p-value',p)\n",
    "\n",
    "if p > 0.05:\n",
    "    print('probably same dataset')\n",
    "else:\n",
    "    print('probably the different datset')"
   ]
  },
  {
   "cell_type": "markdown",
   "metadata": {},
   "source": [
    "## 4- Analysis of varaince Test (ANOVA)\n",
    "\n",
    "Tests whether means of two or more independent samples are signifcantlly different.\n",
    "\n",
    "\n",
    "**Assumptions**\n",
    "\n",
    "1. observations in each sample are independent and identical distributed. (iid)\n",
    "2. observations in each sample are normally distributed.\n",
    "3. observations in each sample have the same variance.\n",
    "4. interpretation\n",
    "\n",
    "HO: THE MEAN OF  SMAPLES ARE EQUAL.\n",
    "\n",
    "H1: ONE OR MORE OF THE MEAN OF SAMPLES ARE UNEQUAL."
   ]
  },
  {
   "cell_type": "code",
   "execution_count": 18,
   "metadata": {},
   "outputs": [
    {
     "name": "stdout",
     "output_type": "stream",
     "text": [
      "stat= 70.17170065685681\n",
      "p-value 7.828235272231074e-28\n",
      "probably the different distributions\n"
     ]
    }
   ],
   "source": [
    "from scipy.stats import f_oneway\n",
    "\n",
    "stat,p = f_oneway(ks['survived'],ks['pclass'],ks['parch'])\n",
    "\n",
    "print ('stat=',stat)\n",
    "print ('p-value',p)\n",
    "\n",
    "if p > 0.05:\n",
    "    print('probably same distribution')\n",
    "else:\n",
    "    print('probably the different distributions')"
   ]
  },
  {
   "cell_type": "markdown",
   "metadata": {},
   "source": [
    "**if our result is ' probably the different distributions ' we use post hoc tests ;e.g tukey test etc. post hoc analysis tells us how much difference occurs between samples.**"
   ]
  }
 ],
 "metadata": {
  "kernelspec": {
   "display_name": "Python 3.8.10 64-bit",
   "language": "python",
   "name": "python3"
  },
  "language_info": {
   "codemirror_mode": {
    "name": "ipython",
    "version": 3
   },
   "file_extension": ".py",
   "mimetype": "text/x-python",
   "name": "python",
   "nbconvert_exporter": "python",
   "pygments_lexer": "ipython3",
   "version": "3.8.10"
  },
  "orig_nbformat": 4,
  "vscode": {
   "interpreter": {
    "hash": "570feb405e2e27c949193ac68f46852414290d515b0ba6e5d90d076ed2284471"
   }
  }
 },
 "nbformat": 4,
 "nbformat_minor": 2
}
