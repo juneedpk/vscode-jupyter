{
  "cells": [
    {
      "cell_type": "markdown",
      "id": "yrU0iWdalVGx",
      "metadata": {
        "id": "yrU0iWdalVGx"
      },
      "source": [
        "# Import all the required libraries\n",
        "\n",
        "---\n",
        "\n"
      ]
    },
    {
      "cell_type": "code",
      "execution_count": 1,
      "id": "4189cf86",
      "metadata": {
        "id": "4189cf86",
        "scrolled": false
      },
      "outputs": [],
      "source": [
        "import pandas as pd\n",
        "import datetime as dt\n",
        "from datetime import date\n",
        "import matplotlib.pyplot as plt\n",
        "import yfinance as yf\n",
        "import numpy as np\n",
        "import tensorflow as tf"
      ]
    },
    {
      "cell_type": "markdown",
      "id": "Nij98iZElfyQ",
      "metadata": {
        "id": "Nij98iZElfyQ"
      },
      "source": [
        "# Define start day to fetch the dataset from the yahoo finance library\n",
        "\n",
        "---\n",
        "\n"
      ]
    },
    {
      "cell_type": "code",
      "execution_count": 2,
      "id": "d20a4c49",
      "metadata": {
        "id": "d20a4c49",
        "scrolled": false
      },
      "outputs": [],
      "source": [
        "\n",
        "\n",
        "START = \"2015-01-01\"\n",
        "TODAY = date.today().strftime(\"%Y-%m-%d\")\n",
        "\n",
        "# Define a function to load the dataset\n",
        "\n",
        "def load_data(ticker):\n",
        "    data = yf.download(ticker, START, TODAY)\n",
        "    data.reset_index(inplace=True)\n",
        "    return data"
      ]
    },
    {
      "cell_type": "code",
      "execution_count": 3,
      "id": "c5f71e4e",
      "metadata": {
        "colab": {
          "base_uri": "https://localhost:8080/",
          "height": 224
        },
        "id": "c5f71e4e",
        "outputId": "047bd0e5-7e20-4d32-8d6f-0a0c1c5a2983"
      },
      "outputs": [
        {
          "name": "stderr",
          "output_type": "stream",
          "text": [
            "[*********************100%%**********************]  1 of 1 completed\n"
          ]
        },
        {
          "data": {
            "text/html": [
              "<div>\n",
              "<style scoped>\n",
              "    .dataframe tbody tr th:only-of-type {\n",
              "        vertical-align: middle;\n",
              "    }\n",
              "\n",
              "    .dataframe tbody tr th {\n",
              "        vertical-align: top;\n",
              "    }\n",
              "\n",
              "    .dataframe thead th {\n",
              "        text-align: right;\n",
              "    }\n",
              "</style>\n",
              "<table border=\"1\" class=\"dataframe\">\n",
              "  <thead>\n",
              "    <tr style=\"text-align: right;\">\n",
              "      <th></th>\n",
              "      <th>Date</th>\n",
              "      <th>Open</th>\n",
              "      <th>High</th>\n",
              "      <th>Low</th>\n",
              "      <th>Close</th>\n",
              "      <th>Adj Close</th>\n",
              "      <th>Volume</th>\n",
              "    </tr>\n",
              "  </thead>\n",
              "  <tbody>\n",
              "    <tr>\n",
              "      <th>0</th>\n",
              "      <td>2015-01-01</td>\n",
              "      <td>1283.500000</td>\n",
              "      <td>1283.500000</td>\n",
              "      <td>1270.500000</td>\n",
              "      <td>1272.775024</td>\n",
              "      <td>1054.449829</td>\n",
              "      <td>366830</td>\n",
              "    </tr>\n",
              "    <tr>\n",
              "      <th>1</th>\n",
              "      <td>2015-01-02</td>\n",
              "      <td>1275.500000</td>\n",
              "      <td>1295.474976</td>\n",
              "      <td>1275.300049</td>\n",
              "      <td>1289.724976</td>\n",
              "      <td>1068.492188</td>\n",
              "      <td>925740</td>\n",
              "    </tr>\n",
              "    <tr>\n",
              "      <th>2</th>\n",
              "      <td>2015-01-05</td>\n",
              "      <td>1290.500000</td>\n",
              "      <td>1299.949951</td>\n",
              "      <td>1262.324951</td>\n",
              "      <td>1270.125000</td>\n",
              "      <td>1052.254150</td>\n",
              "      <td>1754242</td>\n",
              "    </tr>\n",
              "    <tr>\n",
              "      <th>3</th>\n",
              "      <td>2015-01-06</td>\n",
              "      <td>1264.550049</td>\n",
              "      <td>1264.550049</td>\n",
              "      <td>1220.000000</td>\n",
              "      <td>1223.300049</td>\n",
              "      <td>1013.461548</td>\n",
              "      <td>2423784</td>\n",
              "    </tr>\n",
              "    <tr>\n",
              "      <th>4</th>\n",
              "      <td>2015-01-07</td>\n",
              "      <td>1235.000000</td>\n",
              "      <td>1239.574951</td>\n",
              "      <td>1203.724976</td>\n",
              "      <td>1208.849976</td>\n",
              "      <td>1001.489868</td>\n",
              "      <td>2636332</td>\n",
              "    </tr>\n",
              "  </tbody>\n",
              "</table>\n",
              "</div>"
            ],
            "text/plain": [
              "        Date         Open         High          Low        Close    Adj Close  \\\n",
              "0 2015-01-01  1283.500000  1283.500000  1270.500000  1272.775024  1054.449829   \n",
              "1 2015-01-02  1275.500000  1295.474976  1275.300049  1289.724976  1068.492188   \n",
              "2 2015-01-05  1290.500000  1299.949951  1262.324951  1270.125000  1052.254150   \n",
              "3 2015-01-06  1264.550049  1264.550049  1220.000000  1223.300049  1013.461548   \n",
              "4 2015-01-07  1235.000000  1239.574951  1203.724976  1208.849976  1001.489868   \n",
              "\n",
              "    Volume  \n",
              "0   366830  \n",
              "1   925740  \n",
              "2  1754242  \n",
              "3  2423784  \n",
              "4  2636332  "
            ]
          },
          "execution_count": 3,
          "metadata": {},
          "output_type": "execute_result"
        }
      ],
      "source": [
        "data = load_data('TCS.NS')\n",
        "df=data\n",
        "df.head()"
      ]
    },
    {
      "cell_type": "code",
      "execution_count": 4,
      "id": "c7ec39e4",
      "metadata": {
        "colab": {
          "base_uri": "https://localhost:8080/",
          "height": 206
        },
        "id": "c7ec39e4",
        "outputId": "96670f67-4c6a-40fc-b065-a7820a2f9f46"
      },
      "outputs": [
        {
          "data": {
            "text/html": [
              "<div>\n",
              "<style scoped>\n",
              "    .dataframe tbody tr th:only-of-type {\n",
              "        vertical-align: middle;\n",
              "    }\n",
              "\n",
              "    .dataframe tbody tr th {\n",
              "        vertical-align: top;\n",
              "    }\n",
              "\n",
              "    .dataframe thead th {\n",
              "        text-align: right;\n",
              "    }\n",
              "</style>\n",
              "<table border=\"1\" class=\"dataframe\">\n",
              "  <thead>\n",
              "    <tr style=\"text-align: right;\">\n",
              "      <th></th>\n",
              "      <th>Open</th>\n",
              "      <th>High</th>\n",
              "      <th>Low</th>\n",
              "      <th>Close</th>\n",
              "      <th>Volume</th>\n",
              "    </tr>\n",
              "  </thead>\n",
              "  <tbody>\n",
              "    <tr>\n",
              "      <th>0</th>\n",
              "      <td>1283.500000</td>\n",
              "      <td>1283.500000</td>\n",
              "      <td>1270.500000</td>\n",
              "      <td>1272.775024</td>\n",
              "      <td>366830</td>\n",
              "    </tr>\n",
              "    <tr>\n",
              "      <th>1</th>\n",
              "      <td>1275.500000</td>\n",
              "      <td>1295.474976</td>\n",
              "      <td>1275.300049</td>\n",
              "      <td>1289.724976</td>\n",
              "      <td>925740</td>\n",
              "    </tr>\n",
              "    <tr>\n",
              "      <th>2</th>\n",
              "      <td>1290.500000</td>\n",
              "      <td>1299.949951</td>\n",
              "      <td>1262.324951</td>\n",
              "      <td>1270.125000</td>\n",
              "      <td>1754242</td>\n",
              "    </tr>\n",
              "    <tr>\n",
              "      <th>3</th>\n",
              "      <td>1264.550049</td>\n",
              "      <td>1264.550049</td>\n",
              "      <td>1220.000000</td>\n",
              "      <td>1223.300049</td>\n",
              "      <td>2423784</td>\n",
              "    </tr>\n",
              "    <tr>\n",
              "      <th>4</th>\n",
              "      <td>1235.000000</td>\n",
              "      <td>1239.574951</td>\n",
              "      <td>1203.724976</td>\n",
              "      <td>1208.849976</td>\n",
              "      <td>2636332</td>\n",
              "    </tr>\n",
              "  </tbody>\n",
              "</table>\n",
              "</div>"
            ],
            "text/plain": [
              "          Open         High          Low        Close   Volume\n",
              "0  1283.500000  1283.500000  1270.500000  1272.775024   366830\n",
              "1  1275.500000  1295.474976  1275.300049  1289.724976   925740\n",
              "2  1290.500000  1299.949951  1262.324951  1270.125000  1754242\n",
              "3  1264.550049  1264.550049  1220.000000  1223.300049  2423784\n",
              "4  1235.000000  1239.574951  1203.724976  1208.849976  2636332"
            ]
          },
          "execution_count": 4,
          "metadata": {},
          "output_type": "execute_result"
        }
      ],
      "source": [
        "df = df.drop(['Date', 'Adj Close'], axis = 1)\n",
        "df.head()"
      ]
    },
    {
      "cell_type": "markdown",
      "id": "M-ojrPeXOxPq",
      "metadata": {
        "id": "M-ojrPeXOxPq"
      },
      "source": [
        "Visualizing Closing Price"
      ]
    },
    {
      "cell_type": "code",
      "execution_count": 5,
      "id": "DCvdjb9gOhar",
      "metadata": {
        "colab": {
          "base_uri": "https://localhost:8080/",
          "height": 564
        },
        "id": "DCvdjb9gOhar",
        "outputId": "313d9fe1-80f9-43a6-a204-1051f9acd959"
      },
      "outputs": [
        {
          "data": {
            "image/png": "[encoded data removed]",
            "text/plain": [
              "<Figure size 1200x600 with 1 Axes>"
            ]
          },
          "metadata": {},
          "output_type": "display_data"
        }
      ],
      "source": [
        "plt.figure(figsize=(12, 6))\n",
        "plt.plot(df['Close'])\n",
        "plt.title(\"TCS India Stock Price\")\n",
        "plt.xlabel(\"Date\")\n",
        "plt.ylabel(\"Price (INR)\")\n",
        "plt.grid(True)\n",
        "plt.show()"
      ]
    },
    {
      "cell_type": "code",
      "execution_count": 6,
      "id": "73888072",
      "metadata": {
        "colab": {
          "base_uri": "https://localhost:8080/",
          "height": 424
        },
        "id": "73888072",
        "outputId": "c3ff127c-8c35-4bb6-a18d-a7880266b57f"
      },
      "outputs": [
        {
          "data": {
            "text/html": [
              "<div>\n",
              "<style scoped>\n",
              "    .dataframe tbody tr th:only-of-type {\n",
              "        vertical-align: middle;\n",
              "    }\n",
              "\n",
              "    .dataframe tbody tr th {\n",
              "        vertical-align: top;\n",
              "    }\n",
              "\n",
              "    .dataframe thead th {\n",
              "        text-align: right;\n",
              "    }\n",
              "</style>\n",
              "<table border=\"1\" class=\"dataframe\">\n",
              "  <thead>\n",
              "    <tr style=\"text-align: right;\">\n",
              "      <th></th>\n",
              "      <th>Open</th>\n",
              "      <th>High</th>\n",
              "      <th>Low</th>\n",
              "      <th>Close</th>\n",
              "      <th>Volume</th>\n",
              "    </tr>\n",
              "  </thead>\n",
              "  <tbody>\n",
              "    <tr>\n",
              "      <th>0</th>\n",
              "      <td>1283.500000</td>\n",
              "      <td>1283.500000</td>\n",
              "      <td>1270.500000</td>\n",
              "      <td>1272.775024</td>\n",
              "      <td>366830</td>\n",
              "    </tr>\n",
              "    <tr>\n",
              "      <th>1</th>\n",
              "      <td>1275.500000</td>\n",
              "      <td>1295.474976</td>\n",
              "      <td>1275.300049</td>\n",
              "      <td>1289.724976</td>\n",
              "      <td>925740</td>\n",
              "    </tr>\n",
              "    <tr>\n",
              "      <th>2</th>\n",
              "      <td>1290.500000</td>\n",
              "      <td>1299.949951</td>\n",
              "      <td>1262.324951</td>\n",
              "      <td>1270.125000</td>\n",
              "      <td>1754242</td>\n",
              "    </tr>\n",
              "    <tr>\n",
              "      <th>3</th>\n",
              "      <td>1264.550049</td>\n",
              "      <td>1264.550049</td>\n",
              "      <td>1220.000000</td>\n",
              "      <td>1223.300049</td>\n",
              "      <td>2423784</td>\n",
              "    </tr>\n",
              "    <tr>\n",
              "      <th>4</th>\n",
              "      <td>1235.000000</td>\n",
              "      <td>1239.574951</td>\n",
              "      <td>1203.724976</td>\n",
              "      <td>1208.849976</td>\n",
              "      <td>2636332</td>\n",
              "    </tr>\n",
              "    <tr>\n",
              "      <th>...</th>\n",
              "      <td>...</td>\n",
              "      <td>...</td>\n",
              "      <td>...</td>\n",
              "      <td>...</td>\n",
              "      <td>...</td>\n",
              "    </tr>\n",
              "    <tr>\n",
              "      <th>2315</th>\n",
              "      <td>3840.949951</td>\n",
              "      <td>3905.000000</td>\n",
              "      <td>3825.500000</td>\n",
              "      <td>3893.449951</td>\n",
              "      <td>2095742</td>\n",
              "    </tr>\n",
              "    <tr>\n",
              "      <th>2316</th>\n",
              "      <td>3878.250000</td>\n",
              "      <td>3883.800049</td>\n",
              "      <td>3844.300049</td>\n",
              "      <td>3849.500000</td>\n",
              "      <td>1309452</td>\n",
              "    </tr>\n",
              "    <tr>\n",
              "      <th>2317</th>\n",
              "      <td>3855.000000</td>\n",
              "      <td>3908.350098</td>\n",
              "      <td>3841.350098</td>\n",
              "      <td>3847.050049</td>\n",
              "      <td>1841538</td>\n",
              "    </tr>\n",
              "    <tr>\n",
              "      <th>2318</th>\n",
              "      <td>3858.000000</td>\n",
              "      <td>3870.000000</td>\n",
              "      <td>3830.000000</td>\n",
              "      <td>3839.899902</td>\n",
              "      <td>1801993</td>\n",
              "    </tr>\n",
              "    <tr>\n",
              "      <th>2319</th>\n",
              "      <td>3848.899902</td>\n",
              "      <td>3848.899902</td>\n",
              "      <td>3800.000000</td>\n",
              "      <td>3803.649902</td>\n",
              "      <td>1567842</td>\n",
              "    </tr>\n",
              "  </tbody>\n",
              "</table>\n",
              "<p>2320 rows × 5 columns</p>\n",
              "</div>"
            ],
            "text/plain": [
              "             Open         High          Low        Close   Volume\n",
              "0     1283.500000  1283.500000  1270.500000  1272.775024   366830\n",
              "1     1275.500000  1295.474976  1275.300049  1289.724976   925740\n",
              "2     1290.500000  1299.949951  1262.324951  1270.125000  1754242\n",
              "3     1264.550049  1264.550049  1220.000000  1223.300049  2423784\n",
              "4     1235.000000  1239.574951  1203.724976  1208.849976  2636332\n",
              "...           ...          ...          ...          ...      ...\n",
              "2315  3840.949951  3905.000000  3825.500000  3893.449951  2095742\n",
              "2316  3878.250000  3883.800049  3844.300049  3849.500000  1309452\n",
              "2317  3855.000000  3908.350098  3841.350098  3847.050049  1841538\n",
              "2318  3858.000000  3870.000000  3830.000000  3839.899902  1801993\n",
              "2319  3848.899902  3848.899902  3800.000000  3803.649902  1567842\n",
              "\n",
              "[2320 rows x 5 columns]"
            ]
          },
          "execution_count": 6,
          "metadata": {},
          "output_type": "execute_result"
        }
      ],
      "source": [
        "df"
      ]
    },
    {
      "cell_type": "markdown",
      "id": "UMkTEOfBlzte",
      "metadata": {
        "id": "UMkTEOfBlzte"
      },
      "source": [
        "# Plotting moving averages of 100 day\n",
        "\n",
        "---\n",
        "\n"
      ]
    },
    {
      "cell_type": "code",
      "execution_count": 7,
      "id": "114d2e0c",
      "metadata": {
        "colab": {
          "base_uri": "https://localhost:8080/"
        },
        "id": "114d2e0c",
        "outputId": "aad49169-4922-4f48-bd62-84ec26fa3768"
      },
      "outputs": [
        {
          "data": {
            "text/plain": [
              "0               NaN\n",
              "1               NaN\n",
              "2               NaN\n",
              "3               NaN\n",
              "4               NaN\n",
              "           ...     \n",
              "2315    3936.551008\n",
              "2316    3936.806008\n",
              "2317    3937.321008\n",
              "2318    3937.608008\n",
              "2319    3937.645508\n",
              "Name: Close, Length: 2320, dtype: float64"
            ]
          },
          "execution_count": 7,
          "metadata": {},
          "output_type": "execute_result"
        }
      ],
      "source": [
        "ma100 = df.Close.rolling(100).mean()\n",
        "ma100"
      ]
    },
    {
      "cell_type": "code",
      "execution_count": 8,
      "id": "e2f6b740",
      "metadata": {
        "colab": {
          "base_uri": "https://localhost:8080/",
          "height": 563
        },
        "id": "e2f6b740",
        "outputId": "136dd8a6-23d1-4fef-d676-8db5fed9e4b5"
      },
      "outputs": [
        {
          "data": {
            "text/plain": [
              "Text(0.5, 1.0, 'Graph Of Moving Averages Of 100 Days')"
            ]
          },
          "execution_count": 8,
          "metadata": {},
          "output_type": "execute_result"
        },
        {
          "data": {
            "image/png": "[encoded data removed]",
            "text/plain": [
              "<Figure size 1200x600 with 1 Axes>"
            ]
          },
          "metadata": {},
          "output_type": "display_data"
        }
      ],
      "source": [
        "plt.figure(figsize = (12,6))\n",
        "plt.plot(df.Close)\n",
        "plt.plot(ma100, 'r')\n",
        "plt.grid(True)\n",
        "plt.title('Graph Of Moving Averages Of 100 Days')"
      ]
    },
    {
      "cell_type": "markdown",
      "id": "LQKvGsXwmN65",
      "metadata": {
        "id": "LQKvGsXwmN65"
      },
      "source": [
        "# Defining 200 days moving averages and plotting comparision graph with 100 days moving averages\n",
        "\n",
        "---\n",
        "\n"
      ]
    },
    {
      "cell_type": "code",
      "execution_count": 9,
      "id": "46c89811",
      "metadata": {
        "colab": {
          "base_uri": "https://localhost:8080/"
        },
        "id": "46c89811",
        "outputId": "a7a974f0-937e-4265-b375-929053f46272"
      },
      "outputs": [
        {
          "data": {
            "text/plain": [
              "0               NaN\n",
              "1               NaN\n",
              "2               NaN\n",
              "3               NaN\n",
              "4               NaN\n",
              "           ...     \n",
              "2315    3716.103754\n",
              "2316    3718.366754\n",
              "2317    3720.825005\n",
              "2318    3722.917255\n",
              "2319    3724.675254\n",
              "Name: Close, Length: 2320, dtype: float64"
            ]
          },
          "execution_count": 9,
          "metadata": {},
          "output_type": "execute_result"
        }
      ],
      "source": [
        "ma200 = df.Close.rolling(200).mean()\n",
        "ma200"
      ]
    },
    {
      "cell_type": "code",
      "execution_count": 10,
      "id": "d7c0ce2e",
      "metadata": {
        "colab": {
          "base_uri": "https://localhost:8080/",
          "height": 563
        },
        "id": "d7c0ce2e",
        "outputId": "853bd4ca-af7d-4c81-9d9d-92ec6eddbef2"
      },
      "outputs": [
        {
          "data": {
            "text/plain": [
              "Text(0.5, 1.0, 'Comparision Of 100 Days And 200 Days Moving Averages')"
            ]
          },
          "execution_count": 10,
          "metadata": {},
          "output_type": "execute_result"
        },
        {
          "data": {
            "image/png": "[encoded data removed]",
            "text/plain": [
              "<Figure size 1200x600 with 1 Axes>"
            ]
          },
          "metadata": {},
          "output_type": "display_data"
        }
      ],
      "source": [
        "plt.figure(figsize = (12,6))\n",
        "plt.plot(df.Close)\n",
        "plt.plot(ma100, 'r')\n",
        "plt.plot(ma200, 'g')\n",
        "plt.grid(True)\n",
        "plt.title('Comparision Of 100 Days And 200 Days Moving Averages')"
      ]
    },
    {
      "cell_type": "code",
      "execution_count": 11,
      "id": "45a099a7",
      "metadata": {
        "colab": {
          "base_uri": "https://localhost:8080/"
        },
        "id": "45a099a7",
        "outputId": "c3685930-176a-4c2d-b391-69866c4637c5"
      },
      "outputs": [
        {
          "data": {
            "text/plain": [
              "(2320, 5)"
            ]
          },
          "execution_count": 11,
          "metadata": {},
          "output_type": "execute_result"
        }
      ],
      "source": [
        "df.shape"
      ]
    },
    {
      "cell_type": "markdown",
      "id": "bCw5fsrlmfpm",
      "metadata": {
        "id": "bCw5fsrlmfpm"
      },
      "source": [
        "# Spliting the dataset into training (70%) and testing (30%) set"
      ]
    },
    {
      "cell_type": "code",
      "execution_count": 12,
      "id": "9610c5fc",
      "metadata": {
        "colab": {
          "base_uri": "https://localhost:8080/"
        },
        "id": "9610c5fc",
        "outputId": "56ee8fcd-ce88-4705-f511-b030a00712c0"
      },
      "outputs": [
        {
          "name": "stdout",
          "output_type": "stream",
          "text": [
            "(1624, 7)\n",
            "(696, 7)\n"
          ]
        }
      ],
      "source": [
        "# Splitting data into training and testing\n",
        "\n",
        "train = pd.DataFrame(data[0:int(len(data)*0.70)])\n",
        "test = pd.DataFrame(data[int(len(data)*0.70): int(len(data))])\n",
        "\n",
        "print(train.shape)\n",
        "print(test.shape)"
      ]
    },
    {
      "cell_type": "code",
      "execution_count": 13,
      "id": "2cb33dc0",
      "metadata": {
        "colab": {
          "base_uri": "https://localhost:8080/",
          "height": 206
        },
        "id": "2cb33dc0",
        "outputId": "bccf505c-0272-48e4-8b35-138abd6723dd"
      },
      "outputs": [
        {
          "data": {
            "text/html": [
              "<div>\n",
              "<style scoped>\n",
              "    .dataframe tbody tr th:only-of-type {\n",
              "        vertical-align: middle;\n",
              "    }\n",
              "\n",
              "    .dataframe tbody tr th {\n",
              "        vertical-align: top;\n",
              "    }\n",
              "\n",
              "    .dataframe thead th {\n",
              "        text-align: right;\n",
              "    }\n",
              "</style>\n",
              "<table border=\"1\" class=\"dataframe\">\n",
              "  <thead>\n",
              "    <tr style=\"text-align: right;\">\n",
              "      <th></th>\n",
              "      <th>Date</th>\n",
              "      <th>Open</th>\n",
              "      <th>High</th>\n",
              "      <th>Low</th>\n",
              "      <th>Close</th>\n",
              "      <th>Adj Close</th>\n",
              "      <th>Volume</th>\n",
              "    </tr>\n",
              "  </thead>\n",
              "  <tbody>\n",
              "    <tr>\n",
              "      <th>0</th>\n",
              "      <td>2015-01-01</td>\n",
              "      <td>1283.500000</td>\n",
              "      <td>1283.500000</td>\n",
              "      <td>1270.500000</td>\n",
              "      <td>1272.775024</td>\n",
              "      <td>1054.449829</td>\n",
              "      <td>366830</td>\n",
              "    </tr>\n",
              "    <tr>\n",
              "      <th>1</th>\n",
              "      <td>2015-01-02</td>\n",
              "      <td>1275.500000</td>\n",
              "      <td>1295.474976</td>\n",
              "      <td>1275.300049</td>\n",
              "      <td>1289.724976</td>\n",
              "      <td>1068.492188</td>\n",
              "      <td>925740</td>\n",
              "    </tr>\n",
              "    <tr>\n",
              "      <th>2</th>\n",
              "      <td>2015-01-05</td>\n",
              "      <td>1290.500000</td>\n",
              "      <td>1299.949951</td>\n",
              "      <td>1262.324951</td>\n",
              "      <td>1270.125000</td>\n",
              "      <td>1052.254150</td>\n",
              "      <td>1754242</td>\n",
              "    </tr>\n",
              "    <tr>\n",
              "      <th>3</th>\n",
              "      <td>2015-01-06</td>\n",
              "      <td>1264.550049</td>\n",
              "      <td>1264.550049</td>\n",
              "      <td>1220.000000</td>\n",
              "      <td>1223.300049</td>\n",
              "      <td>1013.461548</td>\n",
              "      <td>2423784</td>\n",
              "    </tr>\n",
              "    <tr>\n",
              "      <th>4</th>\n",
              "      <td>2015-01-07</td>\n",
              "      <td>1235.000000</td>\n",
              "      <td>1239.574951</td>\n",
              "      <td>1203.724976</td>\n",
              "      <td>1208.849976</td>\n",
              "      <td>1001.489868</td>\n",
              "      <td>2636332</td>\n",
              "    </tr>\n",
              "  </tbody>\n",
              "</table>\n",
              "</div>"
            ],
            "text/plain": [
              "        Date         Open         High          Low        Close    Adj Close  \\\n",
              "0 2015-01-01  1283.500000  1283.500000  1270.500000  1272.775024  1054.449829   \n",
              "1 2015-01-02  1275.500000  1295.474976  1275.300049  1289.724976  1068.492188   \n",
              "2 2015-01-05  1290.500000  1299.949951  1262.324951  1270.125000  1052.254150   \n",
              "3 2015-01-06  1264.550049  1264.550049  1220.000000  1223.300049  1013.461548   \n",
              "4 2015-01-07  1235.000000  1239.574951  1203.724976  1208.849976  1001.489868   \n",
              "\n",
              "    Volume  \n",
              "0   366830  \n",
              "1   925740  \n",
              "2  1754242  \n",
              "3  2423784  \n",
              "4  2636332  "
            ]
          },
          "execution_count": 13,
          "metadata": {},
          "output_type": "execute_result"
        }
      ],
      "source": [
        "train.head()"
      ]
    },
    {
      "cell_type": "code",
      "execution_count": 14,
      "id": "91f5ef8b",
      "metadata": {
        "colab": {
          "base_uri": "https://localhost:8080/",
          "height": 206
        },
        "id": "91f5ef8b",
        "outputId": "8e92506b-b4ea-4eec-c643-0f6e2d34bb90"
      },
      "outputs": [
        {
          "data": {
            "text/html": [
              "<div>\n",
              "<style scoped>\n",
              "    .dataframe tbody tr th:only-of-type {\n",
              "        vertical-align: middle;\n",
              "    }\n",
              "\n",
              "    .dataframe tbody tr th {\n",
              "        vertical-align: top;\n",
              "    }\n",
              "\n",
              "    .dataframe thead th {\n",
              "        text-align: right;\n",
              "    }\n",
              "</style>\n",
              "<table border=\"1\" class=\"dataframe\">\n",
              "  <thead>\n",
              "    <tr style=\"text-align: right;\">\n",
              "      <th></th>\n",
              "      <th>Date</th>\n",
              "      <th>Open</th>\n",
              "      <th>High</th>\n",
              "      <th>Low</th>\n",
              "      <th>Close</th>\n",
              "      <th>Adj Close</th>\n",
              "      <th>Volume</th>\n",
              "    </tr>\n",
              "  </thead>\n",
              "  <tbody>\n",
              "    <tr>\n",
              "      <th>1624</th>\n",
              "      <td>2021-08-03</td>\n",
              "      <td>3229.000000</td>\n",
              "      <td>3290.000000</td>\n",
              "      <td>3218.949951</td>\n",
              "      <td>3284.899902</td>\n",
              "      <td>3093.240723</td>\n",
              "      <td>3804735</td>\n",
              "    </tr>\n",
              "    <tr>\n",
              "      <th>1625</th>\n",
              "      <td>2021-08-04</td>\n",
              "      <td>3300.000000</td>\n",
              "      <td>3305.199951</td>\n",
              "      <td>3261.199951</td>\n",
              "      <td>3273.949951</td>\n",
              "      <td>3082.929932</td>\n",
              "      <td>2929598</td>\n",
              "    </tr>\n",
              "    <tr>\n",
              "      <th>1626</th>\n",
              "      <td>2021-08-05</td>\n",
              "      <td>3275.000000</td>\n",
              "      <td>3315.000000</td>\n",
              "      <td>3262.500000</td>\n",
              "      <td>3283.949951</td>\n",
              "      <td>3092.346680</td>\n",
              "      <td>2534521</td>\n",
              "    </tr>\n",
              "    <tr>\n",
              "      <th>1627</th>\n",
              "      <td>2021-08-06</td>\n",
              "      <td>3272.550049</td>\n",
              "      <td>3324.000000</td>\n",
              "      <td>3265.000000</td>\n",
              "      <td>3309.800049</td>\n",
              "      <td>3116.688477</td>\n",
              "      <td>2292362</td>\n",
              "    </tr>\n",
              "    <tr>\n",
              "      <th>1628</th>\n",
              "      <td>2021-08-09</td>\n",
              "      <td>3323.899902</td>\n",
              "      <td>3337.000000</td>\n",
              "      <td>3310.000000</td>\n",
              "      <td>3322.699951</td>\n",
              "      <td>3128.835693</td>\n",
              "      <td>1510489</td>\n",
              "    </tr>\n",
              "  </tbody>\n",
              "</table>\n",
              "</div>"
            ],
            "text/plain": [
              "           Date         Open         High          Low        Close  \\\n",
              "1624 2021-08-03  3229.000000  3290.000000  3218.949951  3284.899902   \n",
              "1625 2021-08-04  3300.000000  3305.199951  3261.199951  3273.949951   \n",
              "1626 2021-08-05  3275.000000  3315.000000  3262.500000  3283.949951   \n",
              "1627 2021-08-06  3272.550049  3324.000000  3265.000000  3309.800049   \n",
              "1628 2021-08-09  3323.899902  3337.000000  3310.000000  3322.699951   \n",
              "\n",
              "        Adj Close   Volume  \n",
              "1624  3093.240723  3804735  \n",
              "1625  3082.929932  2929598  \n",
              "1626  3092.346680  2534521  \n",
              "1627  3116.688477  2292362  \n",
              "1628  3128.835693  1510489  "
            ]
          },
          "execution_count": 14,
          "metadata": {},
          "output_type": "execute_result"
        }
      ],
      "source": [
        "test.head()"
      ]
    },
    {
      "cell_type": "markdown",
      "id": "-a818gdwm_WV",
      "metadata": {
        "id": "-a818gdwm_WV"
      },
      "source": [
        "# Using MinMax scaler for normalization of the dataset\n",
        "\n",
        "---\n",
        "\n"
      ]
    },
    {
      "cell_type": "code",
      "execution_count": 15,
      "id": "01f04df7",
      "metadata": {
        "id": "01f04df7"
      },
      "outputs": [],
      "source": [
        "from sklearn.preprocessing import MinMaxScaler\n",
        "scaler = MinMaxScaler(feature_range=(0,1))"
      ]
    },
    {
      "cell_type": "code",
      "execution_count": 16,
      "id": "53oSB51dB6Tw",
      "metadata": {
        "id": "53oSB51dB6Tw"
      },
      "outputs": [],
      "source": [
        "train_close = train.iloc[:, 4:5].values\n",
        "test_close = test.iloc[:, 4:5].values"
      ]
    },
    {
      "cell_type": "code",
      "execution_count": 17,
      "id": "d97e7ff8",
      "metadata": {
        "colab": {
          "base_uri": "https://localhost:8080/"
        },
        "id": "d97e7ff8",
        "outputId": "eae5e982-ee9f-4be5-af17-b78fc6e6dd45"
      },
      "outputs": [
        {
          "data": {
            "text/plain": [
              "array([[0.09535563],\n",
              "       [0.10262958],\n",
              "       [0.09421839],\n",
              "       ...,\n",
              "       [0.92060853],\n",
              "       [0.90844228],\n",
              "       [0.93073624]])"
            ]
          },
          "execution_count": 17,
          "metadata": {},
          "output_type": "execute_result"
        }
      ],
      "source": [
        "data_training_array = scaler.fit_transform(train_close)\n",
        "data_training_array"
      ]
    },
    {
      "cell_type": "code",
      "execution_count": 18,
      "id": "10227978",
      "metadata": {
        "id": "10227978"
      },
      "outputs": [],
      "source": [
        "x_train = []\n",
        "y_train = [] \n",
        "\n",
        "for i in range(100, data_training_array.shape[0]):\n",
        "    x_train.append(data_training_array[i-100: i])\n",
        "    y_train.append(data_training_array[i, 0])\n",
        "\n",
        "x_train, y_train = np.array(x_train), np.array(y_train) "
      ]
    },
    {
      "cell_type": "code",
      "execution_count": 19,
      "id": "0ea6446e",
      "metadata": {
        "colab": {
          "base_uri": "https://localhost:8080/"
        },
        "id": "0ea6446e",
        "outputId": "16c4a903-7a88-43c7-e30b-89149f057b75"
      },
      "outputs": [
        {
          "data": {
            "text/plain": [
              "(1524, 100, 1)"
            ]
          },
          "execution_count": 19,
          "metadata": {},
          "output_type": "execute_result"
        }
      ],
      "source": [
        "x_train.shape"
      ]
    },
    {
      "cell_type": "markdown",
      "id": "dsMIlQ8DnVOJ",
      "metadata": {
        "id": "dsMIlQ8DnVOJ"
      },
      "source": [
        "# ML Model (LSTM)\n",
        "\n",
        "---\n",
        "\n"
      ]
    },
    {
      "cell_type": "code",
      "execution_count": 20,
      "id": "e60ed317",
      "metadata": {
        "id": "e60ed317"
      },
      "outputs": [],
      "source": [
        "from tensorflow.keras.layers import Dense, Dropout, LSTM\n",
        "from tensorflow.keras.models import Sequential"
      ]
    },
    {
      "cell_type": "code",
      "execution_count": 21,
      "id": "17082610",
      "metadata": {
        "colab": {
          "base_uri": "https://localhost:8080/"
        },
        "id": "17082610",
        "outputId": "e3a8a228-487d-40be-a6ce-7e999581b9d1"
      },
      "outputs": [
        {
          "name": "stderr",
          "output_type": "stream",
          "text": [
            "c:\\Users\\AI\\AppData\\Local\\Programs\\Python\\Python311\\Lib\\site-packages\\keras\\src\\layers\\rnn\\rnn.py:205: UserWarning: Do not pass an `input_shape`/`input_dim` argument to a layer. When using Sequential models, prefer using an `Input(shape)` object as the first layer in the model instead.\n",
            "  super().__init__(**kwargs)\n"
          ]
        }
      ],
      "source": [
        "model = Sequential()\n",
        "model.add(LSTM(units = 50, activation = 'relu', return_sequences=True\n",
        "              ,input_shape = (x_train.shape[1], 1)))\n",
        "model.add(Dropout(0.2))\n",
        "\n",
        "\n",
        "model.add(LSTM(units = 60, activation = 'relu', return_sequences=True))\n",
        "model.add(Dropout(0.3))\n",
        "\n",
        "\n",
        "model.add(LSTM(units = 80, activation = 'relu', return_sequences=True))\n",
        "model.add(Dropout(0.4))\n",
        "\n",
        "\n",
        "model.add(LSTM(units = 120, activation = 'relu'))\n",
        "model.add(Dropout(0.5))\n",
        "\n",
        "model.add(Dense(units = 1))"
      ]
    },
    {
      "cell_type": "code",
      "execution_count": 22,
      "id": "5f5a1db3",
      "metadata": {
        "colab": {
          "base_uri": "https://localhost:8080/"
        },
        "id": "5f5a1db3",
        "outputId": "23244ace-c6af-46ed-e068-77c1cd563dd0"
      },
      "outputs": [
        {
          "data": {
            "text/html": [
              "<pre style=\"white-space:pre;overflow-x:auto;line-height:normal;font-family:Menlo,'DejaVu Sans Mono',consolas,'Courier New',monospace\"><span style=\"font-weight: bold\">Model: \"sequential\"</span>\n",
              "</pre>\n"
            ],
            "text/plain": [
              "\u001b[1mModel: \"sequential\"\u001b[0m\n"
            ]
          },
          "metadata": {},
          "output_type": "display_data"
        },
        {
          "data": {
            "text/html": [
              "<pre style=\"white-space:pre;overflow-x:auto;line-height:normal;font-family:Menlo,'DejaVu Sans Mono',consolas,'Courier New',monospace\">┏━━━━━━━━━━━━━━━━━━━━━━━━━━━━━━━━━┳━━━━━━━━━━━━━━━━━━━━━━━━━━━┳━━━━━━━━━━━━┓\n",
              "┃<span style=\"font-weight: bold\"> Layer (type)                    </span>┃<span style=\"font-weight: bold\"> Output Shape              </span>┃<span style=\"font-weight: bold\">    Param # </span>┃\n",
              "┡━━━━━━━━━━━━━━━━━━━━━━━━━━━━━━━━━╇━━━━━━━━━━━━━━━━━━━━━━━━━━━╇━━━━━━━━━━━━┩\n",
              "│ lstm (<span style=\"color: #0087ff; text-decoration-color: #0087ff\">LSTM</span>)                     │ (<span style=\"color: #00d7ff; text-decoration-color: #00d7ff\">None</span>, <span style=\"color: #00af00; text-decoration-color: #00af00\">100</span>, <span style=\"color: #00af00; text-decoration-color: #00af00\">50</span>)           │     <span style=\"color: #00af00; text-decoration-color: #00af00\">10,400</span> │\n",
              "├─────────────────────────────────┼───────────────────────────┼────────────┤\n",
              "│ dropout (<span style=\"color: #0087ff; text-decoration-color: #0087ff\">Dropout</span>)               │ (<span style=\"color: #00d7ff; text-decoration-color: #00d7ff\">None</span>, <span style=\"color: #00af00; text-decoration-color: #00af00\">100</span>, <span style=\"color: #00af00; text-decoration-color: #00af00\">50</span>)           │          <span style=\"color: #00af00; text-decoration-color: #00af00\">0</span> │\n",
              "├─────────────────────────────────┼───────────────────────────┼────────────┤\n",
              "│ lstm_1 (<span style=\"color: #0087ff; text-decoration-color: #0087ff\">LSTM</span>)                   │ (<span style=\"color: #00d7ff; text-decoration-color: #00d7ff\">None</span>, <span style=\"color: #00af00; text-decoration-color: #00af00\">100</span>, <span style=\"color: #00af00; text-decoration-color: #00af00\">60</span>)           │     <span style=\"color: #00af00; text-decoration-color: #00af00\">26,640</span> │\n",
              "├─────────────────────────────────┼───────────────────────────┼────────────┤\n",
              "│ dropout_1 (<span style=\"color: #0087ff; text-decoration-color: #0087ff\">Dropout</span>)             │ (<span style=\"color: #00d7ff; text-decoration-color: #00d7ff\">None</span>, <span style=\"color: #00af00; text-decoration-color: #00af00\">100</span>, <span style=\"color: #00af00; text-decoration-color: #00af00\">60</span>)           │          <span style=\"color: #00af00; text-decoration-color: #00af00\">0</span> │\n",
              "├─────────────────────────────────┼───────────────────────────┼────────────┤\n",
              "│ lstm_2 (<span style=\"color: #0087ff; text-decoration-color: #0087ff\">LSTM</span>)                   │ (<span style=\"color: #00d7ff; text-decoration-color: #00d7ff\">None</span>, <span style=\"color: #00af00; text-decoration-color: #00af00\">100</span>, <span style=\"color: #00af00; text-decoration-color: #00af00\">80</span>)           │     <span style=\"color: #00af00; text-decoration-color: #00af00\">45,120</span> │\n",
              "├─────────────────────────────────┼───────────────────────────┼────────────┤\n",
              "│ dropout_2 (<span style=\"color: #0087ff; text-decoration-color: #0087ff\">Dropout</span>)             │ (<span style=\"color: #00d7ff; text-decoration-color: #00d7ff\">None</span>, <span style=\"color: #00af00; text-decoration-color: #00af00\">100</span>, <span style=\"color: #00af00; text-decoration-color: #00af00\">80</span>)           │          <span style=\"color: #00af00; text-decoration-color: #00af00\">0</span> │\n",
              "├─────────────────────────────────┼───────────────────────────┼────────────┤\n",
              "│ lstm_3 (<span style=\"color: #0087ff; text-decoration-color: #0087ff\">LSTM</span>)                   │ (<span style=\"color: #00d7ff; text-decoration-color: #00d7ff\">None</span>, <span style=\"color: #00af00; text-decoration-color: #00af00\">120</span>)               │     <span style=\"color: #00af00; text-decoration-color: #00af00\">96,480</span> │\n",
              "├─────────────────────────────────┼───────────────────────────┼────────────┤\n",
              "│ dropout_3 (<span style=\"color: #0087ff; text-decoration-color: #0087ff\">Dropout</span>)             │ (<span style=\"color: #00d7ff; text-decoration-color: #00d7ff\">None</span>, <span style=\"color: #00af00; text-decoration-color: #00af00\">120</span>)               │          <span style=\"color: #00af00; text-decoration-color: #00af00\">0</span> │\n",
              "├─────────────────────────────────┼───────────────────────────┼────────────┤\n",
              "│ dense (<span style=\"color: #0087ff; text-decoration-color: #0087ff\">Dense</span>)                   │ (<span style=\"color: #00d7ff; text-decoration-color: #00d7ff\">None</span>, <span style=\"color: #00af00; text-decoration-color: #00af00\">1</span>)                 │        <span style=\"color: #00af00; text-decoration-color: #00af00\">121</span> │\n",
              "└─────────────────────────────────┴───────────────────────────┴────────────┘\n",
              "</pre>\n"
            ],
            "text/plain": [
              "┏━━━━━━━━━━━━━━━━━━━━━━━━━━━━━━━━━┳━━━━━━━━━━━━━━━━━━━━━━━━━━━┳━━━━━━━━━━━━┓\n",
              "┃\u001b[1m \u001b[0m\u001b[1mLayer (type)                   \u001b[0m\u001b[1m \u001b[0m┃\u001b[1m \u001b[0m\u001b[1mOutput Shape             \u001b[0m\u001b[1m \u001b[0m┃\u001b[1m \u001b[0m\u001b[1m   Param #\u001b[0m\u001b[1m \u001b[0m┃\n",
              "┡━━━━━━━━━━━━━━━━━━━━━━━━━━━━━━━━━╇━━━━━━━━━━━━━━━━━━━━━━━━━━━╇━━━━━━━━━━━━┩\n",
              "│ lstm (\u001b[38;5;33mLSTM\u001b[0m)                     │ (\u001b[38;5;45mNone\u001b[0m, \u001b[38;5;34m100\u001b[0m, \u001b[38;5;34m50\u001b[0m)           │     \u001b[38;5;34m10,400\u001b[0m │\n",
              "├─────────────────────────────────┼───────────────────────────┼────────────┤\n",
              "│ dropout (\u001b[38;5;33mDropout\u001b[0m)               │ (\u001b[38;5;45mNone\u001b[0m, \u001b[38;5;34m100\u001b[0m, \u001b[38;5;34m50\u001b[0m)           │          \u001b[38;5;34m0\u001b[0m │\n",
              "├─────────────────────────────────┼───────────────────────────┼────────────┤\n",
              "│ lstm_1 (\u001b[38;5;33mLSTM\u001b[0m)                   │ (\u001b[38;5;45mNone\u001b[0m, \u001b[38;5;34m100\u001b[0m, \u001b[38;5;34m60\u001b[0m)           │     \u001b[38;5;34m26,640\u001b[0m │\n",
              "├─────────────────────────────────┼───────────────────────────┼────────────┤\n",
              "│ dropout_1 (\u001b[38;5;33mDropout\u001b[0m)             │ (\u001b[38;5;45mNone\u001b[0m, \u001b[38;5;34m100\u001b[0m, \u001b[38;5;34m60\u001b[0m)           │          \u001b[38;5;34m0\u001b[0m │\n",
              "├─────────────────────────────────┼───────────────────────────┼────────────┤\n",
              "│ lstm_2 (\u001b[38;5;33mLSTM\u001b[0m)                   │ (\u001b[38;5;45mNone\u001b[0m, \u001b[38;5;34m100\u001b[0m, \u001b[38;5;34m80\u001b[0m)           │     \u001b[38;5;34m45,120\u001b[0m │\n",
              "├─────────────────────────────────┼───────────────────────────┼────────────┤\n",
              "│ dropout_2 (\u001b[38;5;33mDropout\u001b[0m)             │ (\u001b[38;5;45mNone\u001b[0m, \u001b[38;5;34m100\u001b[0m, \u001b[38;5;34m80\u001b[0m)           │          \u001b[38;5;34m0\u001b[0m │\n",
              "├─────────────────────────────────┼───────────────────────────┼────────────┤\n",
              "│ lstm_3 (\u001b[38;5;33mLSTM\u001b[0m)                   │ (\u001b[38;5;45mNone\u001b[0m, \u001b[38;5;34m120\u001b[0m)               │     \u001b[38;5;34m96,480\u001b[0m │\n",
              "├─────────────────────────────────┼───────────────────────────┼────────────┤\n",
              "│ dropout_3 (\u001b[38;5;33mDropout\u001b[0m)             │ (\u001b[38;5;45mNone\u001b[0m, \u001b[38;5;34m120\u001b[0m)               │          \u001b[38;5;34m0\u001b[0m │\n",
              "├─────────────────────────────────┼───────────────────────────┼────────────┤\n",
              "│ dense (\u001b[38;5;33mDense\u001b[0m)                   │ (\u001b[38;5;45mNone\u001b[0m, \u001b[38;5;34m1\u001b[0m)                 │        \u001b[38;5;34m121\u001b[0m │\n",
              "└─────────────────────────────────┴───────────────────────────┴────────────┘\n"
            ]
          },
          "metadata": {},
          "output_type": "display_data"
        },
        {
          "data": {
            "text/html": [
              "<pre style=\"white-space:pre;overflow-x:auto;line-height:normal;font-family:Menlo,'DejaVu Sans Mono',consolas,'Courier New',monospace\"><span style=\"font-weight: bold\"> Total params: </span><span style=\"color: #00af00; text-decoration-color: #00af00\">178,761</span> (698.29 KB)\n",
              "</pre>\n"
            ],
            "text/plain": [
              "\u001b[1m Total params: \u001b[0m\u001b[38;5;34m178,761\u001b[0m (698.29 KB)\n"
            ]
          },
          "metadata": {},
          "output_type": "display_data"
        },
        {
          "data": {
            "text/html": [
              "<pre style=\"white-space:pre;overflow-x:auto;line-height:normal;font-family:Menlo,'DejaVu Sans Mono',consolas,'Courier New',monospace\"><span style=\"font-weight: bold\"> Trainable params: </span><span style=\"color: #00af00; text-decoration-color: #00af00\">178,761</span> (698.29 KB)\n",
              "</pre>\n"
            ],
            "text/plain": [
              "\u001b[1m Trainable params: \u001b[0m\u001b[38;5;34m178,761\u001b[0m (698.29 KB)\n"
            ]
          },
          "metadata": {},
          "output_type": "display_data"
        },
        {
          "data": {
            "text/html": [
              "<pre style=\"white-space:pre;overflow-x:auto;line-height:normal;font-family:Menlo,'DejaVu Sans Mono',consolas,'Courier New',monospace\"><span style=\"font-weight: bold\"> Non-trainable params: </span><span style=\"color: #00af00; text-decoration-color: #00af00\">0</span> (0.00 B)\n",
              "</pre>\n"
            ],
            "text/plain": [
              "\u001b[1m Non-trainable params: \u001b[0m\u001b[38;5;34m0\u001b[0m (0.00 B)\n"
            ]
          },
          "metadata": {},
          "output_type": "display_data"
        }
      ],
      "source": [
        "model.summary()"
      ]
    },
    {
      "cell_type": "markdown",
      "id": "KgEnUfCnn_1r",
      "metadata": {
        "id": "KgEnUfCnn_1r"
      },
      "source": [
        "# Training the model\n",
        "\n",
        "---\n",
        "\n"
      ]
    },
    {
      "cell_type": "code",
      "execution_count": 23,
      "id": "1d0c9b64",
      "metadata": {
        "colab": {
          "base_uri": "https://localhost:8080/"
        },
        "id": "1d0c9b64",
        "outputId": "8014670b-4fcf-4fe9-d60a-786b45c8b88c",
        "scrolled": false
      },
      "outputs": [
        {
          "name": "stdout",
          "output_type": "stream",
          "text": [
            "Epoch 1/10\n",
            "\u001b[1m48/48\u001b[0m \u001b[32m━━━━━━━━━━━━━━━━━━━━\u001b[0m\u001b[37m\u001b[0m \u001b[1m15s\u001b[0m 157ms/step - loss: 0.0878 - mean_absolute_error: 0.2117\n",
            "Epoch 2/10\n",
            "\u001b[1m48/48\u001b[0m \u001b[32m━━━━━━━━━━━━━━━━━━━━\u001b[0m\u001b[37m\u001b[0m \u001b[1m7s\u001b[0m 152ms/step - loss: 0.0089 - mean_absolute_error: 0.0661\n",
            "Epoch 3/10\n",
            "\u001b[1m48/48\u001b[0m \u001b[32m━━━━━━━━━━━━━━━━━━━━\u001b[0m\u001b[37m\u001b[0m \u001b[1m9s\u001b[0m 194ms/step - loss: 0.0072 - mean_absolute_error: 0.0564\n",
            "Epoch 4/10\n",
            "\u001b[1m48/48\u001b[0m \u001b[32m━━━━━━━━━━━━━━━━━━━━\u001b[0m\u001b[37m\u001b[0m \u001b[1m8s\u001b[0m 165ms/step - loss: 0.0070 - mean_absolute_error: 0.0543\n",
            "Epoch 5/10\n",
            "\u001b[1m48/48\u001b[0m \u001b[32m━━━━━━━━━━━━━━━━━━━━\u001b[0m\u001b[37m\u001b[0m \u001b[1m8s\u001b[0m 164ms/step - loss: 0.0068 - mean_absolute_error: 0.0562\n",
            "Epoch 6/10\n",
            "\u001b[1m48/48\u001b[0m \u001b[32m━━━━━━━━━━━━━━━━━━━━\u001b[0m\u001b[37m\u001b[0m \u001b[1m8s\u001b[0m 161ms/step - loss: 0.0071 - mean_absolute_error: 0.0559\n",
            "Epoch 7/10\n",
            "\u001b[1m48/48\u001b[0m \u001b[32m━━━━━━━━━━━━━━━━━━━━\u001b[0m\u001b[37m\u001b[0m \u001b[1m8s\u001b[0m 158ms/step - loss: 0.0064 - mean_absolute_error: 0.0539\n",
            "Epoch 8/10\n",
            "\u001b[1m48/48\u001b[0m \u001b[32m━━━━━━━━━━━━━━━━━━━━\u001b[0m\u001b[37m\u001b[0m \u001b[1m8s\u001b[0m 162ms/step - loss: 0.0061 - mean_absolute_error: 0.0524\n",
            "Epoch 9/10\n",
            "\u001b[1m48/48\u001b[0m \u001b[32m━━━━━━━━━━━━━━━━━━━━\u001b[0m\u001b[37m\u001b[0m \u001b[1m8s\u001b[0m 161ms/step - loss: 0.0056 - mean_absolute_error: 0.0513\n",
            "Epoch 10/10\n",
            "\u001b[1m48/48\u001b[0m \u001b[32m━━━━━━━━━━━━━━━━━━━━\u001b[0m\u001b[37m\u001b[0m \u001b[1m10s\u001b[0m 150ms/step - loss: 0.0050 - mean_absolute_error: 0.0489\n"
          ]
        },
        {
          "data": {
            "text/plain": [
              "<keras.src.callbacks.history.History at 0x164b66df950>"
            ]
          },
          "execution_count": 23,
          "metadata": {},
          "output_type": "execute_result"
        }
      ],
      "source": [
        "import tensorflow as tf\n",
        "model.compile(optimizer = 'adam', loss = 'mean_squared_error', metrics=[tf.keras.metrics.MeanAbsoluteError()])\n",
        "model.fit(x_train, y_train,epochs = 10)"
      ]
    },
    {
      "cell_type": "code",
      "execution_count": 24,
      "id": "zG1W6DhzI-hP",
      "metadata": {
        "id": "zG1W6DhzI-hP"
      },
      "outputs": [
        {
          "name": "stderr",
          "output_type": "stream",
          "text": [
            "c:\\Users\\AI\\AppData\\Local\\Programs\\Python\\Python311\\Lib\\site-packages\\keras\\src\\models\\model.py:342: UserWarning: You are saving your model as an HDF5 file via `model.save()`. This file format is considered legacy. We recommend using instead the native Keras format, e.g. `model.save('my_model.keras')`.\n",
            "  warnings.warn(\n"
          ]
        }
      ],
      "source": [
        "model.save('keras_model.h5')"
      ]
    },
    {
      "cell_type": "code",
      "execution_count": 25,
      "id": "khcKI1sSJSJB",
      "metadata": {
        "colab": {
          "base_uri": "https://localhost:8080/"
        },
        "id": "khcKI1sSJSJB",
        "outputId": "22c3f1bf-201a-4a60-ec6f-3be005f87ab1"
      },
      "outputs": [
        {
          "data": {
            "text/plain": [
              "(696, 1)"
            ]
          },
          "execution_count": 25,
          "metadata": {},
          "output_type": "execute_result"
        }
      ],
      "source": [
        "test_close.shape"
      ]
    },
    {
      "cell_type": "code",
      "execution_count": 26,
      "id": "6QyF-7KbKaGt",
      "metadata": {
        "id": "6QyF-7KbKaGt"
      },
      "outputs": [],
      "source": [
        "past_100_days = pd.DataFrame(train_close[-100:])"
      ]
    },
    {
      "cell_type": "code",
      "execution_count": 27,
      "id": "pKsjLCyGLuOz",
      "metadata": {
        "id": "pKsjLCyGLuOz"
      },
      "outputs": [],
      "source": [
        "test_df = pd.DataFrame(test_close)"
      ]
    },
    {
      "cell_type": "markdown",
      "id": "d9ZKAzB8oKXJ",
      "metadata": {
        "id": "d9ZKAzB8oKXJ"
      },
      "source": [
        "**Defining the final dataset for testing by including last 100 coloums of the training dataset to get the prediction from the 1st column of the testing dataset.**\n",
        "\n",
        "---\n"
      ]
    },
    {
      "cell_type": "code",
      "execution_count": 30,
      "id": "UUapqTcVLOj-",
      "metadata": {
        "colab": {
          "base_uri": "https://localhost:8080/"
        },
        "id": "UUapqTcVLOj-",
        "outputId": "0b06f215-d627-419d-8e78-461a857ccf4d"
      },
      "outputs": [],
      "source": [
        "final_df = pd.concat([past_100_days, test_df], ignore_index=True)\n"
      ]
    },
    {
      "cell_type": "code",
      "execution_count": 31,
      "id": "L5gFYc1hMRjS",
      "metadata": {
        "colab": {
          "base_uri": "https://localhost:8080/",
          "height": 206
        },
        "id": "L5gFYc1hMRjS",
        "outputId": "200e81cd-e7d8-4d77-d727-6d5918b2e074"
      },
      "outputs": [
        {
          "data": {
            "text/html": [
              "<div>\n",
              "<style scoped>\n",
              "    .dataframe tbody tr th:only-of-type {\n",
              "        vertical-align: middle;\n",
              "    }\n",
              "\n",
              "    .dataframe tbody tr th {\n",
              "        vertical-align: top;\n",
              "    }\n",
              "\n",
              "    .dataframe thead th {\n",
              "        text-align: right;\n",
              "    }\n",
              "</style>\n",
              "<table border=\"1\" class=\"dataframe\">\n",
              "  <thead>\n",
              "    <tr style=\"text-align: right;\">\n",
              "      <th></th>\n",
              "      <th>0</th>\n",
              "    </tr>\n",
              "  </thead>\n",
              "  <tbody>\n",
              "    <tr>\n",
              "      <th>0</th>\n",
              "      <td>3008.050049</td>\n",
              "    </tr>\n",
              "    <tr>\n",
              "      <th>1</th>\n",
              "      <td>3006.949951</td>\n",
              "    </tr>\n",
              "    <tr>\n",
              "      <th>2</th>\n",
              "      <td>3050.949951</td>\n",
              "    </tr>\n",
              "    <tr>\n",
              "      <th>3</th>\n",
              "      <td>3070.949951</td>\n",
              "    </tr>\n",
              "    <tr>\n",
              "      <th>4</th>\n",
              "      <td>3057.949951</td>\n",
              "    </tr>\n",
              "  </tbody>\n",
              "</table>\n",
              "</div>"
            ],
            "text/plain": [
              "             0\n",
              "0  3008.050049\n",
              "1  3006.949951\n",
              "2  3050.949951\n",
              "3  3070.949951\n",
              "4  3057.949951"
            ]
          },
          "execution_count": 31,
          "metadata": {},
          "output_type": "execute_result"
        }
      ],
      "source": [
        "final_df.head()"
      ]
    },
    {
      "cell_type": "code",
      "execution_count": 32,
      "id": "BU7BPmzvMZpZ",
      "metadata": {
        "colab": {
          "base_uri": "https://localhost:8080/"
        },
        "id": "BU7BPmzvMZpZ",
        "outputId": "385dad96-22ef-4fe8-8aea-0a5ce1a7f6a6"
      },
      "outputs": [
        {
          "data": {
            "text/plain": [
              "array([[0.0210152 ],\n",
              "       [0.02012601],\n",
              "       [0.05569019],\n",
              "       [0.07185573],\n",
              "       [0.06134813],\n",
              "       [0.06797596],\n",
              "       [0.10345943],\n",
              "       [0.10580335],\n",
              "       [0.04401063],\n",
              "       [0.05508398],\n",
              "       [0.11930154],\n",
              "       [0.12976888],\n",
              "       [0.11239093],\n",
              "       [0.06692536],\n",
              "       [0.06850146],\n",
              "       [0.14266085],\n",
              "       [0.15826063],\n",
              "       [0.1478742 ],\n",
              "       [0.20760577],\n",
              "       [0.22845935],\n",
              "       [0.23387477],\n",
              "       [0.27101525],\n",
              "       [0.27497572],\n",
              "       [0.21378921],\n",
              "       [0.09860977],\n",
              "       [0.19148069],\n",
              "       [0.17224366],\n",
              "       [0.14528775],\n",
              "       [0.13134498],\n",
              "       [0.11053185],\n",
              "       [0.10301484],\n",
              "       [0.09598287],\n",
              "       [0.12120106],\n",
              "       [0.11481576],\n",
              "       [0.10766243],\n",
              "       [0.04332352],\n",
              "       [0.04441477],\n",
              "       [0.0547203 ],\n",
              "       [0.09186058],\n",
              "       [0.10459094],\n",
              "       [0.12192843],\n",
              "       [0.1321128 ],\n",
              "       [0.11360334],\n",
              "       [0.08531365],\n",
              "       [0.05613478],\n",
              "       [0.07088583],\n",
              "       [0.08628355],\n",
              "       [0.08078723],\n",
              "       [0.06300514],\n",
              "       [0.07957481],\n",
              "       [0.08038309],\n",
              "       [0.10665208],\n",
              "       [0.1426204 ],\n",
              "       [0.15999835],\n",
              "       [0.13057715],\n",
              "       [0.1431457 ],\n",
              "       [0.13817488],\n",
              "       [0.11913992],\n",
              "       [0.12867762],\n",
              "       [0.13069832],\n",
              "       [0.1625848 ],\n",
              "       [0.17628505],\n",
              "       [0.17636596],\n",
              "       [0.18974298],\n",
              "       [0.23581475],\n",
              "       [0.2378759 ],\n",
              "       [0.22688325],\n",
              "       [0.23625934],\n",
              "       [0.27133848],\n",
              "       [0.25480926],\n",
              "       [0.235249  ],\n",
              "       [0.25796146],\n",
              "       [0.225792  ],\n",
              "       [0.31648081],\n",
              "       [0.32230037],\n",
              "       [0.28669574],\n",
              "       [0.29000975],\n",
              "       [0.29397023],\n",
              "       [0.29053505],\n",
              "       [0.27756217],\n",
              "       [0.27396538],\n",
              "       [0.22651957],\n",
              "       [0.23674419],\n",
              "       [0.22344808],\n",
              "       [0.18275126],\n",
              "       [0.17058686],\n",
              "       [0.16610088],\n",
              "       [0.18792435],\n",
              "       [0.17854826],\n",
              "       [0.17196089],\n",
              "       [0.1637165 ],\n",
              "       [0.18085193],\n",
              "       [0.18937929],\n",
              "       [0.18655032],\n",
              "       [0.17418365],\n",
              "       [0.16238273],\n",
              "       [0.17438572],\n",
              "       [0.17276916],\n",
              "       [0.14985444],\n",
              "       [0.19184438],\n",
              "       [0.24478651],\n",
              "       [0.23593591],\n",
              "       [0.24401868],\n",
              "       [0.26491272],\n",
              "       [0.27533941],\n",
              "       [0.28439207],\n",
              "       [0.29271736],\n",
              "       [0.29881989],\n",
              "       [0.38906391],\n",
              "       [0.396783  ],\n",
              "       [0.46152604],\n",
              "       [0.46758812],\n",
              "       [0.46673939],\n",
              "       [0.52970407],\n",
              "       [0.51014381],\n",
              "       [0.54716293],\n",
              "       [0.55754937],\n",
              "       [0.59658898],\n",
              "       [0.58135308],\n",
              "       [0.65017777],\n",
              "       [0.59238598],\n",
              "       [0.69083413],\n",
              "       [0.69511804],\n",
              "       [0.70316035],\n",
              "       [0.67398148],\n",
              "       [0.64023592],\n",
              "       [0.6541787 ],\n",
              "       [0.69778539],\n",
              "       [0.73056085],\n",
              "       [0.78604917],\n",
              "       [0.74462499],\n",
              "       [0.68364054],\n",
              "       [0.68012446],\n",
              "       [0.71201094],\n",
              "       [0.71136428],\n",
              "       [0.71710312],\n",
              "       [0.71876013],\n",
              "       [0.69099575],\n",
              "       [0.64427731],\n",
              "       [0.65458284],\n",
              "       [0.64136763],\n",
              "       [0.6047122 ],\n",
              "       [0.63954901],\n",
              "       [0.68804561],\n",
              "       [0.6699401 ],\n",
              "       [0.73621879],\n",
              "       [0.77077262],\n",
              "       [0.56866317],\n",
              "       [0.54219211],\n",
              "       [0.54409144],\n",
              "       [0.50872933],\n",
              "       [0.53758477],\n",
              "       [0.52707717],\n",
              "       [0.50662793],\n",
              "       [0.44491592],\n",
              "       [0.41771748],\n",
              "       [0.41294853],\n",
              "       [0.40458298],\n",
              "       [0.41036208],\n",
              "       [0.35531836],\n",
              "       [0.33600062],\n",
              "       [0.39957151],\n",
              "       [0.40587611],\n",
              "       [0.41238278],\n",
              "       [0.42563844],\n",
              "       [0.42086968],\n",
              "       [0.42325406],\n",
              "       [0.40595702],\n",
              "       [0.40910922],\n",
              "       [0.43970257],\n",
              "       [0.46172811],\n",
              "       [0.46423365],\n",
              "       [0.4363481 ],\n",
              "       [0.39900576],\n",
              "       [0.38502253],\n",
              "       [0.38975103],\n",
              "       [0.37281767],\n",
              "       [0.37491907],\n",
              "       [0.37568709],\n",
              "       [0.42026348],\n",
              "       [0.44220811],\n",
              "       [0.4815309 ],\n",
              "       [0.5341496 ],\n",
              "       [0.53216936],\n",
              "       [0.44806812],\n",
              "       [0.48694631],\n",
              "       [0.52121717],\n",
              "       [0.50088908],\n",
              "       [0.52921923],\n",
              "       [0.50727439],\n",
              "       [0.51871163],\n",
              "       [0.47550927],\n",
              "       [0.48460239],\n",
              "       [0.48682515],\n",
              "       [0.46463779],\n",
              "       [0.50618334],\n",
              "       [0.52432911],\n",
              "       [0.55015352],\n",
              "       [0.55678135],\n",
              "       [0.57715008],\n",
              "       [0.58559653],\n",
              "       [0.57601837],\n",
              "       [0.60758162],\n",
              "       [0.61129977],\n",
              "       [0.67547687],\n",
              "       [0.72963142],\n",
              "       [0.71039439],\n",
              "       [0.66715158],\n",
              "       [0.70437277],\n",
              "       [0.72567094],\n",
              "       [0.75480916],\n",
              "       [0.70954566],\n",
              "       [0.74026018],\n",
              "       [0.79704162],\n",
              "       [0.83826374],\n",
              "       [0.81518759],\n",
              "       [0.75379881],\n",
              "       [0.68258975],\n",
              "       [0.68820723],\n",
              "       [0.63797291],\n",
              "       [0.63680075],\n",
              "       [0.53928223],\n",
              "       [0.57225996],\n",
              "       [0.60960231],\n",
              "       [0.66165526],\n",
              "       [0.70655507],\n",
              "       [0.68101365],\n",
              "       [0.6731732 ],\n",
              "       [0.64415615],\n",
              "       [0.61542187],\n",
              "       [0.62924348],\n",
              "       [0.63716463],\n",
              "       [0.57622044],\n",
              "       [0.60758162],\n",
              "       [0.67551732],\n",
              "       [0.67171846],\n",
              "       [0.64835914],\n",
              "       [0.65619939],\n",
              "       [0.59598277],\n",
              "       [0.48848196],\n",
              "       [0.47021502],\n",
              "       [0.33915282],\n",
              "       [0.43541867],\n",
              "       [0.46245548],\n",
              "       [0.45594882],\n",
              "       [0.45453433],\n",
              "       [0.43832854],\n",
              "       [0.40644186],\n",
              "       [0.49943415],\n",
              "       [0.5258245 ],\n",
              "       [0.51640796],\n",
              "       [0.49878749],\n",
              "       [0.5342305 ],\n",
              "       [0.49454403],\n",
              "       [0.54465719],\n",
              "       [0.55827674],\n",
              "       [0.52105555],\n",
              "       [0.5810701 ],\n",
              "       [0.59032483],\n",
              "       [0.62059496],\n",
              "       [0.5863239 ],\n",
              "       [0.58652597],\n",
              "       [0.58462664],\n",
              "       [0.60580345],\n",
              "       [0.6125929 ],\n",
              "       [0.62778854],\n",
              "       [0.63716463],\n",
              "       [0.67309249],\n",
              "       [0.62504048],\n",
              "       [0.56749101],\n",
              "       [0.56870343],\n",
              "       [0.5773924 ],\n",
              "       [0.57310869],\n",
              "       [0.54954731],\n",
              "       [0.44131913],\n",
              "       [0.39593427],\n",
              "       [0.46455708],\n",
              "       [0.52263165],\n",
              "       [0.50961851],\n",
              "       [0.45760582],\n",
              "       [0.45607018],\n",
              "       [0.46811342],\n",
              "       [0.48678469],\n",
              "       [0.45639341],\n",
              "       [0.45291778],\n",
              "       [0.40227932],\n",
              "       [0.42947775],\n",
              "       [0.36416915],\n",
              "       [0.37427261],\n",
              "       [0.36913997],\n",
              "       [0.34751856],\n",
              "       [0.34481076],\n",
              "       [0.34986249],\n",
              "       [0.31906726],\n",
              "       [0.3795264 ],\n",
              "       [0.37726319],\n",
              "       [0.22623659],\n",
              "       [0.25133363],\n",
              "       [0.27457158],\n",
              "       [0.24729224],\n",
              "       [0.15001605],\n",
              "       [0.19794691],\n",
              "       [0.22571129],\n",
              "       [0.31781439],\n",
              "       [0.30900425],\n",
              "       [0.3016084 ],\n",
              "       [0.35640961],\n",
              "       [0.37027148],\n",
              "       [0.36283537],\n",
              "       [0.30767048],\n",
              "       [0.34117351],\n",
              "       [0.35972362],\n",
              "       [0.30540727],\n",
              "       [0.19200619],\n",
              "       [0.18469125],\n",
              "       [0.18125607],\n",
              "       [0.12928383],\n",
              "       [0.08636426],\n",
              "       [0.10535876],\n",
              "       [0.18582275],\n",
              "       [0.1947138 ],\n",
              "       [0.26410444],\n",
              "       [0.25141453],\n",
              "       [0.26887319],\n",
              "       [0.27166171],\n",
              "       [0.24931294],\n",
              "       [0.23039934],\n",
              "       [0.26919662],\n",
              "       [0.20449403],\n",
              "       [0.18933884],\n",
              "       [0.2252667 ],\n",
              "       [0.24717108],\n",
              "       [0.22906556],\n",
              "       [0.10649047],\n",
              "       [0.08296953],\n",
              "       [0.04582925],\n",
              "       [0.01349818],\n",
              "       [0.01014391],\n",
              "       [0.0658341 ],\n",
              "       [0.07452308],\n",
              "       [0.14771258],\n",
              "       [0.15781604],\n",
              "       [0.15272386],\n",
              "       [0.14928868],\n",
              "       [0.10818773],\n",
              "       [0.16715168],\n",
              "       [0.22506463],\n",
              "       [0.25852721],\n",
              "       [0.25602167],\n",
              "       [0.25036373],\n",
              "       [0.2889185 ],\n",
              "       [0.30140633],\n",
              "       [0.30957001],\n",
              "       [0.31716773],\n",
              "       [0.30084058],\n",
              "       [0.35600547],\n",
              "       [0.33907211],\n",
              "       [0.33191878],\n",
              "       [0.33870843],\n",
              "       [0.32266405],\n",
              "       [0.3263013 ],\n",
              "       [0.3010831 ],\n",
              "       [0.24454418],\n",
              "       [0.22090209],\n",
              "       [0.19087448],\n",
              "       [0.19410759],\n",
              "       [0.12164566],\n",
              "       [0.18517609],\n",
              "       [0.12095854],\n",
              "       [0.11990774],\n",
              "       [0.12233257],\n",
              "       [0.11720013],\n",
              "       [0.13542681],\n",
              "       [0.15163261],\n",
              "       [0.19042989],\n",
              "       [0.21087933],\n",
              "       [0.19988689],\n",
              "       [0.11182497],\n",
              "       [0.09885229],\n",
              "       [0.0215405 ],\n",
              "       [0.03778694],\n",
              "       [0.04708212],\n",
              "       [0.01547842],\n",
              "       [0.0204897 ],\n",
              "       [0.        ],\n",
              "       [0.0099821 ],\n",
              "       [0.02861292],\n",
              "       [0.04332352],\n",
              "       [0.01232622],\n",
              "       [0.01818623],\n",
              "       [0.00234392],\n",
              "       [0.08818288],\n",
              "       [0.09691231],\n",
              "       [0.06696561],\n",
              "       [0.11032978],\n",
              "       [0.07072422],\n",
              "       [0.09594242],\n",
              "       [0.09800356],\n",
              "       [0.09464909],\n",
              "       [0.10483346],\n",
              "       [0.13146614],\n",
              "       [0.11299713],\n",
              "       [0.14165051],\n",
              "       [0.12556568],\n",
              "       [0.14520685],\n",
              "       [0.14553027],\n",
              "       [0.14173122],\n",
              "       [0.14645971],\n",
              "       [0.17062711],\n",
              "       [0.22441797],\n",
              "       [0.20986899],\n",
              "       [0.18161975],\n",
              "       [0.19022782],\n",
              "       [0.20340277],\n",
              "       [0.18913677],\n",
              "       [0.18073057],\n",
              "       [0.26988354],\n",
              "       [0.28568539],\n",
              "       [0.28334147],\n",
              "       [0.30172976],\n",
              "       [0.29659713],\n",
              "       [0.29211115],\n",
              "       [0.243655  ],\n",
              "       [0.26907526],\n",
              "       [0.2637003 ],\n",
              "       [0.32177487],\n",
              "       [0.3294535 ],\n",
              "       [0.33397993],\n",
              "       [0.33567739],\n",
              "       [0.33038314],\n",
              "       [0.3989653 ],\n",
              "       [0.3694632 ],\n",
              "       [0.35875353],\n",
              "       [0.32597807],\n",
              "       [0.32213875],\n",
              "       [0.29785   ],\n",
              "       [0.25113156],\n",
              "       [0.24603937],\n",
              "       [0.28293733],\n",
              "       [0.30981253],\n",
              "       [0.26111386],\n",
              "       [0.20869703],\n",
              "       [0.17782089],\n",
              "       [0.21168761],\n",
              "       [0.2315713 ],\n",
              "       [0.22441797],\n",
              "       [0.19907861],\n",
              "       [0.21892165],\n",
              "       [0.22425635],\n",
              "       [0.22231657],\n",
              "       [0.23173292],\n",
              "       [0.22199314],\n",
              "       [0.22583246],\n",
              "       [0.26616559],\n",
              "       [0.26883274],\n",
              "       [0.26596352],\n",
              "       [0.18549952],\n",
              "       [0.27311665],\n",
              "       [0.24599892],\n",
              "       [0.28018907],\n",
              "       [0.28475595],\n",
              "       [0.31724864],\n",
              "       [0.28451343],\n",
              "       [0.32036039],\n",
              "       [0.32973648],\n",
              "       [0.31607668],\n",
              "       [0.30799391],\n",
              "       [0.34986249],\n",
              "       [0.36715973],\n",
              "       [0.36186548],\n",
              "       [0.34675074],\n",
              "       [0.36501768],\n",
              "       [0.30443737],\n",
              "       [0.34456843],\n",
              "       [0.38663908],\n",
              "       [0.40434046],\n",
              "       [0.3862754 ],\n",
              "       [0.39645976],\n",
              "       [0.43489336],\n",
              "       [0.45166511],\n",
              "       [0.44899775],\n",
              "       [0.40442117],\n",
              "       [0.41872783],\n",
              "       [0.43533776],\n",
              "       [0.46556743],\n",
              "       [0.41957636],\n",
              "       [0.40838185],\n",
              "       [0.37904136],\n",
              "       [0.33907211],\n",
              "       [0.3489735 ],\n",
              "       [0.33818293],\n",
              "       [0.28273526],\n",
              "       [0.267378  ],\n",
              "       [0.32626085],\n",
              "       [0.27432906],\n",
              "       [0.29106035],\n",
              "       [0.31506633],\n",
              "       [0.33005971],\n",
              "       [0.28677664],\n",
              "       [0.28204814],\n",
              "       [0.24240213],\n",
              "       [0.18824758],\n",
              "       [0.1752747 ],\n",
              "       [0.16403973],\n",
              "       [0.1594326 ],\n",
              "       [0.13033463],\n",
              "       [0.10026677],\n",
              "       [0.12023117],\n",
              "       [0.11526015],\n",
              "       [0.11190588],\n",
              "       [0.11336082],\n",
              "       [0.10818773],\n",
              "       [0.1267781 ],\n",
              "       [0.18093264],\n",
              "       [0.17616389],\n",
              "       [0.20833334],\n",
              "       [0.19289518],\n",
              "       [0.22740856],\n",
              "       [0.18731815],\n",
              "       [0.20982854],\n",
              "       [0.16715168],\n",
              "       [0.12726314],\n",
              "       [0.12019072],\n",
              "       [0.08693021],\n",
              "       [0.09921598],\n",
              "       [0.14451993],\n",
              "       [0.15579535],\n",
              "       [0.15676524],\n",
              "       [0.1746685 ],\n",
              "       [0.16642411],\n",
              "       [0.19172321],\n",
              "       [0.19184438],\n",
              "       [0.15991744],\n",
              "       [0.19289518],\n",
              "       [0.20097794],\n",
              "       [0.21706277],\n",
              "       [0.24345293],\n",
              "       [0.24632235],\n",
              "       [0.24256375],\n",
              "       [0.23621889],\n",
              "       [0.22065956],\n",
              "       [0.2231651 ],\n",
              "       [0.18319585],\n",
              "       [0.17604272],\n",
              "       [0.19463309],\n",
              "       [0.25594077],\n",
              "       [0.25460719],\n",
              "       [0.25969937],\n",
              "       [0.25173777],\n",
              "       [0.28035068],\n",
              "       [0.27344008],\n",
              "       [0.27008561],\n",
              "       [0.24850466],\n",
              "       [0.27639021],\n",
              "       [0.26151799],\n",
              "       [0.24801961],\n",
              "       [0.20227127],\n",
              "       [0.23670374],\n",
              "       [0.20562554],\n",
              "       [0.1836809 ],\n",
              "       [0.21407199],\n",
              "       [0.21148554],\n",
              "       [0.21742646],\n",
              "       [0.18933884],\n",
              "       [0.15587606],\n",
              "       [0.18456989],\n",
              "       [0.19855311],\n",
              "       [0.22320556],\n",
              "       [0.20728254],\n",
              "       [0.18937929],\n",
              "       [0.16779814],\n",
              "       [0.17402203],\n",
              "       [0.18865172],\n",
              "       [0.25881019],\n",
              "       [0.23460234],\n",
              "       [0.26414489],\n",
              "       [0.27311665],\n",
              "       [0.27550102],\n",
              "       [0.28063366],\n",
              "       [0.23431936],\n",
              "       [0.23468305],\n",
              "       [0.22457959],\n",
              "       [0.28976723],\n",
              "       [0.4304881 ],\n",
              "       [0.41193818],\n",
              "       [0.41610093],\n",
              "       [0.39443907],\n",
              "       [0.3889832 ],\n",
              "       [0.31219691],\n",
              "       [0.33357579],\n",
              "       [0.33713213],\n",
              "       [0.32836244],\n",
              "       [0.33531351],\n",
              "       [0.30177002],\n",
              "       [0.35515674],\n",
              "       [0.37989009],\n",
              "       [0.37067562],\n",
              "       [0.33777879],\n",
              "       [0.37301974],\n",
              "       [0.40575495],\n",
              "       [0.39488366],\n",
              "       [0.38833654],\n",
              "       [0.37184777],\n",
              "       [0.37726319],\n",
              "       [0.37811192],\n",
              "       [0.38502253],\n",
              "       [0.36671514],\n",
              "       [0.31122702],\n",
              "       [0.33915282],\n",
              "       [0.32339142],\n",
              "       [0.33640476],\n",
              "       [0.32791785],\n",
              "       [0.32270451],\n",
              "       [0.31805692],\n",
              "       [0.31854176],\n",
              "       [0.3305043 ],\n",
              "       [0.30290173],\n",
              "       [0.32100705],\n",
              "       [0.35277236],\n",
              "       [0.36154225],\n",
              "       [0.36198664],\n",
              "       [0.38247654],\n",
              "       [0.37168596],\n",
              "       [0.40300669],\n",
              "       [0.48395573],\n",
              "       [0.47348858],\n",
              "       [0.46718398],\n",
              "       [0.49810057],\n",
              "       [0.50444542],\n",
              "       [0.50436471],\n",
              "       [0.48759297],\n",
              "       [0.50242473],\n",
              "       [0.4810054 ],\n",
              "       [0.4879162 ],\n",
              "       [0.49082608],\n",
              "       [0.44835109],\n",
              "       [0.44176372],\n",
              "       [0.42984163],\n",
              "       [0.44915937],\n",
              "       [0.49086653],\n",
              "       [0.51677164],\n",
              "       [0.53047209],\n",
              "       [0.52283372],\n",
              "       [0.50747646],\n",
              "       [0.45303914],\n",
              "       [0.47591341],\n",
              "       [0.43808602],\n",
              "       [0.42434531],\n",
              "       [0.40834139],\n",
              "       [0.38279977],\n",
              "       [0.41424185],\n",
              "       [0.34602317],\n",
              "       [0.32981738],\n",
              "       [0.28669574],\n",
              "       [0.29817323],\n",
              "       [0.32048175],\n",
              "       [0.31256059],\n",
              "       [0.28176517],\n",
              "       [0.30556908],\n",
              "       [0.29813277],\n",
              "       [0.32185578],\n",
              "       [0.31393462],\n",
              "       [0.32290658],\n",
              "       [0.29534426],\n",
              "       [0.28402838],\n",
              "       [0.28249274],\n",
              "       [0.34129487],\n",
              "       [0.41690921],\n",
              "       [0.42062716],\n",
              "       [0.43448923],\n",
              "       [0.42689131],\n",
              "       [0.44301639],\n",
              "       [0.42531521],\n",
              "       [0.38397193],\n",
              "       [0.39451978],\n",
              "       [0.42976073],\n",
              "       [0.40862437],\n",
              "       [0.42806327],\n",
              "       [0.42870993],\n",
              "       [0.44418855],\n",
              "       [0.50278861],\n",
              "       [0.51151785],\n",
              "       [0.52105555],\n",
              "       [0.5341496 ],\n",
              "       [0.55775144],\n",
              "       [0.49426125],\n",
              "       [0.55383121],\n",
              "       [0.71043484],\n",
              "       [0.7089799 ],\n",
              "       [0.674224  ],\n",
              "       [0.64500488],\n",
              "       [0.6510265 ],\n",
              "       [0.6805286 ],\n",
              "       [0.65753317],\n",
              "       [0.67018262],\n",
              "       [0.66104905],\n",
              "       [0.65579525],\n",
              "       [0.67010191],\n",
              "       [0.64755087],\n",
              "       [0.573634  ],\n",
              "       [0.55346753],\n",
              "       [0.61093589],\n",
              "       [0.56276271],\n",
              "       [0.5721386 ],\n",
              "       [0.59085033],\n",
              "       [0.60903656],\n",
              "       [0.72805531],\n",
              "       [0.74502913],\n",
              "       [0.71067736],\n",
              "       [0.72951025],\n",
              "       [0.74405923],\n",
              "       [0.77675399],\n",
              "       [0.70821208],\n",
              "       [0.69491597],\n",
              "       [0.66945525],\n",
              "       [0.66193823],\n",
              "       [0.66157455],\n",
              "       [0.67402193],\n",
              "       [0.70489807],\n",
              "       [0.79554643],\n",
              "       [0.80120436],\n",
              "       [0.93271096],\n",
              "       [0.89019552],\n",
              "       [0.93117531],\n",
              "       [0.93085208],\n",
              "       [0.92034448],\n",
              "       [0.94362269],\n",
              "       [0.9036939 ],\n",
              "       [0.90619964],\n",
              "       [0.92648707],\n",
              "       [0.90668429],\n",
              "       [0.84755892],\n",
              "       [0.81591496],\n",
              "       [0.8931863 ],\n",
              "       [0.86489661],\n",
              "       [0.82363404],\n",
              "       [0.90716933],\n",
              "       [0.91893   ],\n",
              "       [0.89965252],\n",
              "       [0.89904631],\n",
              "       [0.88801321],\n",
              "       [0.83256554],\n",
              "       [0.87475755],\n",
              "       [0.91056425],\n",
              "       [0.92167806],\n",
              "       [0.97817653],\n",
              "       [0.94321856],\n",
              "       [0.99058365],\n",
              "       [1.        ],\n",
              "       [0.94604752],\n",
              "       [0.80443747],\n",
              "       [0.79926438],\n",
              "       [0.80092139],\n",
              "       [0.75076777],\n",
              "       [0.72377141],\n",
              "       [0.6941884 ],\n",
              "       [0.72280152],\n",
              "       [0.75549627],\n",
              "       [0.72886359],\n",
              "       [0.78018917],\n",
              "       [0.82545267],\n",
              "       [0.80601357],\n",
              "       [0.80059816],\n",
              "       [0.77958296],\n",
              "       [0.81037819],\n",
              "       [0.82391682],\n",
              "       [0.7752586 ],\n",
              "       [0.71997255],\n",
              "       [0.71124312],\n",
              "       [0.68230677],\n",
              "       [0.71334472],\n",
              "       [0.72150819],\n",
              "       [0.68622699],\n",
              "       [0.70332197],\n",
              "       [0.67838675],\n",
              "       [0.71787095],\n",
              "       [0.67782079],\n",
              "       [0.71229392],\n",
              "       [0.69620909],\n",
              "       [0.7589719 ],\n",
              "       [0.80577105],\n",
              "       [0.8041545 ],\n",
              "       [0.79061586],\n",
              "       [0.73702707],\n",
              "       [0.78059331],\n",
              "       [0.74292753],\n",
              "       [0.72611533],\n",
              "       [0.74272546],\n",
              "       [0.68869227],\n",
              "       [0.67745711],\n",
              "       [0.68699481],\n",
              "       [0.73666338],\n",
              "       [0.70113966],\n",
              "       [0.69915942],\n",
              "       [0.69338012],\n",
              "       [0.66408009]])"
            ]
          },
          "execution_count": 32,
          "metadata": {},
          "output_type": "execute_result"
        }
      ],
      "source": [
        "input_data = scaler.fit_transform(final_df)\n",
        "input_data"
      ]
    },
    {
      "cell_type": "code",
      "execution_count": 33,
      "id": "2E6k84TtMpvD",
      "metadata": {
        "colab": {
          "base_uri": "https://localhost:8080/"
        },
        "id": "2E6k84TtMpvD",
        "outputId": "06c0a3bb-bb78-49f3-d233-4ef1922d7a30"
      },
      "outputs": [
        {
          "data": {
            "text/plain": [
              "(796, 1)"
            ]
          },
          "execution_count": 33,
          "metadata": {},
          "output_type": "execute_result"
        }
      ],
      "source": [
        "input_data.shape"
      ]
    },
    {
      "cell_type": "markdown",
      "id": "hJzkNc_To9li",
      "metadata": {
        "id": "hJzkNc_To9li"
      },
      "source": [
        "# Testing the model\n",
        "\n",
        "---\n",
        "\n"
      ]
    },
    {
      "cell_type": "code",
      "execution_count": 34,
      "id": "d9xCof1CMwwh",
      "metadata": {
        "id": "d9xCof1CMwwh"
      },
      "outputs": [],
      "source": [
        "x_test = []\n",
        "y_test = []\n",
        "for i in range(100, input_data.shape[0]):\n",
        "   x_test.append(input_data[i-100: i])\n",
        "   y_test.append(input_data[i, 0])"
      ]
    },
    {
      "cell_type": "code",
      "execution_count": 35,
      "id": "6MGDYZvrNUYc",
      "metadata": {
        "colab": {
          "base_uri": "https://localhost:8080/"
        },
        "id": "6MGDYZvrNUYc",
        "outputId": "4c699113-12cb-4065-b162-29e1761b96a4"
      },
      "outputs": [
        {
          "name": "stdout",
          "output_type": "stream",
          "text": [
            "(696, 100, 1)\n",
            "(696,)\n"
          ]
        }
      ],
      "source": [
        "x_test, y_test = np.array(x_test), np.array(y_test)\n",
        "print(x_test.shape)\n",
        "print(y_test.shape)"
      ]
    },
    {
      "cell_type": "markdown",
      "id": "PjvHSsrYpFBG",
      "metadata": {
        "id": "PjvHSsrYpFBG"
      },
      "source": [
        "# Making prediction and plotting the graph of predicted vs actual values\n",
        "\n",
        "---\n",
        "\n"
      ]
    },
    {
      "cell_type": "code",
      "execution_count": 36,
      "id": "GLMExu7NNdmA",
      "metadata": {
        "colab": {
          "base_uri": "https://localhost:8080/"
        },
        "id": "GLMExu7NNdmA",
        "outputId": "e415e6ce-3846-4044-e1a3-a1f7b17e10e0"
      },
      "outputs": [
        {
          "name": "stdout",
          "output_type": "stream",
          "text": [
            "\u001b[1m22/22\u001b[0m \u001b[32m━━━━━━━━━━━━━━━━━━━━\u001b[0m\u001b[37m\u001b[0m \u001b[1m3s\u001b[0m 98ms/step\n"
          ]
        }
      ],
      "source": [
        "# Making predictions\n",
        "\n",
        "y_pred = model.predict(x_test)"
      ]
    },
    {
      "cell_type": "code",
      "execution_count": 37,
      "id": "wAmVS__yNu-A",
      "metadata": {
        "colab": {
          "base_uri": "https://localhost:8080/"
        },
        "id": "wAmVS__yNu-A",
        "outputId": "a7d117ba-f92d-4be6-d813-47147ab5cd1c"
      },
      "outputs": [
        {
          "data": {
            "text/plain": [
              "(696, 1)"
            ]
          },
          "execution_count": 37,
          "metadata": {},
          "output_type": "execute_result"
        }
      ],
      "source": [
        "y_pred.shape"
      ]
    },
    {
      "cell_type": "code",
      "execution_count": 38,
      "id": "HFhTH-1aNyqt",
      "metadata": {
        "colab": {
          "base_uri": "https://localhost:8080/"
        },
        "id": "HFhTH-1aNyqt",
        "outputId": "0e288060-20c6-46e6-bae7-93bb208f67ec"
      },
      "outputs": [
        {
          "data": {
            "text/plain": [
              "array([0.24478651, 0.23593591, 0.24401868, 0.26491272, 0.27533941,\n",
              "       0.28439207, 0.29271736, 0.29881989, 0.38906391, 0.396783  ,\n",
              "       0.46152604, 0.46758812, 0.46673939, 0.52970407, 0.51014381,\n",
              "       0.54716293, 0.55754937, 0.59658898, 0.58135308, 0.65017777,\n",
              "       0.59238598, 0.69083413, 0.69511804, 0.70316035, 0.67398148,\n",
              "       0.64023592, 0.6541787 , 0.69778539, 0.73056085, 0.78604917,\n",
              "       0.74462499, 0.68364054, 0.68012446, 0.71201094, 0.71136428,\n",
              "       0.71710312, 0.71876013, 0.69099575, 0.64427731, 0.65458284,\n",
              "       0.64136763, 0.6047122 , 0.63954901, 0.68804561, 0.6699401 ,\n",
              "       0.73621879, 0.77077262, 0.56866317, 0.54219211, 0.54409144,\n",
              "       0.50872933, 0.53758477, 0.52707717, 0.50662793, 0.44491592,\n",
              "       0.41771748, 0.41294853, 0.40458298, 0.41036208, 0.35531836,\n",
              "       0.33600062, 0.39957151, 0.40587611, 0.41238278, 0.42563844,\n",
              "       0.42086968, 0.42325406, 0.40595702, 0.40910922, 0.43970257,\n",
              "       0.46172811, 0.46423365, 0.4363481 , 0.39900576, 0.38502253,\n",
              "       0.38975103, 0.37281767, 0.37491907, 0.37568709, 0.42026348,\n",
              "       0.44220811, 0.4815309 , 0.5341496 , 0.53216936, 0.44806812,\n",
              "       0.48694631, 0.52121717, 0.50088908, 0.52921923, 0.50727439,\n",
              "       0.51871163, 0.47550927, 0.48460239, 0.48682515, 0.46463779,\n",
              "       0.50618334, 0.52432911, 0.55015352, 0.55678135, 0.57715008,\n",
              "       0.58559653, 0.57601837, 0.60758162, 0.61129977, 0.67547687,\n",
              "       0.72963142, 0.71039439, 0.66715158, 0.70437277, 0.72567094,\n",
              "       0.75480916, 0.70954566, 0.74026018, 0.79704162, 0.83826374,\n",
              "       0.81518759, 0.75379881, 0.68258975, 0.68820723, 0.63797291,\n",
              "       0.63680075, 0.53928223, 0.57225996, 0.60960231, 0.66165526,\n",
              "       0.70655507, 0.68101365, 0.6731732 , 0.64415615, 0.61542187,\n",
              "       0.62924348, 0.63716463, 0.57622044, 0.60758162, 0.67551732,\n",
              "       0.67171846, 0.64835914, 0.65619939, 0.59598277, 0.48848196,\n",
              "       0.47021502, 0.33915282, 0.43541867, 0.46245548, 0.45594882,\n",
              "       0.45453433, 0.43832854, 0.40644186, 0.49943415, 0.5258245 ,\n",
              "       0.51640796, 0.49878749, 0.5342305 , 0.49454403, 0.54465719,\n",
              "       0.55827674, 0.52105555, 0.5810701 , 0.59032483, 0.62059496,\n",
              "       0.5863239 , 0.58652597, 0.58462664, 0.60580345, 0.6125929 ,\n",
              "       0.62778854, 0.63716463, 0.67309249, 0.62504048, 0.56749101,\n",
              "       0.56870343, 0.5773924 , 0.57310869, 0.54954731, 0.44131913,\n",
              "       0.39593427, 0.46455708, 0.52263165, 0.50961851, 0.45760582,\n",
              "       0.45607018, 0.46811342, 0.48678469, 0.45639341, 0.45291778,\n",
              "       0.40227932, 0.42947775, 0.36416915, 0.37427261, 0.36913997,\n",
              "       0.34751856, 0.34481076, 0.34986249, 0.31906726, 0.3795264 ,\n",
              "       0.37726319, 0.22623659, 0.25133363, 0.27457158, 0.24729224,\n",
              "       0.15001605, 0.19794691, 0.22571129, 0.31781439, 0.30900425,\n",
              "       0.3016084 , 0.35640961, 0.37027148, 0.36283537, 0.30767048,\n",
              "       0.34117351, 0.35972362, 0.30540727, 0.19200619, 0.18469125,\n",
              "       0.18125607, 0.12928383, 0.08636426, 0.10535876, 0.18582275,\n",
              "       0.1947138 , 0.26410444, 0.25141453, 0.26887319, 0.27166171,\n",
              "       0.24931294, 0.23039934, 0.26919662, 0.20449403, 0.18933884,\n",
              "       0.2252667 , 0.24717108, 0.22906556, 0.10649047, 0.08296953,\n",
              "       0.04582925, 0.01349818, 0.01014391, 0.0658341 , 0.07452308,\n",
              "       0.14771258, 0.15781604, 0.15272386, 0.14928868, 0.10818773,\n",
              "       0.16715168, 0.22506463, 0.25852721, 0.25602167, 0.25036373,\n",
              "       0.2889185 , 0.30140633, 0.30957001, 0.31716773, 0.30084058,\n",
              "       0.35600547, 0.33907211, 0.33191878, 0.33870843, 0.32266405,\n",
              "       0.3263013 , 0.3010831 , 0.24454418, 0.22090209, 0.19087448,\n",
              "       0.19410759, 0.12164566, 0.18517609, 0.12095854, 0.11990774,\n",
              "       0.12233257, 0.11720013, 0.13542681, 0.15163261, 0.19042989,\n",
              "       0.21087933, 0.19988689, 0.11182497, 0.09885229, 0.0215405 ,\n",
              "       0.03778694, 0.04708212, 0.01547842, 0.0204897 , 0.        ,\n",
              "       0.0099821 , 0.02861292, 0.04332352, 0.01232622, 0.01818623,\n",
              "       0.00234392, 0.08818288, 0.09691231, 0.06696561, 0.11032978,\n",
              "       0.07072422, 0.09594242, 0.09800356, 0.09464909, 0.10483346,\n",
              "       0.13146614, 0.11299713, 0.14165051, 0.12556568, 0.14520685,\n",
              "       0.14553027, 0.14173122, 0.14645971, 0.17062711, 0.22441797,\n",
              "       0.20986899, 0.18161975, 0.19022782, 0.20340277, 0.18913677,\n",
              "       0.18073057, 0.26988354, 0.28568539, 0.28334147, 0.30172976,\n",
              "       0.29659713, 0.29211115, 0.243655  , 0.26907526, 0.2637003 ,\n",
              "       0.32177487, 0.3294535 , 0.33397993, 0.33567739, 0.33038314,\n",
              "       0.3989653 , 0.3694632 , 0.35875353, 0.32597807, 0.32213875,\n",
              "       0.29785   , 0.25113156, 0.24603937, 0.28293733, 0.30981253,\n",
              "       0.26111386, 0.20869703, 0.17782089, 0.21168761, 0.2315713 ,\n",
              "       0.22441797, 0.19907861, 0.21892165, 0.22425635, 0.22231657,\n",
              "       0.23173292, 0.22199314, 0.22583246, 0.26616559, 0.26883274,\n",
              "       0.26596352, 0.18549952, 0.27311665, 0.24599892, 0.28018907,\n",
              "       0.28475595, 0.31724864, 0.28451343, 0.32036039, 0.32973648,\n",
              "       0.31607668, 0.30799391, 0.34986249, 0.36715973, 0.36186548,\n",
              "       0.34675074, 0.36501768, 0.30443737, 0.34456843, 0.38663908,\n",
              "       0.40434046, 0.3862754 , 0.39645976, 0.43489336, 0.45166511,\n",
              "       0.44899775, 0.40442117, 0.41872783, 0.43533776, 0.46556743,\n",
              "       0.41957636, 0.40838185, 0.37904136, 0.33907211, 0.3489735 ,\n",
              "       0.33818293, 0.28273526, 0.267378  , 0.32626085, 0.27432906,\n",
              "       0.29106035, 0.31506633, 0.33005971, 0.28677664, 0.28204814,\n",
              "       0.24240213, 0.18824758, 0.1752747 , 0.16403973, 0.1594326 ,\n",
              "       0.13033463, 0.10026677, 0.12023117, 0.11526015, 0.11190588,\n",
              "       0.11336082, 0.10818773, 0.1267781 , 0.18093264, 0.17616389,\n",
              "       0.20833334, 0.19289518, 0.22740856, 0.18731815, 0.20982854,\n",
              "       0.16715168, 0.12726314, 0.12019072, 0.08693021, 0.09921598,\n",
              "       0.14451993, 0.15579535, 0.15676524, 0.1746685 , 0.16642411,\n",
              "       0.19172321, 0.19184438, 0.15991744, 0.19289518, 0.20097794,\n",
              "       0.21706277, 0.24345293, 0.24632235, 0.24256375, 0.23621889,\n",
              "       0.22065956, 0.2231651 , 0.18319585, 0.17604272, 0.19463309,\n",
              "       0.25594077, 0.25460719, 0.25969937, 0.25173777, 0.28035068,\n",
              "       0.27344008, 0.27008561, 0.24850466, 0.27639021, 0.26151799,\n",
              "       0.24801961, 0.20227127, 0.23670374, 0.20562554, 0.1836809 ,\n",
              "       0.21407199, 0.21148554, 0.21742646, 0.18933884, 0.15587606,\n",
              "       0.18456989, 0.19855311, 0.22320556, 0.20728254, 0.18937929,\n",
              "       0.16779814, 0.17402203, 0.18865172, 0.25881019, 0.23460234,\n",
              "       0.26414489, 0.27311665, 0.27550102, 0.28063366, 0.23431936,\n",
              "       0.23468305, 0.22457959, 0.28976723, 0.4304881 , 0.41193818,\n",
              "       0.41610093, 0.39443907, 0.3889832 , 0.31219691, 0.33357579,\n",
              "       0.33713213, 0.32836244, 0.33531351, 0.30177002, 0.35515674,\n",
              "       0.37989009, 0.37067562, 0.33777879, 0.37301974, 0.40575495,\n",
              "       0.39488366, 0.38833654, 0.37184777, 0.37726319, 0.37811192,\n",
              "       0.38502253, 0.36671514, 0.31122702, 0.33915282, 0.32339142,\n",
              "       0.33640476, 0.32791785, 0.32270451, 0.31805692, 0.31854176,\n",
              "       0.3305043 , 0.30290173, 0.32100705, 0.35277236, 0.36154225,\n",
              "       0.36198664, 0.38247654, 0.37168596, 0.40300669, 0.48395573,\n",
              "       0.47348858, 0.46718398, 0.49810057, 0.50444542, 0.50436471,\n",
              "       0.48759297, 0.50242473, 0.4810054 , 0.4879162 , 0.49082608,\n",
              "       0.44835109, 0.44176372, 0.42984163, 0.44915937, 0.49086653,\n",
              "       0.51677164, 0.53047209, 0.52283372, 0.50747646, 0.45303914,\n",
              "       0.47591341, 0.43808602, 0.42434531, 0.40834139, 0.38279977,\n",
              "       0.41424185, 0.34602317, 0.32981738, 0.28669574, 0.29817323,\n",
              "       0.32048175, 0.31256059, 0.28176517, 0.30556908, 0.29813277,\n",
              "       0.32185578, 0.31393462, 0.32290658, 0.29534426, 0.28402838,\n",
              "       0.28249274, 0.34129487, 0.41690921, 0.42062716, 0.43448923,\n",
              "       0.42689131, 0.44301639, 0.42531521, 0.38397193, 0.39451978,\n",
              "       0.42976073, 0.40862437, 0.42806327, 0.42870993, 0.44418855,\n",
              "       0.50278861, 0.51151785, 0.52105555, 0.5341496 , 0.55775144,\n",
              "       0.49426125, 0.55383121, 0.71043484, 0.7089799 , 0.674224  ,\n",
              "       0.64500488, 0.6510265 , 0.6805286 , 0.65753317, 0.67018262,\n",
              "       0.66104905, 0.65579525, 0.67010191, 0.64755087, 0.573634  ,\n",
              "       0.55346753, 0.61093589, 0.56276271, 0.5721386 , 0.59085033,\n",
              "       0.60903656, 0.72805531, 0.74502913, 0.71067736, 0.72951025,\n",
              "       0.74405923, 0.77675399, 0.70821208, 0.69491597, 0.66945525,\n",
              "       0.66193823, 0.66157455, 0.67402193, 0.70489807, 0.79554643,\n",
              "       0.80120436, 0.93271096, 0.89019552, 0.93117531, 0.93085208,\n",
              "       0.92034448, 0.94362269, 0.9036939 , 0.90619964, 0.92648707,\n",
              "       0.90668429, 0.84755892, 0.81591496, 0.8931863 , 0.86489661,\n",
              "       0.82363404, 0.90716933, 0.91893   , 0.89965252, 0.89904631,\n",
              "       0.88801321, 0.83256554, 0.87475755, 0.91056425, 0.92167806,\n",
              "       0.97817653, 0.94321856, 0.99058365, 1.        , 0.94604752,\n",
              "       0.80443747, 0.79926438, 0.80092139, 0.75076777, 0.72377141,\n",
              "       0.6941884 , 0.72280152, 0.75549627, 0.72886359, 0.78018917,\n",
              "       0.82545267, 0.80601357, 0.80059816, 0.77958296, 0.81037819,\n",
              "       0.82391682, 0.7752586 , 0.71997255, 0.71124312, 0.68230677,\n",
              "       0.71334472, 0.72150819, 0.68622699, 0.70332197, 0.67838675,\n",
              "       0.71787095, 0.67782079, 0.71229392, 0.69620909, 0.7589719 ,\n",
              "       0.80577105, 0.8041545 , 0.79061586, 0.73702707, 0.78059331,\n",
              "       0.74292753, 0.72611533, 0.74272546, 0.68869227, 0.67745711,\n",
              "       0.68699481, 0.73666338, 0.70113966, 0.69915942, 0.69338012,\n",
              "       0.66408009])"
            ]
          },
          "execution_count": 38,
          "metadata": {},
          "output_type": "execute_result"
        }
      ],
      "source": [
        "y_test"
      ]
    },
    {
      "cell_type": "code",
      "execution_count": 39,
      "id": "WDIHSvbHN1vk",
      "metadata": {
        "colab": {
          "base_uri": "https://localhost:8080/"
        },
        "id": "WDIHSvbHN1vk",
        "outputId": "7f0459a8-b46e-4383-bd33-1af9f49a0211"
      },
      "outputs": [
        {
          "data": {
            "text/plain": [
              "array([[0.2411483 ],\n",
              "       [0.23761758],\n",
              "       [0.23462115],\n",
              "       [0.2323147 ],\n",
              "       [0.23081563],\n",
              "       [0.23023114],\n",
              "       [0.23063135],\n",
              "       [0.23203073],\n",
              "       [0.23437625],\n",
              "       [0.23775917],\n",
              "       [0.24229278],\n",
              "       [0.24816747],\n",
              "       [0.25552663],\n",
              "       [0.26440638],\n",
              "       [0.27485502],\n",
              "       [0.28680447],\n",
              "       [0.30016425],\n",
              "       [0.31480074],\n",
              "       [0.33060113],\n",
              "       [0.34737742],\n",
              "       [0.36502004],\n",
              "       [0.38328874],\n",
              "       [0.4020792 ],\n",
              "       [0.42131522],\n",
              "       [0.4409114 ],\n",
              "       [0.4606824 ],\n",
              "       [0.48031425],\n",
              "       [0.49949282],\n",
              "       [0.5180347 ],\n",
              "       [0.535892  ],\n",
              "       [0.5531719 ],\n",
              "       [0.5699268 ],\n",
              "       [0.58601934],\n",
              "       [0.6012437 ],\n",
              "       [0.6154743 ],\n",
              "       [0.6286392 ],\n",
              "       [0.64072114],\n",
              "       [0.6517403 ],\n",
              "       [0.6616741 ],\n",
              "       [0.67039555],\n",
              "       [0.6778106 ],\n",
              "       [0.68385077],\n",
              "       [0.68841976],\n",
              "       [0.6915521 ],\n",
              "       [0.693474  ],\n",
              "       [0.69443303],\n",
              "       [0.694813  ],\n",
              "       [0.6950592 ],\n",
              "       [0.6951098 ],\n",
              "       [0.6946783 ],\n",
              "       [0.69346803],\n",
              "       [0.6911833 ],\n",
              "       [0.68769777],\n",
              "       [0.6829962 ],\n",
              "       [0.67711824],\n",
              "       [0.67003745],\n",
              "       [0.6617122 ],\n",
              "       [0.6521526 ],\n",
              "       [0.64142954],\n",
              "       [0.62969923],\n",
              "       [0.6170635 ],\n",
              "       [0.6036031 ],\n",
              "       [0.58956254],\n",
              "       [0.57525826],\n",
              "       [0.5610234 ],\n",
              "       [0.54718745],\n",
              "       [0.5340216 ],\n",
              "       [0.5217345 ],\n",
              "       [0.51043314],\n",
              "       [0.50016356],\n",
              "       [0.4909901 ],\n",
              "       [0.48300102],\n",
              "       [0.47626117],\n",
              "       [0.4707303 ],\n",
              "       [0.4662301 ],\n",
              "       [0.46251008],\n",
              "       [0.45933232],\n",
              "       [0.45646325],\n",
              "       [0.4537174 ],\n",
              "       [0.45096788],\n",
              "       [0.44823426],\n",
              "       [0.44564   ],\n",
              "       [0.443409  ],\n",
              "       [0.44186604],\n",
              "       [0.44129163],\n",
              "       [0.44168884],\n",
              "       [0.4430024 ],\n",
              "       [0.44520235],\n",
              "       [0.44819796],\n",
              "       [0.4519225 ],\n",
              "       [0.45625085],\n",
              "       [0.46105558],\n",
              "       [0.46611294],\n",
              "       [0.471206  ],\n",
              "       [0.47615433],\n",
              "       [0.48077247],\n",
              "       [0.48500085],\n",
              "       [0.48888206],\n",
              "       [0.49255   ],\n",
              "       [0.49616173],\n",
              "       [0.49989247],\n",
              "       [0.50389683],\n",
              "       [0.50825346],\n",
              "       [0.51304466],\n",
              "       [0.5183201 ],\n",
              "       [0.5242158 ],\n",
              "       [0.53094727],\n",
              "       [0.5386472 ],\n",
              "       [0.54725146],\n",
              "       [0.5566684 ],\n",
              "       [0.5668086 ],\n",
              "       [0.57761335],\n",
              "       [0.5889064 ],\n",
              "       [0.60052997],\n",
              "       [0.6124393 ],\n",
              "       [0.6246851 ],\n",
              "       [0.6372685 ],\n",
              "       [0.65000504],\n",
              "       [0.6624744 ],\n",
              "       [0.6742433 ],\n",
              "       [0.6848373 ],\n",
              "       [0.69387686],\n",
              "       [0.70090103],\n",
              "       [0.7056496 ],\n",
              "       [0.7081386 ],\n",
              "       [0.7086744 ],\n",
              "       [0.7077743 ],\n",
              "       [0.70592946],\n",
              "       [0.70354533],\n",
              "       [0.7008727 ],\n",
              "       [0.69800466],\n",
              "       [0.69500023],\n",
              "       [0.69191986],\n",
              "       [0.688683  ],\n",
              "       [0.6852587 ],\n",
              "       [0.6818045 ],\n",
              "       [0.6785156 ],\n",
              "       [0.675515  ],\n",
              "       [0.6728909 ],\n",
              "       [0.6705572 ],\n",
              "       [0.6681328 ],\n",
              "       [0.665172  ],\n",
              "       [0.66103417],\n",
              "       [0.6553982 ],\n",
              "       [0.6482424 ],\n",
              "       [0.6397137 ],\n",
              "       [0.6300578 ],\n",
              "       [0.6195368 ],\n",
              "       [0.6083542 ],\n",
              "       [0.5968895 ],\n",
              "       [0.5856041 ],\n",
              "       [0.5748996 ],\n",
              "       [0.56504583],\n",
              "       [0.55627865],\n",
              "       [0.54867166],\n",
              "       [0.5423097 ],\n",
              "       [0.53726614],\n",
              "       [0.5334829 ],\n",
              "       [0.5309626 ],\n",
              "       [0.5297121 ],\n",
              "       [0.5297674 ],\n",
              "       [0.5310514 ],\n",
              "       [0.53341746],\n",
              "       [0.5366743 ],\n",
              "       [0.54066026],\n",
              "       [0.5452381 ],\n",
              "       [0.5503114 ],\n",
              "       [0.5558119 ],\n",
              "       [0.5617497 ],\n",
              "       [0.56802803],\n",
              "       [0.57437557],\n",
              "       [0.58049375],\n",
              "       [0.5861433 ],\n",
              "       [0.5911476 ],\n",
              "       [0.59534734],\n",
              "       [0.5983979 ],\n",
              "       [0.5998921 ],\n",
              "       [0.59967923],\n",
              "       [0.59791374],\n",
              "       [0.5948652 ],\n",
              "       [0.59073275],\n",
              "       [0.5856947 ],\n",
              "       [0.5799524 ],\n",
              "       [0.5737528 ],\n",
              "       [0.567273  ],\n",
              "       [0.56064636],\n",
              "       [0.553873  ],\n",
              "       [0.54698193],\n",
              "       [0.5398874 ],\n",
              "       [0.53252256],\n",
              "       [0.5248528 ],\n",
              "       [0.51684505],\n",
              "       [0.5084965 ],\n",
              "       [0.49985564],\n",
              "       [0.49094608],\n",
              "       [0.48192847],\n",
              "       [0.4730002 ],\n",
              "       [0.4640505 ],\n",
              "       [0.4549458 ],\n",
              "       [0.4456372 ],\n",
              "       [0.43609232],\n",
              "       [0.42612958],\n",
              "       [0.4156794 ],\n",
              "       [0.40481356],\n",
              "       [0.39385122],\n",
              "       [0.38315475],\n",
              "       [0.3730384 ],\n",
              "       [0.363848  ],\n",
              "       [0.3558947 ],\n",
              "       [0.3493802 ],\n",
              "       [0.34428266],\n",
              "       [0.34052885],\n",
              "       [0.33804196],\n",
              "       [0.33661386],\n",
              "       [0.33576953],\n",
              "       [0.33499125],\n",
              "       [0.3338359 ],\n",
              "       [0.33189133],\n",
              "       [0.3287965 ],\n",
              "       [0.32438022],\n",
              "       [0.31875992],\n",
              "       [0.3122132 ],\n",
              "       [0.30518892],\n",
              "       [0.29812038],\n",
              "       [0.2914002 ],\n",
              "       [0.2853489 ],\n",
              "       [0.28014517],\n",
              "       [0.27582508],\n",
              "       [0.27241528],\n",
              "       [0.2697888 ],\n",
              "       [0.2677349 ],\n",
              "       [0.26610264],\n",
              "       [0.2648247 ],\n",
              "       [0.26383737],\n",
              "       [0.26285574],\n",
              "       [0.2615287 ],\n",
              "       [0.2595324 ],\n",
              "       [0.25648987],\n",
              "       [0.2521544 ],\n",
              "       [0.24645093],\n",
              "       [0.23937395],\n",
              "       [0.23114204],\n",
              "       [0.22221965],\n",
              "       [0.2131094 ],\n",
              "       [0.20425825],\n",
              "       [0.19588874],\n",
              "       [0.18827231],\n",
              "       [0.18179986],\n",
              "       [0.17693624],\n",
              "       [0.17401825],\n",
              "       [0.17316347],\n",
              "       [0.17431083],\n",
              "       [0.17729613],\n",
              "       [0.18195495],\n",
              "       [0.18811779],\n",
              "       [0.1955549 ],\n",
              "       [0.20403387],\n",
              "       [0.21332714],\n",
              "       [0.22319847],\n",
              "       [0.23342642],\n",
              "       [0.24377452],\n",
              "       [0.25402504],\n",
              "       [0.26393932],\n",
              "       [0.27319396],\n",
              "       [0.2814589 ],\n",
              "       [0.28840527],\n",
              "       [0.29380995],\n",
              "       [0.2974279 ],\n",
              "       [0.2992373 ],\n",
              "       [0.2992454 ],\n",
              "       [0.2975381 ],\n",
              "       [0.2942811 ],\n",
              "       [0.28969234],\n",
              "       [0.28394383],\n",
              "       [0.27732372],\n",
              "       [0.2702306 ],\n",
              "       [0.26306915],\n",
              "       [0.25615793],\n",
              "       [0.24955143],\n",
              "       [0.24316366],\n",
              "       [0.23675008],\n",
              "       [0.23003545],\n",
              "       [0.22267431],\n",
              "       [0.21444671],\n",
              "       [0.20530304],\n",
              "       [0.19528048],\n",
              "       [0.18444724],\n",
              "       [0.1730631 ],\n",
              "       [0.16149263],\n",
              "       [0.15005335],\n",
              "       [0.13891117],\n",
              "       [0.1281074 ],\n",
              "       [0.11796163],\n",
              "       [0.10866192],\n",
              "       [0.10029095],\n",
              "       [0.09307475],\n",
              "       [0.0869858 ],\n",
              "       [0.08195322],\n",
              "       [0.07789725],\n",
              "       [0.07472022],\n",
              "       [0.07233929],\n",
              "       [0.070724  ],\n",
              "       [0.06984868],\n",
              "       [0.06971909],\n",
              "       [0.07031668],\n",
              "       [0.07161611],\n",
              "       [0.07364361],\n",
              "       [0.07633036],\n",
              "       [0.07966013],\n",
              "       [0.08377523],\n",
              "       [0.08886822],\n",
              "       [0.094988  ],\n",
              "       [0.10204194],\n",
              "       [0.10987427],\n",
              "       [0.11836488],\n",
              "       [0.127211  ],\n",
              "       [0.13611795],\n",
              "       [0.14500877],\n",
              "       [0.15394464],\n",
              "       [0.16297945],\n",
              "       [0.17219666],\n",
              "       [0.18164404],\n",
              "       [0.19128454],\n",
              "       [0.20090471],\n",
              "       [0.2103222 ],\n",
              "       [0.21937878],\n",
              "       [0.22806446],\n",
              "       [0.23643823],\n",
              "       [0.2445775 ],\n",
              "       [0.25254756],\n",
              "       [0.26037315],\n",
              "       [0.26818633],\n",
              "       [0.27606064],\n",
              "       [0.28398785],\n",
              "       [0.29184583],\n",
              "       [0.29946762],\n",
              "       [0.30664217],\n",
              "       [0.3130894 ],\n",
              "       [0.31855604],\n",
              "       [0.3229407 ],\n",
              "       [0.32629907],\n",
              "       [0.3286688 ],\n",
              "       [0.32999858],\n",
              "       [0.33018297],\n",
              "       [0.32922214],\n",
              "       [0.32723066],\n",
              "       [0.32436863],\n",
              "       [0.3207689 ],\n",
              "       [0.31659716],\n",
              "       [0.31203622],\n",
              "       [0.30725855],\n",
              "       [0.30243528],\n",
              "       [0.29769585],\n",
              "       [0.29314277],\n",
              "       [0.2889278 ],\n",
              "       [0.28519592],\n",
              "       [0.2820493 ],\n",
              "       [0.2793898 ],\n",
              "       [0.2772146 ],\n",
              "       [0.2754956 ],\n",
              "       [0.27425486],\n",
              "       [0.27352658],\n",
              "       [0.27339402],\n",
              "       [0.27386123],\n",
              "       [0.27495152],\n",
              "       [0.27668816],\n",
              "       [0.27903914],\n",
              "       [0.28191796],\n",
              "       [0.28529245],\n",
              "       [0.28917003],\n",
              "       [0.2935382 ],\n",
              "       [0.29832375],\n",
              "       [0.30345666],\n",
              "       [0.30873626],\n",
              "       [0.31401435],\n",
              "       [0.31926522],\n",
              "       [0.32454285],\n",
              "       [0.3298742 ],\n",
              "       [0.33527866],\n",
              "       [0.34083384],\n",
              "       [0.34664407],\n",
              "       [0.3527792 ],\n",
              "       [0.35916907],\n",
              "       [0.36570725],\n",
              "       [0.37230843],\n",
              "       [0.37895906],\n",
              "       [0.38556397],\n",
              "       [0.39197904],\n",
              "       [0.39799875],\n",
              "       [0.4033499 ],\n",
              "       [0.40781742],\n",
              "       [0.41124862],\n",
              "       [0.41345954],\n",
              "       [0.41429505],\n",
              "       [0.41380256],\n",
              "       [0.41203713],\n",
              "       [0.40913123],\n",
              "       [0.40530872],\n",
              "       [0.40085196],\n",
              "       [0.39595556],\n",
              "       [0.39075953],\n",
              "       [0.38529766],\n",
              "       [0.37947077],\n",
              "       [0.3731463 ],\n",
              "       [0.36621532],\n",
              "       [0.35862055],\n",
              "       [0.35032755],\n",
              "       [0.34131366],\n",
              "       [0.33165386],\n",
              "       [0.32147408],\n",
              "       [0.31081533],\n",
              "       [0.29979113],\n",
              "       [0.28855968],\n",
              "       [0.27727723],\n",
              "       [0.2662231 ],\n",
              "       [0.25569522],\n",
              "       [0.24601567],\n",
              "       [0.2374084 ],\n",
              "       [0.23008527],\n",
              "       [0.22409412],\n",
              "       [0.21943294],\n",
              "       [0.21594775],\n",
              "       [0.21333401],\n",
              "       [0.21125095],\n",
              "       [0.20931691],\n",
              "       [0.20723765],\n",
              "       [0.20492928],\n",
              "       [0.2024041 ],\n",
              "       [0.19974568],\n",
              "       [0.1971225 ],\n",
              "       [0.19468541],\n",
              "       [0.19262514],\n",
              "       [0.19109745],\n",
              "       [0.19008207],\n",
              "       [0.18957806],\n",
              "       [0.18959573],\n",
              "       [0.1901693 ],\n",
              "       [0.19138168],\n",
              "       [0.19329663],\n",
              "       [0.19588166],\n",
              "       [0.19907264],\n",
              "       [0.20274687],\n",
              "       [0.20676358],\n",
              "       [0.21090545],\n",
              "       [0.21493816],\n",
              "       [0.21869119],\n",
              "       [0.22215821],\n",
              "       [0.22540787],\n",
              "       [0.22853841],\n",
              "       [0.23162372],\n",
              "       [0.23476347],\n",
              "       [0.23802747],\n",
              "       [0.24144332],\n",
              "       [0.24496329],\n",
              "       [0.24856156],\n",
              "       [0.25218993],\n",
              "       [0.25576347],\n",
              "       [0.25910556],\n",
              "       [0.26210392],\n",
              "       [0.26463807],\n",
              "       [0.2665748 ],\n",
              "       [0.2678757 ],\n",
              "       [0.2685583 ],\n",
              "       [0.26868892],\n",
              "       [0.26830697],\n",
              "       [0.2673902 ],\n",
              "       [0.26596725],\n",
              "       [0.26412475],\n",
              "       [0.262017  ],\n",
              "       [0.25977975],\n",
              "       [0.257492  ],\n",
              "       [0.25516427],\n",
              "       [0.25279486],\n",
              "       [0.25040883],\n",
              "       [0.24816556],\n",
              "       [0.24620458],\n",
              "       [0.24468356],\n",
              "       [0.2437452 ],\n",
              "       [0.24348879],\n",
              "       [0.24396694],\n",
              "       [0.24508971],\n",
              "       [0.24670629],\n",
              "       [0.24863216],\n",
              "       [0.25081405],\n",
              "       [0.2535238 ],\n",
              "       [0.2570601 ],\n",
              "       [0.26165795],\n",
              "       [0.26739532],\n",
              "       [0.27421126],\n",
              "       [0.28179425],\n",
              "       [0.28979397],\n",
              "       [0.29788712],\n",
              "       [0.30578536],\n",
              "       [0.3132735 ],\n",
              "       [0.32013646],\n",
              "       [0.32631487],\n",
              "       [0.3318811 ],\n",
              "       [0.3369354 ],\n",
              "       [0.34150955],\n",
              "       [0.34567994],\n",
              "       [0.34959581],\n",
              "       [0.353384  ],\n",
              "       [0.35712156],\n",
              "       [0.3608109 ],\n",
              "       [0.3644292 ],\n",
              "       [0.36794367],\n",
              "       [0.37133375],\n",
              "       [0.37454686],\n",
              "       [0.37741342],\n",
              "       [0.379814  ],\n",
              "       [0.38164952],\n",
              "       [0.3828885 ],\n",
              "       [0.38353175],\n",
              "       [0.38360012],\n",
              "       [0.38312763],\n",
              "       [0.38216636],\n",
              "       [0.3808064 ],\n",
              "       [0.37909603],\n",
              "       [0.3771093 ],\n",
              "       [0.37499028],\n",
              "       [0.37290987],\n",
              "       [0.37102175],\n",
              "       [0.36948276],\n",
              "       [0.36839083],\n",
              "       [0.36785394],\n",
              "       [0.3681121 ],\n",
              "       [0.3693653 ],\n",
              "       [0.37171447],\n",
              "       [0.37523177],\n",
              "       [0.37992924],\n",
              "       [0.38574493],\n",
              "       [0.39251518],\n",
              "       [0.40005434],\n",
              "       [0.4081166 ],\n",
              "       [0.41645965],\n",
              "       [0.42486796],\n",
              "       [0.43306607],\n",
              "       [0.44078436],\n",
              "       [0.44778177],\n",
              "       [0.45392492],\n",
              "       [0.45925176],\n",
              "       [0.46392974],\n",
              "       [0.4681861 ],\n",
              "       [0.4722166 ],\n",
              "       [0.47613358],\n",
              "       [0.4798721 ],\n",
              "       [0.48335817],\n",
              "       [0.48644522],\n",
              "       [0.48896575],\n",
              "       [0.49075478],\n",
              "       [0.49164653],\n",
              "       [0.4916039 ],\n",
              "       [0.49053526],\n",
              "       [0.48835143],\n",
              "       [0.4849348 ],\n",
              "       [0.4802518 ],\n",
              "       [0.47440284],\n",
              "       [0.46755362],\n",
              "       [0.4598496 ],\n",
              "       [0.4514947 ],\n",
              "       [0.44269887],\n",
              "       [0.4337133 ],\n",
              "       [0.42476282],\n",
              "       [0.41605407],\n",
              "       [0.40770265],\n",
              "       [0.39975077],\n",
              "       [0.39220437],\n",
              "       [0.3851707 ],\n",
              "       [0.3789234 ],\n",
              "       [0.3737477 ],\n",
              "       [0.36989048],\n",
              "       [0.36748534],\n",
              "       [0.36658797],\n",
              "       [0.36712986],\n",
              "       [0.36887306],\n",
              "       [0.371539  ],\n",
              "       [0.37492463],\n",
              "       [0.3788195 ],\n",
              "       [0.38306773],\n",
              "       [0.3875458 ],\n",
              "       [0.39218286],\n",
              "       [0.3970508 ],\n",
              "       [0.40226513],\n",
              "       [0.40793592],\n",
              "       [0.41415137],\n",
              "       [0.42099747],\n",
              "       [0.4283685 ],\n",
              "       [0.43620026],\n",
              "       [0.44473338],\n",
              "       [0.45424324],\n",
              "       [0.46485955],\n",
              "       [0.47651133],\n",
              "       [0.48901635],\n",
              "       [0.502193  ],\n",
              "       [0.5157906 ],\n",
              "       [0.52956533],\n",
              "       [0.54326534],\n",
              "       [0.5566452 ],\n",
              "       [0.5695231 ],\n",
              "       [0.5817136 ],\n",
              "       [0.59289503],\n",
              "       [0.6027238 ],\n",
              "       [0.611068  ],\n",
              "       [0.61782193],\n",
              "       [0.6229744 ],\n",
              "       [0.6266367 ],\n",
              "       [0.6290267 ],\n",
              "       [0.630644  ],\n",
              "       [0.6320539 ],\n",
              "       [0.63368255],\n",
              "       [0.63585013],\n",
              "       [0.63878125],\n",
              "       [0.64265317],\n",
              "       [0.647407  ],\n",
              "       [0.652834  ],\n",
              "       [0.65861416],\n",
              "       [0.66440535],\n",
              "       [0.6699098 ],\n",
              "       [0.67493176],\n",
              "       [0.679429  ],\n",
              "       [0.683619  ],\n",
              "       [0.6877897 ],\n",
              "       [0.69245   ],\n",
              "       [0.69798666],\n",
              "       [0.70470953],\n",
              "       [0.71278816],\n",
              "       [0.7222312 ],\n",
              "       [0.73296255],\n",
              "       [0.7447453 ],\n",
              "       [0.75727165],\n",
              "       [0.7702542 ],\n",
              "       [0.783388  ],\n",
              "       [0.796256  ],\n",
              "       [0.80838543],\n",
              "       [0.81955415],\n",
              "       [0.82962143],\n",
              "       [0.8384249 ],\n",
              "       [0.8460395 ],\n",
              "       [0.85265607],\n",
              "       [0.8584546 ],\n",
              "       [0.86359066],\n",
              "       [0.86816835],\n",
              "       [0.87213075],\n",
              "       [0.8754883 ],\n",
              "       [0.878354  ],\n",
              "       [0.880889  ],\n",
              "       [0.88336104],\n",
              "       [0.88595265],\n",
              "       [0.88886607],\n",
              "       [0.8922688 ],\n",
              "       [0.8961529 ],\n",
              "       [0.90008646],\n",
              "       [0.90355057],\n",
              "       [0.90610826],\n",
              "       [0.90734935],\n",
              "       [0.90694267],\n",
              "       [0.90464413],\n",
              "       [0.9004359 ],\n",
              "       [0.89453906],\n",
              "       [0.88722664],\n",
              "       [0.8789282 ],\n",
              "       [0.87018514],\n",
              "       [0.86147064],\n",
              "       [0.8531508 ],\n",
              "       [0.8454354 ],\n",
              "       [0.8385014 ],\n",
              "       [0.83249146],\n",
              "       [0.8273809 ],\n",
              "       [0.8229412 ],\n",
              "       [0.8188816 ],\n",
              "       [0.81487244],\n",
              "       [0.81071824],\n",
              "       [0.8063432 ],\n",
              "       [0.8016678 ],\n",
              "       [0.7966929 ],\n",
              "       [0.7914112 ],\n",
              "       [0.7859314 ],\n",
              "       [0.78030664],\n",
              "       [0.7746616 ],\n",
              "       [0.76909536],\n",
              "       [0.76382995],\n",
              "       [0.75918007],\n",
              "       [0.75542396],\n",
              "       [0.75272834],\n",
              "       [0.7510366 ],\n",
              "       [0.750292  ],\n",
              "       [0.7503266 ],\n",
              "       [0.75090075],\n",
              "       [0.75181454],\n",
              "       [0.7527815 ],\n",
              "       [0.7535134 ],\n",
              "       [0.7538071 ],\n",
              "       [0.7536616 ],\n",
              "       [0.753082  ],\n",
              "       [0.75209177],\n",
              "       [0.7507197 ]], dtype=float32)"
            ]
          },
          "execution_count": 39,
          "metadata": {},
          "output_type": "execute_result"
        }
      ],
      "source": [
        "y_pred"
      ]
    },
    {
      "cell_type": "code",
      "execution_count": 40,
      "id": "QMFgAgL5N6HX",
      "metadata": {
        "colab": {
          "base_uri": "https://localhost:8080/"
        },
        "id": "QMFgAgL5N6HX",
        "outputId": "ea7365cc-518f-4580-d114-1804855d66a4"
      },
      "outputs": [
        {
          "data": {
            "text/plain": [
              "array([0.00080828])"
            ]
          },
          "execution_count": 40,
          "metadata": {},
          "output_type": "execute_result"
        }
      ],
      "source": [
        "scaler.scale_"
      ]
    },
    {
      "cell_type": "code",
      "execution_count": 41,
      "id": "tPcp9BKLN-Y8",
      "metadata": {
        "id": "tPcp9BKLN-Y8"
      },
      "outputs": [],
      "source": [
        "scale_factor = 1/0.00041967\n",
        "y_pred = y_pred * scale_factor\n",
        "y_test = y_test * scale_factor"
      ]
    },
    {
      "cell_type": "code",
      "execution_count": 42,
      "id": "phumyMZUOPp_",
      "metadata": {
        "colab": {
          "base_uri": "https://localhost:8080/",
          "height": 542
        },
        "id": "phumyMZUOPp_",
        "outputId": "eba0f77b-fe47-431e-cbf8-49a103e127ab"
      },
      "outputs": [
        {
          "data": {
            "image/png": "[encoded data removed]",
            "text/plain": [
              "<Figure size 1200x600 with 1 Axes>"
            ]
          },
          "metadata": {},
          "output_type": "display_data"
        }
      ],
      "source": [
        "plt.figure(figsize = (12,6))\n",
        "plt.plot(y_test, 'b', label = \"Original Price\")\n",
        "plt.plot(y_pred, 'r', label = \"Predicted Price\")\n",
        "plt.xlabel('Time')\n",
        "plt.ylabel('Price')\n",
        "plt.legend()\n",
        "plt.grid(True)\n",
        "plt.show()"
      ]
    },
    {
      "cell_type": "markdown",
      "id": "m54ljCJrpShP",
      "metadata": {
        "id": "m54ljCJrpShP"
      },
      "source": [
        "# Model evaluation"
      ]
    },
    {
      "cell_type": "markdown",
      "id": "BdnuOyYQRKRP",
      "metadata": {
        "id": "BdnuOyYQRKRP"
      },
      "source": [
        "Calculation of mean absolute error"
      ]
    },
    {
      "cell_type": "code",
      "execution_count": 43,
      "id": "Yx6JWOKcX3Yo",
      "metadata": {
        "colab": {
          "base_uri": "https://localhost:8080/"
        },
        "id": "Yx6JWOKcX3Yo",
        "outputId": "74caad7d-81e9-4866-c771-3e6beccb39d8"
      },
      "outputs": [
        {
          "name": "stdout",
          "output_type": "stream",
          "text": [
            "Mean absolute error on test set: 22.00%\n"
          ]
        }
      ],
      "source": [
        "from sklearn.metrics import mean_absolute_error\n",
        "\n",
        "mae = mean_absolute_error(y_test, y_pred)\n",
        "mae_percentage = (mae / np.mean(y_test)) * 100\n",
        "print(\"Mean absolute error on test set: {:.2f}%\".format(mae_percentage))"
      ]
    },
    {
      "cell_type": "markdown",
      "id": "M8XnY8cuQIc2",
      "metadata": {
        "id": "M8XnY8cuQIc2"
      },
      "source": [
        "Calculation of R2 score"
      ]
    },
    {
      "cell_type": "code",
      "execution_count": 44,
      "id": "GAAyLdoMNTwZ",
      "metadata": {
        "colab": {
          "base_uri": "https://localhost:8080/"
        },
        "id": "GAAyLdoMNTwZ",
        "outputId": "58c4c588-24d4-49bf-83ac-5a615a631c2e"
      },
      "outputs": [
        {
          "name": "stdout",
          "output_type": "stream",
          "text": [
            "R2 score: 0.730369577938708\n"
          ]
        }
      ],
      "source": [
        "from sklearn.metrics import r2_score\n",
        "\n",
        "# Actual values\n",
        "actual = y_test\n",
        "\n",
        "# Predicted values\n",
        "predicted = y_pred\n",
        "\n",
        "# Calculate the R2 score\n",
        "r2 = r2_score(actual, predicted)\n",
        "\n",
        "print(\"R2 score:\", r2)"
      ]
    },
    {
      "cell_type": "code",
      "execution_count": 45,
      "id": "vQGgW50tNtMf",
      "metadata": {
        "colab": {
          "base_uri": "https://localhost:8080/",
          "height": 472
        },
        "id": "vQGgW50tNtMf",
        "outputId": "94767ec4-b582-409b-ea5d-2d5659997e8c"
      },
      "outputs": [
        {
          "data": {
            "image/png": "[encoded data removed]",
            "text/plain": [
              "<Figure size 640x480 with 1 Axes>"
            ]
          },
          "metadata": {},
          "output_type": "display_data"
        }
      ],
      "source": [
        "# Plotting the R2 score\n",
        "fig, ax = plt.subplots()\n",
        "ax.barh(0, r2, color='skyblue')\n",
        "ax.set_xlim([-1, 1])\n",
        "ax.set_yticks([])\n",
        "ax.set_xlabel('R2 Score')\n",
        "ax.set_title('R2 Score')\n",
        "\n",
        "# Adding the R2 score value on the bar\n",
        "ax.text(r2, 0, f'{r2:.2f}', va='center', color='black')\n",
        "\n",
        "plt.show()"
      ]
    },
    {
      "cell_type": "code",
      "execution_count": 46,
      "id": "Q8RHQ80hPfi4",
      "metadata": {
        "colab": {
          "base_uri": "https://localhost:8080/",
          "height": 472
        },
        "id": "Q8RHQ80hPfi4",
        "outputId": "a1b81f5b-e56b-4f29-886c-e53f7e6f2bcb"
      },
      "outputs": [
        {
          "data": {
            "image/png": "[encoded data removed]",
            "text/plain": [
              "<Figure size 640x480 with 1 Axes>"
            ]
          },
          "metadata": {},
          "output_type": "display_data"
        }
      ],
      "source": [
        "plt.scatter(actual, predicted)\n",
        "plt.plot([min(actual), max(actual)], [min(predicted), max(predicted)], 'r--')\n",
        "plt.xlabel('Actual Values')\n",
        "plt.ylabel('Predicted Values')\n",
        "plt.title(f'R2 Score: {r2:.2f}')\n",
        "plt.show()"
      ]
    }
  ],
  "metadata": {
    "accelerator": "GPU",
    "colab": {
      "include_colab_link": true,
      "provenance": []
    },
    "gpuClass": "standard",
    "kernelspec": {
      "display_name": "Python 3 (ipykernel)",
      "language": "python",
      "name": "python3"
    },
    "language_info": {
      "codemirror_mode": {
        "name": "ipython",
        "version": 3
      },
      "file_extension": ".py",
      "mimetype": "text/x-python",
      "name": "python",
      "nbconvert_exporter": "python",
      "pygments_lexer": "ipython3",
      "version": "3.11.8"
    }
  },
  "nbformat": 4,
  "nbformat_minor": 5
}
