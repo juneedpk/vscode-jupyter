{
 "cells": [
  {
   "cell_type": "markdown",
   "metadata": {},
   "source": [
    "## Support Vector Machine (SVM)"
   ]
  },
  {
   "cell_type": "markdown",
   "metadata": {},
   "source": [
    "1. used for classification and regression analysis but mostly for classification purpose.it scores low in regression.\n",
    "\n",
    "2. used for complex datset having large no. of features.\n",
    "\n",
    "3. most used SVM types are:\n",
    "   . C-support vector classification (SVC)\n",
    "   . support vector regression (SVR)"
   ]
  },
  {
   "cell_type": "code",
   "execution_count": 1,
   "metadata": {},
   "outputs": [],
   "source": [
    "import pandas as pd\n",
    "from sklearn.model_selection import train_test_split\n",
    "import seaborn as sns\n",
    "import matplotlib.pyplot as plt\n",
    "from sklearn.svm import SVC,SVR\n",
    "from sklearn.metrics import accuracy_score, mean_squared_error,r2_score"
   ]
  },
  {
   "cell_type": "code",
   "execution_count": 2,
   "metadata": {},
   "outputs": [
    {
     "name": "stdout",
     "output_type": "stream",
     "text": [
      "MSE:  3771600.163857611\n",
      "R2:  0.7627450131825717\n"
     ]
    }
   ],
   "source": [
    "diamonds = pd.read_csv('diamonds.csv')\n",
    "\n",
    "X = diamonds[['carat','depth','table','x','y','z']]\n",
    "y = diamonds['price']\n",
    "\n",
    "X_train,X_test,y_train,y_test = train_test_split(X,y,test_size=0.2,random_state=42)\n",
    "\n",
    "model = SVR(kernel='linear').fit(X_train,y_train)\n",
    "\n",
    "y_pred = model.predict(X_test)\n",
    "\n",
    "print('MSE: ',mean_squared_error(y_test,y_pred))\n",
    "print('R2: ',r2_score(y_test,y_pred))"
   ]
  },
  {
   "cell_type": "code",
   "execution_count": 7,
   "metadata": {},
   "outputs": [],
   "source": [
    "# diamonds = pd.read_csv('diamonds.csv')\n",
    "\n",
    "# X = diamonds[['price','depth','carat']]\n",
    "# y = diamonds['cut']\n",
    "\n",
    "# X_train,X_test,y_train,y_test = train_test_split(X,y,test_size=0.2,random_state=42)\n",
    "\n",
    "# model2 = SVC(kernel='linear').fit(X_train,y_train)\n",
    "\n",
    "# y_pred = model.predict(X_test)\n",
    "\n",
    "# print('Accuracy: ',accuracy_score(y_test,y_pred))"
   ]
  }
 ],
 "metadata": {
  "kernelspec": {
   "display_name": "Python 3",
   "language": "python",
   "name": "python3"
  },
  "language_info": {
   "codemirror_mode": {
    "name": "ipython",
    "version": 3
   },
   "file_extension": ".py",
   "mimetype": "text/x-python",
   "name": "python",
   "nbconvert_exporter": "python",
   "pygments_lexer": "ipython3",
   "version": "3.11.1"
  },
  "orig_nbformat": 4
 },
 "nbformat": 4,
 "nbformat_minor": 2
}
