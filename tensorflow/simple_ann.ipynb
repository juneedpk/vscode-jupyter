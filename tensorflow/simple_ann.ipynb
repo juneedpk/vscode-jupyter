{
 "cells": [
  {
   "cell_type": "code",
   "execution_count": 56,
   "metadata": {},
   "outputs": [],
   "source": [
    "# import libraries\n",
    "\n",
    "import pandas as pd\n",
    "import numpy as np\n",
    "import matplotlib.pyplot as plt\n",
    "import seaborn as sns\n",
    "import tensorflow as tf\n",
    "from tensorflow import keras\n",
    "from tensorflow.keras.layers import Dense\n",
    "from tensorflow.keras.models import Sequential\n",
    "from tensorflow.keras.optimizers import Adam\n",
    "from sklearn.model_selection import train_test_split\n",
    "from sklearn.preprocessing import StandardScaler\n",
    "from sklearn.metrics import mean_squared_error, r2_score"
   ]
  },
  {
   "cell_type": "code",
   "execution_count": 57,
   "metadata": {},
   "outputs": [],
   "source": [
    "# load data\n",
    "\n",
    "df = sns.load_dataset('tips')\n",
    "\n",
    "# coverting categorical data to numerical data\n",
    "\n",
    "df['sex'] = df['sex'].cat.codes\n",
    "df['smoker'] = df['smoker'].cat.codes\n",
    "df['day'] = df['day'].cat.codes\n",
    "df['time'] = df['time'].cat.codes"
   ]
  },
  {
   "cell_type": "code",
   "execution_count": 59,
   "metadata": {},
   "outputs": [],
   "source": [
    "X = df.drop('tip', axis=1)  \n",
    "y = df['tip']\n",
    "\n",
    "X_scaled = StandardScaler().fit_transform(X)\n",
    "# split data into train and test\n",
    "\n",
    "X_train, X_test, y_train, y_test = train_test_split(X_scaled, y, test_size=0.2, random_state=42)\n",
    "\n"
   ]
  },
  {
   "cell_type": "code",
   "execution_count": 85,
   "metadata": {},
   "outputs": [
    {
     "name": "stdout",
     "output_type": "stream",
     "text": [
      "Epoch 1/25\n",
      "195/195 [==============================] - 1s 1ms/step - loss: 7.8609\n",
      "Epoch 2/25\n",
      "195/195 [==============================] - 0s 2ms/step - loss: 3.9213\n",
      "Epoch 3/25\n",
      "195/195 [==============================] - 0s 2ms/step - loss: 2.2981\n",
      "Epoch 4/25\n",
      "195/195 [==============================] - 0s 2ms/step - loss: 1.6085\n",
      "Epoch 5/25\n",
      "195/195 [==============================] - 0s 2ms/step - loss: 1.3798\n",
      "Epoch 6/25\n",
      "195/195 [==============================] - 0s 2ms/step - loss: 1.2993\n",
      "Epoch 7/25\n",
      "195/195 [==============================] - 0s 2ms/step - loss: 1.2427\n",
      "Epoch 8/25\n",
      "195/195 [==============================] - 0s 1ms/step - loss: 1.2002\n",
      "Epoch 9/25\n",
      "195/195 [==============================] - 0s 1ms/step - loss: 1.1544\n",
      "Epoch 10/25\n",
      "195/195 [==============================] - 0s 1ms/step - loss: 1.1246\n",
      "Epoch 11/25\n",
      "195/195 [==============================] - 0s 2ms/step - loss: 1.0932\n",
      "Epoch 12/25\n",
      "195/195 [==============================] - 0s 1ms/step - loss: 1.0517\n",
      "Epoch 13/25\n",
      "195/195 [==============================] - 0s 1ms/step - loss: 1.0352\n",
      "Epoch 14/25\n",
      "195/195 [==============================] - 0s 1ms/step - loss: 1.0219\n",
      "Epoch 15/25\n",
      "195/195 [==============================] - 0s 2ms/step - loss: 1.0036\n",
      "Epoch 16/25\n",
      "195/195 [==============================] - 0s 2ms/step - loss: 0.9950\n",
      "Epoch 17/25\n",
      "195/195 [==============================] - 0s 1ms/step - loss: 0.9752\n",
      "Epoch 18/25\n",
      "195/195 [==============================] - 0s 1ms/step - loss: 0.9786\n",
      "Epoch 19/25\n",
      "195/195 [==============================] - 0s 1ms/step - loss: 0.9645\n",
      "Epoch 20/25\n",
      "195/195 [==============================] - 0s 1ms/step - loss: 0.9579\n",
      "Epoch 21/25\n",
      "195/195 [==============================] - 0s 1ms/step - loss: 0.9404\n",
      "Epoch 22/25\n",
      "195/195 [==============================] - 0s 1ms/step - loss: 0.9517\n",
      "Epoch 23/25\n",
      "195/195 [==============================] - 0s 1ms/step - loss: 0.9326\n",
      "Epoch 24/25\n",
      "195/195 [==============================] - 0s 1ms/step - loss: 0.9329\n",
      "Epoch 25/25\n",
      "195/195 [==============================] - 0s 2ms/step - loss: 0.9165\n"
     ]
    },
    {
     "data": {
      "text/plain": [
       "<keras.src.engine.sequential.Sequential at 0x20967f55dd0>"
      ]
     },
     "execution_count": 85,
     "metadata": {},
     "output_type": "execute_result"
    }
   ],
   "source": [
    "model = Sequential()\n",
    "model.add(Dense(10, input_shape=(6,), activation='relu'))\n",
    "model.add(Dense(8, activation='relu'))\n",
    "model.add(Dense(1, activation='linear'))\n",
    "\n",
    "\n",
    "model.compile(optimizer='Adam', loss='mean_squared_error')\n",
    "model.fit(X_train, y_train, epochs=25,batch_size=1, verbose=1)\n",
    "\n",
    "model"
   ]
  },
  {
   "cell_type": "code",
   "execution_count": 86,
   "metadata": {},
   "outputs": [
    {
     "name": "stdout",
     "output_type": "stream",
     "text": [
      "2/2 [==============================] - 0s 0s/step - loss: 1.2338\n",
      "2/2 [==============================] - 0s 0s/step\n"
     ]
    },
    {
     "data": {
      "text/plain": [
       "0.01289955229567774"
      ]
     },
     "execution_count": 86,
     "metadata": {},
     "output_type": "execute_result"
    }
   ],
   "source": [
    "model.evaluate(X_test, y_test)\n",
    "\n",
    "r2_score(y_test, model.predict(X_test))"
   ]
  }
 ],
 "metadata": {
  "kernelspec": {
   "display_name": "Python 3",
   "language": "python",
   "name": "python3"
  },
  "language_info": {
   "codemirror_mode": {
    "name": "ipython",
    "version": 3
   },
   "file_extension": ".py",
   "mimetype": "text/x-python",
   "name": "python",
   "nbconvert_exporter": "python",
   "pygments_lexer": "ipython3",
   "version": "3.11.1"
  },
  "orig_nbformat": 4
 },
 "nbformat": 4,
 "nbformat_minor": 2
}
