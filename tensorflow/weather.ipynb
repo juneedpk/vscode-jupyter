{
 "cells": [
  {
   "cell_type": "code",
   "execution_count": null,
   "metadata": {},
   "outputs": [],
   "source": [
    "import tensorflow as tf\n",
    "import pandas as pd\n",
    "from sklearn.preprocessing import MinMaxScaler\n",
    "\n",
    "# Load the weather data.\n",
    "df = pd.read_csv('Rainfall_PAK.csv')\n",
    "\n",
    "# Split the data into the features and labels.\n",
    "X = df[:,:1]\n",
    "y = df[:,:-1]\n",
    "\n",
    "# Normalize the data.\n",
    "min_max_scaler = MinMaxScaler()\n",
    "features = min_max_scaler.fit_transform(X)\n",
    "\n",
    "# Create the LSTM model.\n",
    "model = Sequential([\n",
    "    LSTM(128, activation=\"tanh\"),\n",
    "    Dense(1, activation=\"linear\")\n",
    "])\n",
    "\n",
    "# Compile the model.\n",
    "model.compile(optimizer=\"adam\", loss=\"mse\")\n",
    "\n",
    "# Train the model.\n",
    "model.fit(features, labels, epochs=100)\n",
    "\n",
    "# Make predictions.\n",
    "predictions = model.predict(features)\n",
    "\n",
    "# Evaluate the model.\n",
    "mse = tf.keras.losses.MSE(labels, predictions)\n",
    "print(mse)\n"
   ]
  }
 ],
 "metadata": {
  "kernelspec": {
   "display_name": "Python 3",
   "language": "python",
   "name": "python3"
  },
  "language_info": {
   "codemirror_mode": {
    "name": "ipython",
    "version": 3
   },
   "file_extension": ".py",
   "mimetype": "text/x-python",
   "name": "python",
   "nbconvert_exporter": "python",
   "pygments_lexer": "ipython3",
   "version": "3.11.1"
  },
  "orig_nbformat": 4
 },
 "nbformat": 4,
 "nbformat_minor": 2
}
