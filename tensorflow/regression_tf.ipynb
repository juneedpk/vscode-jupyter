{
 "cells": [
  {
   "cell_type": "code",
   "execution_count": 114,
   "metadata": {},
   "outputs": [],
   "source": [
    "# import libraries\n",
    "\n",
    "import tensorflow as tf\n",
    "import pandas as pd\n",
    "import matplotlib.pyplot as plt\n",
    "import seaborn as sns\n",
    "from sklearn.preprocessing import StandardScaler,LabelEncoder\n",
    "from sklearn.model_selection import train_test_split\n",
    "from sklearn.metrics import mean_squared_error,mean_absolute_error\n",
    "from keras.callbacks import EarlyStopping"
   ]
  },
  {
   "cell_type": "code",
   "execution_count": 115,
   "metadata": {},
   "outputs": [
    {
     "data": {
      "text/html": [
       "<div>\n",
       "<style scoped>\n",
       "    .dataframe tbody tr th:only-of-type {\n",
       "        vertical-align: middle;\n",
       "    }\n",
       "\n",
       "    .dataframe tbody tr th {\n",
       "        vertical-align: top;\n",
       "    }\n",
       "\n",
       "    .dataframe thead th {\n",
       "        text-align: right;\n",
       "    }\n",
       "</style>\n",
       "<table border=\"1\" class=\"dataframe\">\n",
       "  <thead>\n",
       "    <tr style=\"text-align: right;\">\n",
       "      <th></th>\n",
       "      <th>carat</th>\n",
       "      <th>cut</th>\n",
       "      <th>color</th>\n",
       "      <th>clarity</th>\n",
       "      <th>depth</th>\n",
       "      <th>table</th>\n",
       "      <th>price</th>\n",
       "      <th>x</th>\n",
       "      <th>y</th>\n",
       "      <th>z</th>\n",
       "    </tr>\n",
       "  </thead>\n",
       "  <tbody>\n",
       "    <tr>\n",
       "      <th>1</th>\n",
       "      <td>0.23</td>\n",
       "      <td>Ideal</td>\n",
       "      <td>E</td>\n",
       "      <td>SI2</td>\n",
       "      <td>61.5</td>\n",
       "      <td>55.0</td>\n",
       "      <td>326</td>\n",
       "      <td>3.95</td>\n",
       "      <td>3.98</td>\n",
       "      <td>2.43</td>\n",
       "    </tr>\n",
       "    <tr>\n",
       "      <th>2</th>\n",
       "      <td>0.21</td>\n",
       "      <td>Premium</td>\n",
       "      <td>E</td>\n",
       "      <td>SI1</td>\n",
       "      <td>59.8</td>\n",
       "      <td>61.0</td>\n",
       "      <td>326</td>\n",
       "      <td>3.89</td>\n",
       "      <td>3.84</td>\n",
       "      <td>2.31</td>\n",
       "    </tr>\n",
       "    <tr>\n",
       "      <th>3</th>\n",
       "      <td>0.23</td>\n",
       "      <td>Good</td>\n",
       "      <td>E</td>\n",
       "      <td>VS1</td>\n",
       "      <td>56.9</td>\n",
       "      <td>65.0</td>\n",
       "      <td>327</td>\n",
       "      <td>4.05</td>\n",
       "      <td>4.07</td>\n",
       "      <td>2.31</td>\n",
       "    </tr>\n",
       "    <tr>\n",
       "      <th>4</th>\n",
       "      <td>0.29</td>\n",
       "      <td>Premium</td>\n",
       "      <td>I</td>\n",
       "      <td>VS2</td>\n",
       "      <td>62.4</td>\n",
       "      <td>58.0</td>\n",
       "      <td>334</td>\n",
       "      <td>4.20</td>\n",
       "      <td>4.23</td>\n",
       "      <td>2.63</td>\n",
       "    </tr>\n",
       "    <tr>\n",
       "      <th>5</th>\n",
       "      <td>0.31</td>\n",
       "      <td>Good</td>\n",
       "      <td>J</td>\n",
       "      <td>SI2</td>\n",
       "      <td>63.3</td>\n",
       "      <td>58.0</td>\n",
       "      <td>335</td>\n",
       "      <td>4.34</td>\n",
       "      <td>4.35</td>\n",
       "      <td>2.75</td>\n",
       "    </tr>\n",
       "  </tbody>\n",
       "</table>\n",
       "</div>"
      ],
      "text/plain": [
       "   carat      cut color clarity  depth  table  price     x     y     z\n",
       "1   0.23    Ideal     E     SI2   61.5   55.0    326  3.95  3.98  2.43\n",
       "2   0.21  Premium     E     SI1   59.8   61.0    326  3.89  3.84  2.31\n",
       "3   0.23     Good     E     VS1   56.9   65.0    327  4.05  4.07  2.31\n",
       "4   0.29  Premium     I     VS2   62.4   58.0    334  4.20  4.23  2.63\n",
       "5   0.31     Good     J     SI2   63.3   58.0    335  4.34  4.35  2.75"
      ]
     },
     "execution_count": 115,
     "metadata": {},
     "output_type": "execute_result"
    }
   ],
   "source": [
    "# importing data\n",
    "\n",
    "df = pd.read_csv('diamonds.csv',index_col=0)\n",
    "df.head()"
   ]
  },
  {
   "cell_type": "code",
   "execution_count": 116,
   "metadata": {},
   "outputs": [],
   "source": [
    "# splitting data into X and y\n",
    "X = df.drop('price',axis=1)\n",
    "y = df['price']\n"
   ]
  },
  {
   "cell_type": "code",
   "execution_count": 117,
   "metadata": {},
   "outputs": [],
   "source": [
    "# encoding categorical data into numerical data\n",
    "\n",
    "le = LabelEncoder()\n",
    "X['cut'] = le.fit_transform(X['cut'])\n",
    "X['color'] = le.fit_transform(X['color'])\n",
    "X['clarity'] = le.fit_transform(X['clarity'])\n"
   ]
  },
  {
   "cell_type": "code",
   "execution_count": 118,
   "metadata": {},
   "outputs": [],
   "source": [
    "#splitting data into train and test split\n",
    "\n",
    "X_train,X_test,y_train,y_test = train_test_split(X,y,test_size=0.2,random_state=0)"
   ]
  },
  {
   "cell_type": "code",
   "execution_count": 119,
   "metadata": {},
   "outputs": [],
   "source": [
    "# standardizing data\n",
    "\n",
    "sc = StandardScaler()\n",
    "X_train = sc.fit_transform(X_train)\n",
    "X_test = sc.transform(X_test)"
   ]
  },
  {
   "cell_type": "code",
   "execution_count": 139,
   "metadata": {},
   "outputs": [],
   "source": [
    "# creating neural network\n",
    "\n",
    "\n",
    "model = tf.keras.models.Sequential()\n",
    "\n",
    "model.add(tf.keras.layers.Dense(256,activation='relu',input_shape=(9,)))\n",
    "model.add(tf.keras.layers.Dense(32,activation='relu'))\n",
    "model.add(tf.keras.layers.Dense(16,activation='relu'))\n",
    "model.add(tf.keras.layers.Dense(1))\n"
   ]
  },
  {
   "cell_type": "code",
   "execution_count": 140,
   "metadata": {},
   "outputs": [
    {
     "name": "stdout",
     "output_type": "stream",
     "text": [
      "Epoch 1/35\n",
      "1079/1079 [==============================] - 4s 3ms/step - loss: 7519694.0000 - val_loss: 1543238.5000\n",
      "Epoch 2/35\n",
      "1079/1079 [==============================] - 2s 2ms/step - loss: 1658584.0000 - val_loss: 1446648.3750\n",
      "Epoch 3/35\n",
      "1079/1079 [==============================] - 2s 2ms/step - loss: 1566725.7500 - val_loss: 1376947.8750\n",
      "Epoch 4/35\n",
      "1079/1079 [==============================] - 2s 2ms/step - loss: 1488453.8750 - val_loss: 1318295.5000\n",
      "Epoch 5/35\n",
      "1079/1079 [==============================] - 2s 2ms/step - loss: 1434941.0000 - val_loss: 1280523.8750\n",
      "Epoch 6/35\n",
      "1079/1079 [==============================] - 2s 2ms/step - loss: 1403797.5000 - val_loss: 1261866.2500\n",
      "Epoch 7/35\n",
      "1079/1079 [==============================] - 2s 2ms/step - loss: 1371564.1250 - val_loss: 1238353.6250\n",
      "Epoch 8/35\n",
      "1079/1079 [==============================] - 2s 2ms/step - loss: 1348602.0000 - val_loss: 1211751.2500\n",
      "Epoch 9/35\n",
      "1079/1079 [==============================] - 2s 2ms/step - loss: 1323405.8750 - val_loss: 1180083.2500\n",
      "Epoch 10/35\n",
      "1079/1079 [==============================] - 2s 2ms/step - loss: 1301560.7500 - val_loss: 1167884.2500\n",
      "Epoch 11/35\n",
      "1079/1079 [==============================] - 3s 3ms/step - loss: 1278488.2500 - val_loss: 1143160.6250\n",
      "Epoch 12/35\n",
      "1079/1079 [==============================] - 2s 2ms/step - loss: 1246057.7500 - val_loss: 1134270.0000\n",
      "Epoch 13/35\n",
      "1079/1079 [==============================] - 2s 2ms/step - loss: 1203898.2500 - val_loss: 1112449.2500\n",
      "Epoch 14/35\n",
      "1079/1079 [==============================] - 2s 2ms/step - loss: 1174005.3750 - val_loss: 1065671.6250\n",
      "Epoch 15/35\n",
      "1079/1079 [==============================] - 3s 2ms/step - loss: 1161936.2500 - val_loss: 1041567.1875\n",
      "Epoch 16/35\n",
      "1079/1079 [==============================] - 2s 2ms/step - loss: 1140588.7500 - val_loss: 1031756.8125\n",
      "Epoch 17/35\n",
      "1079/1079 [==============================] - 2s 2ms/step - loss: 1122679.3750 - val_loss: 1017436.3750\n",
      "Epoch 18/35\n",
      "1079/1079 [==============================] - 3s 3ms/step - loss: 1103658.5000 - val_loss: 1012896.0625\n",
      "Epoch 19/35\n",
      "1079/1079 [==============================] - 2s 2ms/step - loss: 1088685.0000 - val_loss: 973127.2500\n",
      "Epoch 20/35\n",
      "1079/1079 [==============================] - 2s 2ms/step - loss: 1063275.1250 - val_loss: 967269.4375\n",
      "Epoch 21/35\n",
      "1079/1079 [==============================] - 3s 2ms/step - loss: 1049236.6250 - val_loss: 971386.7500\n",
      "Epoch 22/35\n",
      "1079/1079 [==============================] - 2s 2ms/step - loss: 1024398.4375 - val_loss: 970369.1875\n",
      "Epoch 23/35\n",
      "1079/1079 [==============================] - 2s 2ms/step - loss: 1004000.0625 - val_loss: 893513.7500\n",
      "Epoch 24/35\n",
      "1079/1079 [==============================] - 2s 2ms/step - loss: 960498.9375 - val_loss: 843762.8125\n",
      "Epoch 25/35\n",
      "1079/1079 [==============================] - 2s 2ms/step - loss: 915698.6250 - val_loss: 834429.8750\n",
      "Epoch 26/35\n",
      "1079/1079 [==============================] - 2s 2ms/step - loss: 881736.0625 - val_loss: 831903.3750\n",
      "Epoch 27/35\n",
      "1079/1079 [==============================] - 2s 2ms/step - loss: 856428.0625 - val_loss: 788608.4375\n",
      "Epoch 28/35\n",
      "1079/1079 [==============================] - 2s 2ms/step - loss: 839852.1250 - val_loss: 752005.7500\n",
      "Epoch 29/35\n",
      "1079/1079 [==============================] - 2s 2ms/step - loss: 818564.0000 - val_loss: 797568.8750\n",
      "Epoch 30/35\n",
      "1079/1079 [==============================] - 2s 2ms/step - loss: 799723.8125 - val_loss: 785055.7500\n",
      "Epoch 31/35\n",
      "1079/1079 [==============================] - 2s 2ms/step - loss: 791257.1875 - val_loss: 732606.5000\n",
      "Epoch 32/35\n",
      "1079/1079 [==============================] - 2s 2ms/step - loss: 778531.6875 - val_loss: 731899.7500\n",
      "Epoch 33/35\n",
      "1079/1079 [==============================] - 3s 3ms/step - loss: 752121.7500 - val_loss: 683043.3750\n",
      "Epoch 34/35\n",
      "1079/1079 [==============================] - 2s 2ms/step - loss: 738557.7500 - val_loss: 727114.3125\n",
      "Epoch 35/35\n",
      "1079/1079 [==============================] - 2s 2ms/step - loss: 727708.8750 - val_loss: 661417.5625\n"
     ]
    }
   ],
   "source": [
    "model.compile(optimizer='adam',loss='mse')\n",
    "\n",
    "early_stop = EarlyStopping(monitor='val_loss', mode='min', verbose=1, patience=10,restore_best_weights=True)\n",
    "history = model.fit(X_train, y_train, epochs=35, callbacks=[early_stop],validation_split=0.2)\n"
   ]
  },
  {
   "cell_type": "code",
   "execution_count": 141,
   "metadata": {},
   "outputs": [
    {
     "name": "stdout",
     "output_type": "stream",
     "text": [
      "338/338 [==============================] - 1s 2ms/step - loss: 712079.0625\n",
      "the loss is 712079.0625\n"
     ]
    }
   ],
   "source": [
    "loss = model.evaluate(X_test,y_test)\n",
    "print(f'the loss is {loss}')"
   ]
  },
  {
   "cell_type": "code",
   "execution_count": 142,
   "metadata": {},
   "outputs": [
    {
     "name": "stdout",
     "output_type": "stream",
     "text": [
      "338/338 [==============================] - 1s 1ms/step\n"
     ]
    },
    {
     "data": {
      "text/plain": [
       "0     4681.235352\n",
       "1     6989.791504\n",
       "2     5036.983887\n",
       "3    10334.478516\n",
       "4     5164.460449\n",
       "dtype: float32"
      ]
     },
     "execution_count": 142,
     "metadata": {},
     "output_type": "execute_result"
    }
   ],
   "source": [
    "model_pred = model.predict(X_test).reshape(1,-1)[0]\n",
    "model_pred = pd.Series(model_pred)\n",
    "model_pred.head()"
   ]
  },
  {
   "cell_type": "code",
   "execution_count": 143,
   "metadata": {},
   "outputs": [
    {
     "data": {
      "text/plain": [
       "<matplotlib.legend.Legend at 0x1b416d97210>"
      ]
     },
     "execution_count": 143,
     "metadata": {},
     "output_type": "execute_result"
    },
    {
     "data": {
      "image/png": "[encoded data removed]",
      "text/plain": [
       "<Figure size 640x480 with 1 Axes>"
      ]
     },
     "metadata": {},
     "output_type": "display_data"
    }
   ],
   "source": [
    "plt.plot(history.history['loss'])\n",
    "plt.plot(history.history['val_loss'])\n",
    "plt.title('model loss')\n",
    "plt.ylabel('loss')\n",
    "plt.xlabel('epoch')\n",
    "plt.legend(['train','validation'],loc='upper right')\n",
    "\n"
   ]
  }
 ],
 "metadata": {
  "kernelspec": {
   "display_name": "Python 3",
   "language": "python",
   "name": "python3"
  },
  "language_info": {
   "codemirror_mode": {
    "name": "ipython",
    "version": 3
   },
   "file_extension": ".py",
   "mimetype": "text/x-python",
   "name": "python",
   "nbconvert_exporter": "python",
   "pygments_lexer": "ipython3",
   "version": "3.11.1"
  }
 },
 "nbformat": 4,
 "nbformat_minor": 2
}
