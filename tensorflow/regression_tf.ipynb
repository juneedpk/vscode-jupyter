{
 "cells": [
  {
   "cell_type": "code",
   "execution_count": 114,
   "metadata": {},
   "outputs": [],
   "source": [
    "# import libraries\n",
    "\n",
    "import tensorflow as tf\n",
    "import pandas as pd\n",
    "import matplotlib.pyplot as plt\n",
    "import seaborn as sns\n",
    "from sklearn.preprocessing import StandardScaler,LabelEncoder\n",
    "from sklearn.model_selection import train_test_split\n",
    "from sklearn.metrics import mean_squared_error,mean_absolute_error\n",
    "from keras.callbacks import EarlyStopping"
   ]
  },
  {
   "cell_type": "code",
   "execution_count": 115,
   "metadata": {},
   "outputs": [
    {
     "data": {
      "text/html": [
       "<div>\n",
       "<style scoped>\n",
       "    .dataframe tbody tr th:only-of-type {\n",
       "        vertical-align: middle;\n",
       "    }\n",
       "\n",
       "    .dataframe tbody tr th {\n",
       "        vertical-align: top;\n",
       "    }\n",
       "\n",
       "    .dataframe thead th {\n",
       "        text-align: right;\n",
       "    }\n",
       "</style>\n",
       "<table border=\"1\" class=\"dataframe\">\n",
       "  <thead>\n",
       "    <tr style=\"text-align: right;\">\n",
       "      <th></th>\n",
       "      <th>carat</th>\n",
       "      <th>cut</th>\n",
       "      <th>color</th>\n",
       "      <th>clarity</th>\n",
       "      <th>depth</th>\n",
       "      <th>table</th>\n",
       "      <th>price</th>\n",
       "      <th>x</th>\n",
       "      <th>y</th>\n",
       "      <th>z</th>\n",
       "    </tr>\n",
       "  </thead>\n",
       "  <tbody>\n",
       "    <tr>\n",
       "      <th>1</th>\n",
       "      <td>0.23</td>\n",
       "      <td>Ideal</td>\n",
       "      <td>E</td>\n",
       "      <td>SI2</td>\n",
       "      <td>61.5</td>\n",
       "      <td>55.0</td>\n",
       "      <td>326</td>\n",
       "      <td>3.95</td>\n",
       "      <td>3.98</td>\n",
       "      <td>2.43</td>\n",
       "    </tr>\n",
       "    <tr>\n",
       "      <th>2</th>\n",
       "      <td>0.21</td>\n",
       "      <td>Premium</td>\n",
       "      <td>E</td>\n",
       "      <td>SI1</td>\n",
       "      <td>59.8</td>\n",
       "      <td>61.0</td>\n",
       "      <td>326</td>\n",
       "      <td>3.89</td>\n",
       "      <td>3.84</td>\n",
       "      <td>2.31</td>\n",
       "    </tr>\n",
       "    <tr>\n",
       "      <th>3</th>\n",
       "      <td>0.23</td>\n",
       "      <td>Good</td>\n",
       "      <td>E</td>\n",
       "      <td>VS1</td>\n",
       "      <td>56.9</td>\n",
       "      <td>65.0</td>\n",
       "      <td>327</td>\n",
       "      <td>4.05</td>\n",
       "      <td>4.07</td>\n",
       "      <td>2.31</td>\n",
       "    </tr>\n",
       "    <tr>\n",
       "      <th>4</th>\n",
       "      <td>0.29</td>\n",
       "      <td>Premium</td>\n",
       "      <td>I</td>\n",
       "      <td>VS2</td>\n",
       "      <td>62.4</td>\n",
       "      <td>58.0</td>\n",
       "      <td>334</td>\n",
       "      <td>4.20</td>\n",
       "      <td>4.23</td>\n",
       "      <td>2.63</td>\n",
       "    </tr>\n",
       "    <tr>\n",
       "      <th>5</th>\n",
       "      <td>0.31</td>\n",
       "      <td>Good</td>\n",
       "      <td>J</td>\n",
       "      <td>SI2</td>\n",
       "      <td>63.3</td>\n",
       "      <td>58.0</td>\n",
       "      <td>335</td>\n",
       "      <td>4.34</td>\n",
       "      <td>4.35</td>\n",
       "      <td>2.75</td>\n",
       "    </tr>\n",
       "  </tbody>\n",
       "</table>\n",
       "</div>"
      ],
      "text/plain": [
       "   carat      cut color clarity  depth  table  price     x     y     z\n",
       "1   0.23    Ideal     E     SI2   61.5   55.0    326  3.95  3.98  2.43\n",
       "2   0.21  Premium     E     SI1   59.8   61.0    326  3.89  3.84  2.31\n",
       "3   0.23     Good     E     VS1   56.9   65.0    327  4.05  4.07  2.31\n",
       "4   0.29  Premium     I     VS2   62.4   58.0    334  4.20  4.23  2.63\n",
       "5   0.31     Good     J     SI2   63.3   58.0    335  4.34  4.35  2.75"
      ]
     },
     "execution_count": 115,
     "metadata": {},
     "output_type": "execute_result"
    }
   ],
   "source": [
    "# importing data\n",
    "\n",
    "df = pd.read_csv('diamonds.csv',index_col=0)\n",
    "df.head()"
   ]
  },
  {
   "cell_type": "code",
   "execution_count": 116,
   "metadata": {},
   "outputs": [],
   "source": [
    "# splitting data into X and y\n",
    "X = df.drop('price',axis=1)\n",
    "y = df['price']\n"
   ]
  },
  {
   "cell_type": "code",
   "execution_count": 117,
   "metadata": {},
   "outputs": [],
   "source": [
    "# encoding categorical data into numerical data\n",
    "\n",
    "le = LabelEncoder()\n",
    "X['cut'] = le.fit_transform(X['cut'])\n",
    "X['color'] = le.fit_transform(X['color'])\n",
    "X['clarity'] = le.fit_transform(X['clarity'])\n"
   ]
  },
  {
   "cell_type": "code",
   "execution_count": 118,
   "metadata": {},
   "outputs": [],
   "source": [
    "#splitting data into train and test split\n",
    "\n",
    "X_train,X_test,y_train,y_test = train_test_split(X,y,test_size=0.2,random_state=0)"
   ]
  },
  {
   "cell_type": "code",
   "execution_count": 119,
   "metadata": {},
   "outputs": [],
   "source": [
    "# standardizing data\n",
    "\n",
    "sc = StandardScaler()\n",
    "X_train = sc.fit_transform(X_train)\n",
    "X_test = sc.transform(X_test)"
   ]
  },
  {
   "cell_type": "code",
   "execution_count": 120,
   "metadata": {},
   "outputs": [],
   "source": [
    "# creating neural network\n",
    "\n",
    "\n",
    "model = tf.keras.models.Sequential()\n",
    "\n",
    "model.add(tf.keras.layers.Dense(256,activation='relu',input_shape=(9,)))\n",
    "model.add(tf.keras.layers.Dense(32,activation='relu'))\n",
    "model.add(tf.keras.layers.Dense(1))\n"
   ]
  },
  {
   "cell_type": "code",
   "execution_count": 121,
   "metadata": {},
   "outputs": [
    {
     "name": "stdout",
     "output_type": "stream",
     "text": [
      "Epoch 1/35\n",
      "1079/1079 [==============================] - 3s 2ms/step - loss: 9719922.0000 - val_loss: 1681965.3750\n",
      "Epoch 2/35\n",
      "1079/1079 [==============================] - 2s 2ms/step - loss: 1758667.5000 - val_loss: 1530054.3750\n",
      "Epoch 3/35\n",
      "1079/1079 [==============================] - 3s 2ms/step - loss: 1658246.8750 - val_loss: 1561501.7500\n",
      "Epoch 4/35\n",
      "1079/1079 [==============================] - 2s 2ms/step - loss: 1601838.1250 - val_loss: 1435689.3750\n",
      "Epoch 5/35\n",
      "1079/1079 [==============================] - 2s 2ms/step - loss: 1554560.1250 - val_loss: 1393829.0000\n",
      "Epoch 6/35\n",
      "1079/1079 [==============================] - 2s 2ms/step - loss: 1515402.8750 - val_loss: 1363218.5000\n",
      "Epoch 7/35\n",
      "1079/1079 [==============================] - 2s 2ms/step - loss: 1474767.8750 - val_loss: 1331834.7500\n",
      "Epoch 8/35\n",
      "1079/1079 [==============================] - 2s 2ms/step - loss: 1442684.1250 - val_loss: 1303708.6250\n",
      "Epoch 9/35\n",
      "1079/1079 [==============================] - 2s 2ms/step - loss: 1418039.6250 - val_loss: 1291761.5000\n",
      "Epoch 10/35\n",
      "1079/1079 [==============================] - 3s 2ms/step - loss: 1394423.3750 - val_loss: 1268074.1250\n",
      "Epoch 11/35\n",
      "1079/1079 [==============================] - 2s 2ms/step - loss: 1377542.6250 - val_loss: 1253058.5000\n",
      "Epoch 12/35\n",
      "1079/1079 [==============================] - 3s 3ms/step - loss: 1359755.1250 - val_loss: 1244446.5000\n",
      "Epoch 13/35\n",
      "1079/1079 [==============================] - 2s 2ms/step - loss: 1345287.8750 - val_loss: 1247132.8750\n",
      "Epoch 14/35\n",
      "1079/1079 [==============================] - 2s 2ms/step - loss: 1335985.5000 - val_loss: 1222394.5000\n",
      "Epoch 15/35\n",
      "1079/1079 [==============================] - 2s 2ms/step - loss: 1327937.3750 - val_loss: 1215328.2500\n",
      "Epoch 16/35\n",
      "1079/1079 [==============================] - 2s 2ms/step - loss: 1314695.6250 - val_loss: 1206143.8750\n",
      "Epoch 17/35\n",
      "1079/1079 [==============================] - 2s 2ms/step - loss: 1305310.1250 - val_loss: 1203242.2500\n",
      "Epoch 18/35\n",
      "1079/1079 [==============================] - 2s 2ms/step - loss: 1299008.8750 - val_loss: 1190221.5000\n",
      "Epoch 19/35\n",
      "1079/1079 [==============================] - 2s 2ms/step - loss: 1292522.2500 - val_loss: 1220375.7500\n",
      "Epoch 20/35\n",
      "1079/1079 [==============================] - 2s 2ms/step - loss: 1286655.8750 - val_loss: 1183992.7500\n",
      "Epoch 21/35\n",
      "1079/1079 [==============================] - 2s 2ms/step - loss: 1280615.6250 - val_loss: 1196966.2500\n",
      "Epoch 22/35\n",
      "1079/1079 [==============================] - 2s 2ms/step - loss: 1272556.7500 - val_loss: 1214982.0000\n",
      "Epoch 23/35\n",
      "1079/1079 [==============================] - 2s 2ms/step - loss: 1272519.6250 - val_loss: 1170475.6250\n",
      "Epoch 24/35\n",
      "1079/1079 [==============================] - 2s 2ms/step - loss: 1267696.8750 - val_loss: 1170272.0000\n",
      "Epoch 25/35\n",
      "1079/1079 [==============================] - 2s 2ms/step - loss: 1266075.7500 - val_loss: 1165895.0000\n",
      "Epoch 26/35\n",
      "1079/1079 [==============================] - 2s 2ms/step - loss: 1260327.0000 - val_loss: 1162990.8750\n",
      "Epoch 27/35\n",
      "1079/1079 [==============================] - 2s 2ms/step - loss: 1257126.5000 - val_loss: 1162094.1250\n",
      "Epoch 28/35\n",
      "1079/1079 [==============================] - 2s 2ms/step - loss: 1255919.0000 - val_loss: 1159849.7500\n",
      "Epoch 29/35\n",
      "1079/1079 [==============================] - 2s 2ms/step - loss: 1249205.6250 - val_loss: 1154763.7500\n",
      "Epoch 30/35\n",
      "1079/1079 [==============================] - 2s 2ms/step - loss: 1244260.3750 - val_loss: 1150548.8750\n",
      "Epoch 31/35\n",
      "1079/1079 [==============================] - 2s 2ms/step - loss: 1237749.1250 - val_loss: 1144832.6250\n",
      "Epoch 32/35\n",
      "1079/1079 [==============================] - 2s 2ms/step - loss: 1231946.5000 - val_loss: 1161926.2500\n",
      "Epoch 33/35\n",
      "1079/1079 [==============================] - 2s 2ms/step - loss: 1227864.0000 - val_loss: 1147361.7500\n",
      "Epoch 34/35\n",
      "1079/1079 [==============================] - 2s 2ms/step - loss: 1216985.3750 - val_loss: 1154094.6250\n",
      "Epoch 35/35\n",
      "1079/1079 [==============================] - 2s 2ms/step - loss: 1214115.0000 - val_loss: 1120466.1250\n"
     ]
    }
   ],
   "source": [
    "model.compile(optimizer='adam',loss='mse')\n",
    "\n",
    "early_stop = EarlyStopping(monitor='val_loss', mode='min', verbose=1, patience=10,restore_best_weights=True)\n",
    "history = model.fit(X_train, y_train, epochs=35, callbacks=[early_stop],validation_split=0.2)\n"
   ]
  },
  {
   "cell_type": "code",
   "execution_count": 122,
   "metadata": {},
   "outputs": [
    {
     "name": "stdout",
     "output_type": "stream",
     "text": [
      "338/338 [==============================] - 1s 2ms/step - loss: 1177794.8750\n",
      "the loss is 1177794.875\n"
     ]
    }
   ],
   "source": [
    "loss = model.evaluate(X_test,y_test)\n",
    "print(f'the loss is {loss}')"
   ]
  },
  {
   "cell_type": "code",
   "execution_count": 125,
   "metadata": {},
   "outputs": [
    {
     "data": {
      "text/plain": [
       "<matplotlib.legend.Legend at 0x1b423ab2d90>"
      ]
     },
     "execution_count": 125,
     "metadata": {},
     "output_type": "execute_result"
    },
    {
     "data": {
      "image/png": "[encoded data removed]",
      "text/plain": [
       "<Figure size 640x480 with 1 Axes>"
      ]
     },
     "metadata": {},
     "output_type": "display_data"
    }
   ],
   "source": [
    "plt.plot(history.history['loss'])\n",
    "plt.plot(history.history['val_loss'])\n",
    "plt.title('model loss')\n",
    "plt.ylabel('loss')\n",
    "plt.xlabel('epoch')\n",
    "plt.legend(['train','validation'],loc='upper right')\n",
    "\n"
   ]
  },
  {
   "cell_type": "code",
   "execution_count": null,
   "metadata": {},
   "outputs": [],
   "source": []
  }
 ],
 "metadata": {
  "kernelspec": {
   "display_name": "Python 3",
   "language": "python",
   "name": "python3"
  },
  "language_info": {
   "codemirror_mode": {
    "name": "ipython",
    "version": 3
   },
   "file_extension": ".py",
   "mimetype": "text/x-python",
   "name": "python",
   "nbconvert_exporter": "python",
   "pygments_lexer": "ipython3",
   "version": "3.11.1"
  }
 },
 "nbformat": 4,
 "nbformat_minor": 2
}
