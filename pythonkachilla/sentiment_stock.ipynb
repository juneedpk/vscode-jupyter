{
 "cells": [
  {
   "cell_type": "code",
   "execution_count": 12,
   "metadata": {},
   "outputs": [
    {
     "name": "stdout",
     "output_type": "stream",
     "text": [
      "The sentiment score for NVDA is: 0.29250000000000004, which is classified as: Positive\n"
     ]
    }
   ],
   "source": [
    "import requests\n",
    "from bs4 import BeautifulSoup\n",
    "import yfinance as yf\n",
    "import spacy\n",
    "from textblob import TextBlob\n",
    "\n",
    "# Function to fetch and extract text from a URL\n",
    "def fetch_article_text(url):\n",
    "    response = requests.get(url)\n",
    "    soup = BeautifulSoup(response.content, 'html.parser')\n",
    "    paragraphs = soup.find_all(['p', 'div'])  # Include <div> tags\n",
    "    article_text = ' '.join([p.get_text() for p in paragraphs])\n",
    "    return article_text\n",
    "\n",
    "# Function to get the stock name from the symbol\n",
    "def get_stock_name(symbol):\n",
    "    stock = yf.Ticker(symbol)\n",
    "    return stock.info['longName']\n",
    "\n",
    "# Function to filter text relevant to the stock\n",
    "def filter_relevant_text(article_text, stock_name, stock_symbol):\n",
    "    nlp = spacy.load(\"en_core_web_sm\")\n",
    "    doc = nlp(article_text)\n",
    "    sentences = [sent.text for sent in doc.sents if stock_name in sent.text or stock_symbol in sent.text]\n",
    "    relevant_text = ' '.join(sentences)\n",
    "    return relevant_text\n",
    "\n",
    "# Function to analyze sentiment\n",
    "def analyze_sentiment(text):\n",
    "    blob = TextBlob(text)\n",
    "    sentiment_score = blob.sentiment.polarity\n",
    "    return sentiment_score\n",
    "\n",
    "# Function to classify sentiment score into categories\n",
    "def classify_sentiment(score):\n",
    "    if score <= -0.6:\n",
    "        return \"Very Negative\"\n",
    "    elif score <= -0.2:\n",
    "        return \"Negative\"\n",
    "    elif score < 0.2:\n",
    "        return \"Neutral\"\n",
    "    elif score < 0.6:\n",
    "        return \"Positive\"\n",
    "    else:\n",
    "        return \"Very Positive\"\n",
    "\n",
    "# Main function to tie everything together\n",
    "def get_stock_sentiment(symbol, url):\n",
    "    # Fetch article text\n",
    "    article_text = fetch_article_text(url)\n",
    "    \n",
    "    # Get stock name\n",
    "    stock_name = get_stock_name(symbol)\n",
    "    \n",
    "    # Filter relevant text\n",
    "    relevant_text = filter_relevant_text(article_text, stock_name, symbol)\n",
    "    \n",
    "    # Analyze sentiment\n",
    "    sentiment_score = analyze_sentiment(relevant_text)\n",
    "    \n",
    "    # Classify sentiment\n",
    "    sentiment_class = classify_sentiment(sentiment_score)\n",
    "    \n",
    "    return sentiment_score, sentiment_class\n",
    "\n",
    "# Example usage\n",
    "if __name__ == \"__main__\":\n",
    "    symbol = 'NVDA'\n",
    "    url = 'https://www.morningstar.co.uk/uk/news/249407/going-into-earnings-is-nvidia-stock-a-buy-or-a-sell.aspx'  # Replace with an actual URL\n",
    "    sentiment_score, sentiment_class = get_stock_sentiment(symbol, url)\n",
    "    print(f\"The sentiment score for {symbol} is: {sentiment_score}, which is classified as: {sentiment_class}\")\n",
    "\n",
    "\n",
    "\n",
    "\n",
    "\n"
   ]
  }
 ],
 "metadata": {
  "kernelspec": {
   "display_name": "Python 3",
   "language": "python",
   "name": "python3"
  },
  "language_info": {
   "codemirror_mode": {
    "name": "ipython",
    "version": 3
   },
   "file_extension": ".py",
   "mimetype": "text/x-python",
   "name": "python",
   "nbconvert_exporter": "python",
   "pygments_lexer": "ipython3",
   "version": "3.11.1"
  }
 },
 "nbformat": 4,
 "nbformat_minor": 2
}
