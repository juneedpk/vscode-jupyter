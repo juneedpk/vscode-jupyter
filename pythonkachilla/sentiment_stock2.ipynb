{
 "cells": [
  {
   "cell_type": "code",
   "execution_count": 2,
   "metadata": {},
   "outputs": [
    {
     "name": "stdout",
     "output_type": "stream",
     "text": [
      "The sentiment score for TSLA is: 0.0\n"
     ]
    }
   ],
   "source": [
    "import requests\n",
    "from bs4 import BeautifulSoup\n",
    "import yfinance as yf\n",
    "import spacy\n",
    "from textblob import TextBlob\n",
    "import spacy\n",
    "\n",
    "url = 'https://www.cnbc.com/2024/05/17/as-tesla-layoffs-continue-here-are-600-jobs-cut-in-california.html'\n",
    "\n",
    "def fetch_article_text(url):\n",
    "    response = requests.get(url)\n",
    "    soup = BeautifulSoup(response.content, 'html.parser')\n",
    "    paragraphs = soup.find_all('p')\n",
    "    article_text = ' '.join([p.get_text() for p in paragraphs])\n",
    "    return article_text\n",
    "\n",
    "symbol = 'TSLA'\n",
    "def get_stock_name(symbol):\n",
    "    stock = yf.Ticker(symbol)\n",
    "    return stock.info['longName']\n",
    "\n",
    "def filter_relevant_text(article_text, stock_name, stock_symbol):\n",
    "    nlp = spacy.load(\"en_core_web_sm\")\n",
    "    doc = nlp(article_text)\n",
    "    sentences = [sent.text for sent in doc.sents if stock_name in sent.text or stock_symbol in sent.text]\n",
    "    relevant_text = ' '.join(sentences)\n",
    "    return relevant_text\n",
    "\n",
    "def analyze_sentiment(text):\n",
    "    blob = TextBlob(text)\n",
    "    sentiment_score = blob.sentiment.polarity\n",
    "    return sentiment_score\n",
    "\n",
    "def get_stock_sentiment(symbol, url):\n",
    "    # Fetch article text\n",
    "    article_text = fetch_article_text(url)\n",
    "    \n",
    "    # Get stock name\n",
    "    stock_name = get_stock_name(symbol)\n",
    "    \n",
    "    # Filter relevant text\n",
    "    relevant_text = filter_relevant_text(article_text, stock_name, symbol)\n",
    "    \n",
    "    # Analyze sentiment\n",
    "    sentiment_score = analyze_sentiment(relevant_text)\n",
    "    \n",
    "    return sentiment_score\n",
    "\n",
    "if __name__ == '__main__':\n",
    "    sentiment_score = get_stock_sentiment(symbol, url)\n",
    "    print(f\"The sentiment score for {symbol} is: {sentiment_score}\")\n",
    "\n",
    "\n",
    "\n"
   ]
  }
 ],
 "metadata": {
  "kernelspec": {
   "display_name": "Python 3",
   "language": "python",
   "name": "python3"
  },
  "language_info": {
   "codemirror_mode": {
    "name": "ipython",
    "version": 3
   },
   "file_extension": ".py",
   "mimetype": "text/x-python",
   "name": "python",
   "nbconvert_exporter": "python",
   "pygments_lexer": "ipython3",
   "version": "3.11.1"
  }
 },
 "nbformat": 4,
 "nbformat_minor": 2
}
