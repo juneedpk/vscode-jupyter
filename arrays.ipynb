{
 "cells": [
  {
   "cell_type": "code",
   "execution_count": 16,
   "id": "31f4c57b",
   "metadata": {},
   "outputs": [
    {
     "name": "stdout",
     "output_type": "stream",
     "text": [
      "[ 4.1  5.1  6.1  7.1  8.1  9.1 10.1]\n"
     ]
    }
   ],
   "source": [
    "import numpy as np\n",
    "\n",
    "a = np.arange(4.1,10.7)\n",
    "\n",
    "print (a)\n"
   ]
  },
  {
   "cell_type": "code",
   "execution_count": null,
   "metadata": {},
   "outputs": [],
   "source": [
    "b = np.arange(41)"
   ]
  },
  {
   "cell_type": "code",
   "execution_count": 18,
   "id": "d353bfd7",
   "metadata": {},
   "outputs": [
    {
     "name": "stdout",
     "output_type": "stream",
     "text": [
      "[ 0  1  2  3  4  5  6  7  8  9 10 11 12 13 14 15 16 17 18 19 20 21 22 23\n",
      " 24 25 26 27 28 29 30 31 32 33 34 35 36 37 38 39 40]\n"
     ]
    }
   ],
   "source": [
    "print(b)"
   ]
  },
  {
   "cell_type": "code",
   "execution_count": 2,
   "id": "c2042ef1",
   "metadata": {},
   "outputs": [
    {
     "name": "stdout",
     "output_type": "stream",
     "text": [
      "[5 8]\n"
     ]
    }
   ],
   "source": [
    "import numpy as np\n",
    "c = np.arange(5,9,3)\n",
    "\n",
    "print(c)"
   ]
  },
  {
   "cell_type": "code",
   "execution_count": 20,
   "id": "8e644812",
   "metadata": {},
   "outputs": [
    {
     "name": "stdout",
     "output_type": "stream",
     "text": [
      "[5.  5.  4.  6.1]\n"
     ]
    },
    {
     "data": {
      "text/plain": [
       "numpy.ndarray"
      ]
     },
     "execution_count": 20,
     "metadata": {},
     "output_type": "execute_result"
    }
   ],
   "source": [
    "a1 = np.array([5,5,4,6.1])\n",
    "\n",
    "print (a1)\n",
    "\n",
    "type(a1)"
   ]
  },
  {
   "cell_type": "code",
   "execution_count": 9,
   "id": "7dd33f09",
   "metadata": {
    "scrolled": true
   },
   "outputs": [
    {
     "name": "stdout",
     "output_type": "stream",
     "text": [
      "[[5 5 4]\n",
      " [2 3 4]\n",
      " [6 4 2]]\n"
     ]
    },
    {
     "data": {
      "text/plain": [
       "array([[5, 5, 4],\n",
       "       [2, 3, 4],\n",
       "       [6, 4, 2]])"
      ]
     },
     "execution_count": 9,
     "metadata": {},
     "output_type": "execute_result"
    }
   ],
   "source": [
    "b1 = np.array([[5,5,4],[2,3,4],[6,4,2]])\n",
    "\n",
    "print (b1)\n",
    "b1.reshape(3,3)\n",
    "\n",
    "\n",
    "# len(b1)\n",
    "# b1[2]\n"
   ]
  },
  {
   "cell_type": "code",
   "execution_count": 22,
   "id": "f80b4996",
   "metadata": {},
   "outputs": [
    {
     "name": "stdout",
     "output_type": "stream",
     "text": [
      "[4.67296746e-307 1.69121096e-306 6.23045466e-307 2.22526399e-307\n",
      " 6.23053614e-307 7.56592338e-307 9.34588061e-307 3.62651150e-317]\n"
     ]
    }
   ],
   "source": [
    "c1 = np.empty(8)\n",
    "\n",
    "print(c1)"
   ]
  },
  {
   "cell_type": "code",
   "execution_count": 23,
   "id": "844a629e",
   "metadata": {},
   "outputs": [
    {
     "data": {
      "text/plain": [
       "0"
      ]
     },
     "execution_count": 23,
     "metadata": {},
     "output_type": "execute_result"
    }
   ],
   "source": [
    "import numpy as np\n",
    "\n",
    "x1 = np.array([2,5,8,7])\n",
    "\n",
    "\n",
    "x2 = np.array([4,6,9,0])\n",
    "\n",
    "\n",
    "x2[3]\n",
    "\n",
    "\n",
    "# print(x)"
   ]
  },
  {
   "cell_type": "code",
   "execution_count": 24,
   "id": "f973a621",
   "metadata": {},
   "outputs": [],
   "source": [
    "j = np.arange(16)\n",
    "\n",
    "\n"
   ]
  },
  {
   "cell_type": "code",
   "execution_count": 6,
   "id": "3b175e51",
   "metadata": {},
   "outputs": [
    {
     "name": "stdout",
     "output_type": "stream",
     "text": [
      "[ 8.          8.06122449  8.12244898  8.18367347  8.24489796  8.30612245\n",
      "  8.36734694  8.42857143  8.48979592  8.55102041  8.6122449   8.67346939\n",
      "  8.73469388  8.79591837  8.85714286  8.91836735  8.97959184  9.04081633\n",
      "  9.10204082  9.16326531  9.2244898   9.28571429  9.34693878  9.40816327\n",
      "  9.46938776  9.53061224  9.59183673  9.65306122  9.71428571  9.7755102\n",
      "  9.83673469  9.89795918  9.95918367 10.02040816 10.08163265 10.14285714\n",
      " 10.20408163 10.26530612 10.32653061 10.3877551  10.44897959 10.51020408\n",
      " 10.57142857 10.63265306 10.69387755 10.75510204 10.81632653 10.87755102\n",
      " 10.93877551 11.        ]\n"
     ]
    }
   ],
   "source": [
    "\n",
    "t=np.linspace(8,11)\n",
    "            \n",
    "print (t)\n",
    "\n"
   ]
  },
  {
   "cell_type": "code",
   "execution_count": 26,
   "id": "1561e8da",
   "metadata": {},
   "outputs": [
    {
     "name": "stdout",
     "output_type": "stream",
     "text": [
      "[[[ 3  6]\n",
      "  [ 9 12]\n",
      "  [15 18]]\n",
      "\n",
      " [[21 24]\n",
      "  [27 30]\n",
      "  [33 36]]]\n"
     ]
    }
   ],
   "source": [
    "arr = np.array([1, 2, 3, 4, 5, 6, 7, 8, 9, 10, 11, 12])\n",
    "\n",
    "newarr = arr.reshape(2, 3, 2)*3\n",
    "\n",
    "print(newarr)\n"
   ]
  },
  {
   "cell_type": "code",
   "execution_count": 27,
   "id": "a15ff8f4",
   "metadata": {},
   "outputs": [
    {
     "name": "stdout",
     "output_type": "stream",
     "text": [
      "[[ 3  6  9]\n",
      " [12 15 18]\n",
      " [21 24 27]]\n"
     ]
    }
   ],
   "source": [
    "import numpy as np\n",
    "\n",
    "arr = np.array([1, 2, 3, 4, 5, 6, 7, 8,9])\n",
    "\n",
    "newarr = arr.reshape(3, 3)*3\n",
    "\n",
    "print(newarr)"
   ]
  },
  {
   "cell_type": "code",
   "execution_count": 28,
   "id": "d15f8f52",
   "metadata": {},
   "outputs": [
    {
     "name": "stdout",
     "output_type": "stream",
     "text": [
      "[1 2 3 4 5 6]\n"
     ]
    }
   ],
   "source": [
    "import numpy as np\n",
    "\n",
    "arr = np.array([[1, 2, 3], [4, 5, 6]])\n",
    "\n",
    "newarr = arr.reshape(-1)\n",
    "\n",
    "print(newarr)"
   ]
  },
  {
   "cell_type": "code",
   "execution_count": 29,
   "id": "cd2fee57",
   "metadata": {},
   "outputs": [
    {
     "data": {
      "text/plain": [
       "array([ True,  True,  True, False,  True, False, False])"
      ]
     },
     "execution_count": 29,
     "metadata": {},
     "output_type": "execute_result"
    }
   ],
   "source": [
    "arr = np.array([1, 2, 3, 4, 5, 4, 4])\n",
    "\n",
    "x = np.where\n",
    "(arr != 4)"
   ]
  },
  {
   "cell_type": "code",
   "execution_count": 3,
   "id": "6c8f70c0",
   "metadata": {},
   "outputs": [
    {
     "data": {
      "text/plain": [
       "array([1., 2., 3., 4., 5., 4., 4.])"
      ]
     },
     "execution_count": 3,
     "metadata": {},
     "output_type": "execute_result"
    }
   ],
   "source": [
    "arr = np.array([1, 2, 3, 4, 5, 4, 4])\n",
    "\n",
    "arrn= arr.astype(float)\n",
    "arrn\n",
    "\n",
    "\n"
   ]
  },
  {
   "cell_type": "code",
   "execution_count": 29,
   "id": "511f3a51",
   "metadata": {},
   "outputs": [
    {
     "name": "stdout",
     "output_type": "stream",
     "text": [
      "[-27 -27 -36 -36]\n"
     ]
    }
   ],
   "source": [
    "import numpy as np\n",
    "\n",
    "w=np.array([2,3,4,5])\n",
    "q=np.array([5,6,8,9])\n",
    "\n",
    "x = w-q\n",
    "print(x*9)\n"
   ]
  },
  {
   "cell_type": "code",
   "execution_count": null,
   "id": "c23db61f",
   "metadata": {},
   "outputs": [],
   "source": []
  }
 ],
 "metadata": {
  "kernelspec": {
   "display_name": "Python 3.8.10 64-bit",
   "language": "python",
   "name": "python3"
  },
  "language_info": {
   "codemirror_mode": {
    "name": "ipython",
    "version": 3
   },
   "file_extension": ".py",
   "mimetype": "text/x-python",
   "name": "python",
   "nbconvert_exporter": "python",
   "pygments_lexer": "ipython3",
   "version": "3.8.10"
  },
  "vscode": {
   "interpreter": {
    "hash": "570feb405e2e27c949193ac68f46852414290d515b0ba6e5d90d076ed2284471"
   }
  }
 },
 "nbformat": 4,
 "nbformat_minor": 5
}
