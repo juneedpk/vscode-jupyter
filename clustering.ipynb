{
 "cells": [
  {
   "cell_type": "code",
   "execution_count": 75,
   "metadata": {},
   "outputs": [
    {
     "name": "stderr",
     "output_type": "stream",
     "text": [
      "c:\\Users\\AI\\AppData\\Local\\Programs\\Python\\Python311\\Lib\\site-packages\\sklearn\\cluster\\_kmeans.py:1412: FutureWarning: The default value of `n_init` will change from 10 to 'auto' in 1.4. Set the value of `n_init` explicitly to suppress the warning\n",
      "  super()._check_params_vs_input(X, default_n_init=10)\n"
     ]
    },
    {
     "name": "stdout",
     "output_type": "stream",
     "text": [
      "[2 2 2 ... 4 4 4]\n",
      "[[1.18024823e+00 6.54813271e+03 2.81264734e+00 3.01775066e+00\n",
      "  2.68950215e+00]\n",
      " [1.90781709e+00 1.57466842e+04 2.86262702e+00 2.71095220e+00\n",
      "  2.64207753e+00]\n",
      " [4.31775300e-01 1.13896603e+03 3.03583611e+00 3.65583391e+00\n",
      "  3.48039467e+00]\n",
      " [1.49259756e+00 1.05727337e+04 2.93441467e+00 2.94287729e+00\n",
      "  3.17230842e+00]\n",
      " [9.03228196e-01 3.74748323e+03 2.66905615e+00 3.38964556e+00\n",
      "  2.37172441e+00]]\n"
     ]
    }
   ],
   "source": [
    "from sklearn.cluster import KMeans\n",
    "import matplotlib.pyplot as plt\n",
    "import pandas as pd\n",
    "from sklearn.metrics import silhouette_score as score\n",
    "\n",
    "\n",
    "diamonds = pd.read_csv('diamonds.csv')  # read the data\n",
    "\n",
    "\n",
    "diamonds['cut'] = diamonds['cut'].astype('category')  # map the cut feature\n",
    "diamonds['color'] = diamonds['color'].astype('category') # map the color feature\n",
    "diamonds['clarity'] = diamonds['clarity'].astype('category') # map the clarity feature\n",
    "\n",
    "diamonds['cut'] = diamonds['cut'].map({'Fair':0,'Good':1,'Very Good':2,'Premium':3,'Ideal':4})\n",
    "diamonds['color'] = diamonds['color'].map({'J':0,'I':1,'H':2,'G':3,'F':4,'E':5,'D':6})\n",
    "diamonds['clarity'] = diamonds['clarity'].map({'I1':0,'SI2':1,'SI1':2,'VS2':3,'VS1':4,'VVS2':5,'VVS1':6,'IF':7})\n",
    "\n",
    "\n",
    "X = diamonds[['carat','price','cut','color','clarity']]  # select the features\n",
    "model = KMeans(n_clusters=5, random_state=0).fit(X)  # create the model\n",
    "\n",
    "print(model.labels_)  # print the labels\n",
    "\n",
    "print(model.cluster_centers_)  # print the centers\n",
    "\n",
    "\n"
   ]
  },
  {
   "cell_type": "code",
   "execution_count": 76,
   "metadata": {},
   "outputs": [],
   "source": [
    "# Add a new column 'cluster_label' to the DataFrame to store the cluster assignments\n",
    "diamonds['cluster_label'] = model.labels_\n",
    "\n",
    "# Now, you can save the DataFrame with cluster assignments to a new CSV file\n",
    "diamonds.to_csv('diamonds_with_clusters.csv', index=False)"
   ]
  },
  {
   "cell_type": "code",
   "execution_count": 82,
   "metadata": {},
   "outputs": [
    {
     "data": {
      "text/plain": [
       "<matplotlib.collections.PathCollection at 0x1a561be4890>"
      ]
     },
     "execution_count": 82,
     "metadata": {},
     "output_type": "execute_result"
    },
    {
     "data": {
      "image/png": "[encoded data removed]",
      "text/plain": [
       "<Figure size 640x480 with 1 Axes>"
      ]
     },
     "metadata": {},
     "output_type": "display_data"
    }
   ],
   "source": [
    "# Plot the data points and cluster centers\n",
    "plt.scatter(X['cut'], X['color'], c=model.labels_, cmap='plasma')"
   ]
  }
 ],
 "metadata": {
  "kernelspec": {
   "display_name": "Python 3",
   "language": "python",
   "name": "python3"
  },
  "language_info": {
   "codemirror_mode": {
    "name": "ipython",
    "version": 3
   },
   "file_extension": ".py",
   "mimetype": "text/x-python",
   "name": "python",
   "nbconvert_exporter": "python",
   "pygments_lexer": "ipython3",
   "version": "3.11.1"
  },
  "orig_nbformat": 4
 },
 "nbformat": 4,
 "nbformat_minor": 2
}
