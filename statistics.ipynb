{
 "cells": [
  {
   "cell_type": "code",
   "execution_count": 1,
   "metadata": {},
   "outputs": [],
   "source": [
    "\n",
    "# Importing libraries \n",
    "import pandas as pd\n",
    "import numpy as np\n",
    "import matplotlib.pyplot as plt\n",
    "import seaborn as sns\n",
    "import plotly.express as px\n",
    "from scipy import stats"
   ]
  },
  {
   "cell_type": "code",
   "execution_count": 4,
   "metadata": {},
   "outputs": [
    {
     "name": "stdout",
     "output_type": "stream",
     "text": [
      "<class 'pandas.core.frame.DataFrame'>\n",
      "RangeIndex: 891 entries, 0 to 890\n",
      "Data columns (total 15 columns):\n",
      " #   Column       Non-Null Count  Dtype   \n",
      "---  ------       --------------  -----   \n",
      " 0   survived     891 non-null    int64   \n",
      " 1   pclass       891 non-null    int64   \n",
      " 2   sex          891 non-null    object  \n",
      " 3   age          714 non-null    float64 \n",
      " 4   sibsp        891 non-null    int64   \n",
      " 5   parch        891 non-null    int64   \n",
      " 6   fare         891 non-null    float64 \n",
      " 7   embarked     889 non-null    object  \n",
      " 8   class        891 non-null    category\n",
      " 9   who          891 non-null    object  \n",
      " 10  adult_male   891 non-null    bool    \n",
      " 11  deck         203 non-null    category\n",
      " 12  embark_town  889 non-null    object  \n",
      " 13  alive        891 non-null    object  \n",
      " 14  alone        891 non-null    bool    \n",
      "dtypes: bool(2), category(2), float64(2), int64(4), object(5)\n",
      "memory usage: 80.7+ KB\n"
     ]
    }
   ],
   "source": [
    "# data import\n",
    "\n",
    "df = sns.load_dataset('titanic')\n",
    "\n",
    "df.info()   "
   ]
  },
  {
   "cell_type": "code",
   "execution_count": 5,
   "metadata": {},
   "outputs": [
    {
     "data": {
      "text/html": [
       "<div>\n",
       "<style scoped>\n",
       "    .dataframe tbody tr th:only-of-type {\n",
       "        vertical-align: middle;\n",
       "    }\n",
       "\n",
       "    .dataframe tbody tr th {\n",
       "        vertical-align: top;\n",
       "    }\n",
       "\n",
       "    .dataframe thead th {\n",
       "        text-align: right;\n",
       "    }\n",
       "</style>\n",
       "<table border=\"1\" class=\"dataframe\">\n",
       "  <thead>\n",
       "    <tr style=\"text-align: right;\">\n",
       "      <th></th>\n",
       "      <th>survived</th>\n",
       "      <th>pclass</th>\n",
       "      <th>sex</th>\n",
       "      <th>age</th>\n",
       "      <th>sibsp</th>\n",
       "      <th>parch</th>\n",
       "      <th>fare</th>\n",
       "      <th>embarked</th>\n",
       "      <th>class</th>\n",
       "      <th>who</th>\n",
       "      <th>adult_male</th>\n",
       "      <th>deck</th>\n",
       "      <th>embark_town</th>\n",
       "      <th>alive</th>\n",
       "      <th>alone</th>\n",
       "    </tr>\n",
       "  </thead>\n",
       "  <tbody>\n",
       "    <tr>\n",
       "      <th>0</th>\n",
       "      <td>0</td>\n",
       "      <td>3</td>\n",
       "      <td>male</td>\n",
       "      <td>22.0</td>\n",
       "      <td>1</td>\n",
       "      <td>0</td>\n",
       "      <td>7.2500</td>\n",
       "      <td>S</td>\n",
       "      <td>Third</td>\n",
       "      <td>man</td>\n",
       "      <td>True</td>\n",
       "      <td>NaN</td>\n",
       "      <td>Southampton</td>\n",
       "      <td>no</td>\n",
       "      <td>False</td>\n",
       "    </tr>\n",
       "    <tr>\n",
       "      <th>1</th>\n",
       "      <td>1</td>\n",
       "      <td>1</td>\n",
       "      <td>female</td>\n",
       "      <td>38.0</td>\n",
       "      <td>1</td>\n",
       "      <td>0</td>\n",
       "      <td>71.2833</td>\n",
       "      <td>C</td>\n",
       "      <td>First</td>\n",
       "      <td>woman</td>\n",
       "      <td>False</td>\n",
       "      <td>C</td>\n",
       "      <td>Cherbourg</td>\n",
       "      <td>yes</td>\n",
       "      <td>False</td>\n",
       "    </tr>\n",
       "    <tr>\n",
       "      <th>2</th>\n",
       "      <td>1</td>\n",
       "      <td>3</td>\n",
       "      <td>female</td>\n",
       "      <td>26.0</td>\n",
       "      <td>0</td>\n",
       "      <td>0</td>\n",
       "      <td>7.9250</td>\n",
       "      <td>S</td>\n",
       "      <td>Third</td>\n",
       "      <td>woman</td>\n",
       "      <td>False</td>\n",
       "      <td>NaN</td>\n",
       "      <td>Southampton</td>\n",
       "      <td>yes</td>\n",
       "      <td>True</td>\n",
       "    </tr>\n",
       "    <tr>\n",
       "      <th>3</th>\n",
       "      <td>1</td>\n",
       "      <td>1</td>\n",
       "      <td>female</td>\n",
       "      <td>35.0</td>\n",
       "      <td>1</td>\n",
       "      <td>0</td>\n",
       "      <td>53.1000</td>\n",
       "      <td>S</td>\n",
       "      <td>First</td>\n",
       "      <td>woman</td>\n",
       "      <td>False</td>\n",
       "      <td>C</td>\n",
       "      <td>Southampton</td>\n",
       "      <td>yes</td>\n",
       "      <td>False</td>\n",
       "    </tr>\n",
       "    <tr>\n",
       "      <th>4</th>\n",
       "      <td>0</td>\n",
       "      <td>3</td>\n",
       "      <td>male</td>\n",
       "      <td>35.0</td>\n",
       "      <td>0</td>\n",
       "      <td>0</td>\n",
       "      <td>8.0500</td>\n",
       "      <td>S</td>\n",
       "      <td>Third</td>\n",
       "      <td>man</td>\n",
       "      <td>True</td>\n",
       "      <td>NaN</td>\n",
       "      <td>Southampton</td>\n",
       "      <td>no</td>\n",
       "      <td>True</td>\n",
       "    </tr>\n",
       "  </tbody>\n",
       "</table>\n",
       "</div>"
      ],
      "text/plain": [
       "   survived  pclass     sex   age  sibsp  parch     fare embarked  class  \\\n",
       "0         0       3    male  22.0      1      0   7.2500        S  Third   \n",
       "1         1       1  female  38.0      1      0  71.2833        C  First   \n",
       "2         1       3  female  26.0      0      0   7.9250        S  Third   \n",
       "3         1       1  female  35.0      1      0  53.1000        S  First   \n",
       "4         0       3    male  35.0      0      0   8.0500        S  Third   \n",
       "\n",
       "     who  adult_male deck  embark_town alive  alone  \n",
       "0    man        True  NaN  Southampton    no  False  \n",
       "1  woman       False    C    Cherbourg   yes  False  \n",
       "2  woman       False  NaN  Southampton   yes   True  \n",
       "3  woman       False    C  Southampton   yes  False  \n",
       "4    man        True  NaN  Southampton    no   True  "
      ]
     },
     "execution_count": 5,
     "metadata": {},
     "output_type": "execute_result"
    }
   ],
   "source": [
    "df.head()"
   ]
  },
  {
   "cell_type": "code",
   "execution_count": 6,
   "metadata": {},
   "outputs": [
    {
     "data": {
      "text/plain": [
       "array([0, 1], dtype=int64)"
      ]
     },
     "execution_count": 6,
     "metadata": {},
     "output_type": "execute_result"
    }
   ],
   "source": [
    "df.survived.unique()    "
   ]
  },
  {
   "cell_type": "code",
   "execution_count": 8,
   "metadata": {},
   "outputs": [
    {
     "data": {
      "text/plain": [
       "[NaN, 'C', 'E', 'G', 'D', 'A', 'B', 'F']\n",
       "Categories (7, object): ['A', 'B', 'C', 'D', 'E', 'F', 'G']"
      ]
     },
     "execution_count": 8,
     "metadata": {},
     "output_type": "execute_result"
    }
   ],
   "source": [
    "df.deck.unique() "
   ]
  },
  {
   "cell_type": "code",
   "execution_count": 10,
   "metadata": {},
   "outputs": [
    {
     "data": {
      "text/plain": [
       "7"
      ]
     },
     "execution_count": 10,
     "metadata": {},
     "output_type": "execute_result"
    }
   ],
   "source": [
    "df.deck.nunique()"
   ]
  },
  {
   "cell_type": "code",
   "execution_count": 11,
   "metadata": {},
   "outputs": [
    {
     "data": {
      "text/html": [
       "<div>\n",
       "<style scoped>\n",
       "    .dataframe tbody tr th:only-of-type {\n",
       "        vertical-align: middle;\n",
       "    }\n",
       "\n",
       "    .dataframe tbody tr th {\n",
       "        vertical-align: top;\n",
       "    }\n",
       "\n",
       "    .dataframe thead th {\n",
       "        text-align: right;\n",
       "    }\n",
       "</style>\n",
       "<table border=\"1\" class=\"dataframe\">\n",
       "  <thead>\n",
       "    <tr style=\"text-align: right;\">\n",
       "      <th></th>\n",
       "      <th>survived</th>\n",
       "      <th>pclass</th>\n",
       "      <th>age</th>\n",
       "      <th>sibsp</th>\n",
       "      <th>parch</th>\n",
       "      <th>fare</th>\n",
       "    </tr>\n",
       "  </thead>\n",
       "  <tbody>\n",
       "    <tr>\n",
       "      <th>count</th>\n",
       "      <td>891.000000</td>\n",
       "      <td>891.000000</td>\n",
       "      <td>714.000000</td>\n",
       "      <td>891.000000</td>\n",
       "      <td>891.000000</td>\n",
       "      <td>891.000000</td>\n",
       "    </tr>\n",
       "    <tr>\n",
       "      <th>mean</th>\n",
       "      <td>0.383838</td>\n",
       "      <td>2.308642</td>\n",
       "      <td>29.699118</td>\n",
       "      <td>0.523008</td>\n",
       "      <td>0.381594</td>\n",
       "      <td>32.204208</td>\n",
       "    </tr>\n",
       "    <tr>\n",
       "      <th>std</th>\n",
       "      <td>0.486592</td>\n",
       "      <td>0.836071</td>\n",
       "      <td>14.526497</td>\n",
       "      <td>1.102743</td>\n",
       "      <td>0.806057</td>\n",
       "      <td>49.693429</td>\n",
       "    </tr>\n",
       "    <tr>\n",
       "      <th>min</th>\n",
       "      <td>0.000000</td>\n",
       "      <td>1.000000</td>\n",
       "      <td>0.420000</td>\n",
       "      <td>0.000000</td>\n",
       "      <td>0.000000</td>\n",
       "      <td>0.000000</td>\n",
       "    </tr>\n",
       "    <tr>\n",
       "      <th>25%</th>\n",
       "      <td>0.000000</td>\n",
       "      <td>2.000000</td>\n",
       "      <td>20.125000</td>\n",
       "      <td>0.000000</td>\n",
       "      <td>0.000000</td>\n",
       "      <td>7.910400</td>\n",
       "    </tr>\n",
       "    <tr>\n",
       "      <th>50%</th>\n",
       "      <td>0.000000</td>\n",
       "      <td>3.000000</td>\n",
       "      <td>28.000000</td>\n",
       "      <td>0.000000</td>\n",
       "      <td>0.000000</td>\n",
       "      <td>14.454200</td>\n",
       "    </tr>\n",
       "    <tr>\n",
       "      <th>75%</th>\n",
       "      <td>1.000000</td>\n",
       "      <td>3.000000</td>\n",
       "      <td>38.000000</td>\n",
       "      <td>1.000000</td>\n",
       "      <td>0.000000</td>\n",
       "      <td>31.000000</td>\n",
       "    </tr>\n",
       "    <tr>\n",
       "      <th>max</th>\n",
       "      <td>1.000000</td>\n",
       "      <td>3.000000</td>\n",
       "      <td>80.000000</td>\n",
       "      <td>8.000000</td>\n",
       "      <td>6.000000</td>\n",
       "      <td>512.329200</td>\n",
       "    </tr>\n",
       "  </tbody>\n",
       "</table>\n",
       "</div>"
      ],
      "text/plain": [
       "         survived      pclass         age       sibsp       parch        fare\n",
       "count  891.000000  891.000000  714.000000  891.000000  891.000000  891.000000\n",
       "mean     0.383838    2.308642   29.699118    0.523008    0.381594   32.204208\n",
       "std      0.486592    0.836071   14.526497    1.102743    0.806057   49.693429\n",
       "min      0.000000    1.000000    0.420000    0.000000    0.000000    0.000000\n",
       "25%      0.000000    2.000000   20.125000    0.000000    0.000000    7.910400\n",
       "50%      0.000000    3.000000   28.000000    0.000000    0.000000   14.454200\n",
       "75%      1.000000    3.000000   38.000000    1.000000    0.000000   31.000000\n",
       "max      1.000000    3.000000   80.000000    8.000000    6.000000  512.329200"
      ]
     },
     "execution_count": 11,
     "metadata": {},
     "output_type": "execute_result"
    }
   ],
   "source": [
    "df.describe()"
   ]
  },
  {
   "cell_type": "code",
   "execution_count": 20,
   "metadata": {},
   "outputs": [
    {
     "name": "stderr",
     "output_type": "stream",
     "text": [
      "c:\\Users\\AI\\AppData\\Local\\Programs\\Python\\Python311\\Lib\\site-packages\\seaborn\\_oldcore.py:1498: FutureWarning: is_categorical_dtype is deprecated and will be removed in a future version. Use isinstance(dtype, CategoricalDtype) instead\n",
      "  if pd.api.types.is_categorical_dtype(vector):\n",
      "c:\\Users\\AI\\AppData\\Local\\Programs\\Python\\Python311\\Lib\\site-packages\\seaborn\\_oldcore.py:1119: FutureWarning: use_inf_as_na option is deprecated and will be removed in a future version. Convert inf values to NaN before operating instead.\n",
      "  with pd.option_context('mode.use_inf_as_na', True):\n"
     ]
    },
    {
     "data": {
      "text/plain": [
       "<Axes: xlabel='age', ylabel='Count'>"
      ]
     },
     "execution_count": 20,
     "metadata": {},
     "output_type": "execute_result"
    },
    {
     "data": {
      "image/png": "[encoded data removed]",
      "text/plain": [
       "<Figure size 640x480 with 1 Axes>"
      ]
     },
     "metadata": {},
     "output_type": "display_data"
    }
   ],
   "source": [
    "sns.histplot(df.age, kde=True)"
   ]
  },
  {
   "cell_type": "code",
   "execution_count": 21,
   "metadata": {},
   "outputs": [
    {
     "data": {
      "text/plain": [
       "ShapiroResult(statistic=nan, pvalue=1.0)"
      ]
     },
     "execution_count": 21,
     "metadata": {},
     "output_type": "execute_result"
    }
   ],
   "source": [
    "# shipro wilk test\n",
    "\n",
    "stats.shapiro(df.age)"
   ]
  },
  {
   "cell_type": "code",
   "execution_count": 22,
   "metadata": {},
   "outputs": [
    {
     "name": "stderr",
     "output_type": "stream",
     "text": [
      "c:\\Users\\AI\\AppData\\Local\\Programs\\Python\\Python311\\Lib\\site-packages\\seaborn\\_oldcore.py:1498: FutureWarning: is_categorical_dtype is deprecated and will be removed in a future version. Use isinstance(dtype, CategoricalDtype) instead\n",
      "  if pd.api.types.is_categorical_dtype(vector):\n",
      "c:\\Users\\AI\\AppData\\Local\\Programs\\Python\\Python311\\Lib\\site-packages\\seaborn\\_oldcore.py:1119: FutureWarning: use_inf_as_na option is deprecated and will be removed in a future version. Convert inf values to NaN before operating instead.\n",
      "  with pd.option_context('mode.use_inf_as_na', True):\n"
     ]
    },
    {
     "data": {
      "text/plain": [
       "<Axes: xlabel='fare', ylabel='Count'>"
      ]
     },
     "execution_count": 22,
     "metadata": {},
     "output_type": "execute_result"
    },
    {
     "data": {
      "image/png": "[encoded data removed]",
      "text/plain": [
       "<Figure size 640x480 with 1 Axes>"
      ]
     },
     "metadata": {},
     "output_type": "display_data"
    }
   ],
   "source": [
    "sns.histplot(df.fare, kde=True)"
   ]
  },
  {
   "cell_type": "code",
   "execution_count": 23,
   "metadata": {},
   "outputs": [
    {
     "data": {
      "text/plain": [
       "ShapiroResult(statistic=0.5218917727470398, pvalue=1.0789998175301091e-43)"
      ]
     },
     "execution_count": 23,
     "metadata": {},
     "output_type": "execute_result"
    }
   ],
   "source": [
    "stats.shapiro(df.fare)"
   ]
  },
  {
   "cell_type": "code",
   "execution_count": 27,
   "metadata": {},
   "outputs": [
    {
     "name": "stderr",
     "output_type": "stream",
     "text": [
      "c:\\Users\\AI\\AppData\\Local\\Programs\\Python\\Python311\\Lib\\site-packages\\seaborn\\_oldcore.py:1498: FutureWarning: is_categorical_dtype is deprecated and will be removed in a future version. Use isinstance(dtype, CategoricalDtype) instead\n",
      "  if pd.api.types.is_categorical_dtype(vector):\n",
      "c:\\Users\\AI\\AppData\\Local\\Programs\\Python\\Python311\\Lib\\site-packages\\seaborn\\_oldcore.py:1498: FutureWarning: is_categorical_dtype is deprecated and will be removed in a future version. Use isinstance(dtype, CategoricalDtype) instead\n",
      "  if pd.api.types.is_categorical_dtype(vector):\n",
      "c:\\Users\\AI\\AppData\\Local\\Programs\\Python\\Python311\\Lib\\site-packages\\seaborn\\categorical.py:641: FutureWarning: The default of observed=False is deprecated and will be changed to True in a future version of pandas. Pass observed=False to retain current behavior or observed=True to adopt the future default and silence this warning.\n",
      "  grouped_vals = vals.groupby(grouper)\n"
     ]
    },
    {
     "data": {
      "text/plain": [
       "<Axes: xlabel='fare', ylabel='class'>"
      ]
     },
     "execution_count": 27,
     "metadata": {},
     "output_type": "execute_result"
    },
    {
     "data": {
      "image/png": "[encoded data removed]",
      "text/plain": [
       "<Figure size 640x480 with 1 Axes>"
      ]
     },
     "metadata": {},
     "output_type": "display_data"
    }
   ],
   "source": [
    "sns.boxplot(data=df,x='fare',y='class')"
   ]
  },
  {
   "cell_type": "code",
   "execution_count": 39,
   "metadata": {},
   "outputs": [
    {
     "data": {
      "text/plain": [
       "ShapiroResult(statistic=0.7184011936187744, pvalue=7.556290242780962e-19)"
      ]
     },
     "execution_count": 39,
     "metadata": {},
     "output_type": "execute_result"
    }
   ],
   "source": [
    "stats.shapiro(df[df['class']=='First'].fare)"
   ]
  },
  {
   "cell_type": "code",
   "execution_count": 34,
   "metadata": {},
   "outputs": [
    {
     "data": {
      "text/plain": [
       "survived         0\n",
       "pclass           0\n",
       "sex              0\n",
       "age            177\n",
       "sibsp            0\n",
       "parch            0\n",
       "fare             0\n",
       "embarked         2\n",
       "class            0\n",
       "who              0\n",
       "adult_male       0\n",
       "deck           688\n",
       "embark_town      2\n",
       "alive            0\n",
       "alone            0\n",
       "dtype: int64"
      ]
     },
     "execution_count": 34,
     "metadata": {},
     "output_type": "execute_result"
    }
   ],
   "source": [
    "df.isnull().sum()"
   ]
  },
  {
   "cell_type": "code",
   "execution_count": 42,
   "metadata": {},
   "outputs": [],
   "source": [
    "# Compute the IQR for the 'fare' column\n",
    "df_first = df[df['class']=='First']\n",
    "q1 = df_first['fare'].quantile(0.25)\n",
    "q3 = df_first['fare'].quantile(0.75)\n",
    "iqr = q3 - q1\n",
    "lower_bound = q1 - (1.5 * iqr)\n",
    "upper_bound = q3 + (1.5 * iqr)\n",
    "\n",
    "# Filter the DataFrame to remove any outliers\n",
    "df_norm = df_first.loc[(df_first['fare'] > lower_bound) & (df_first['fare'] < upper_bound)]"
   ]
  },
  {
   "cell_type": "code",
   "execution_count": 43,
   "metadata": {},
   "outputs": [
    {
     "name": "stderr",
     "output_type": "stream",
     "text": [
      "c:\\Users\\AI\\AppData\\Local\\Programs\\Python\\Python311\\Lib\\site-packages\\seaborn\\_oldcore.py:1498: FutureWarning: is_categorical_dtype is deprecated and will be removed in a future version. Use isinstance(dtype, CategoricalDtype) instead\n",
      "  if pd.api.types.is_categorical_dtype(vector):\n",
      "c:\\Users\\AI\\AppData\\Local\\Programs\\Python\\Python311\\Lib\\site-packages\\seaborn\\_oldcore.py:1119: FutureWarning: use_inf_as_na option is deprecated and will be removed in a future version. Convert inf values to NaN before operating instead.\n",
      "  with pd.option_context('mode.use_inf_as_na', True):\n"
     ]
    },
    {
     "data": {
      "text/plain": [
       "<Axes: xlabel='fare', ylabel='Count'>"
      ]
     },
     "execution_count": 43,
     "metadata": {},
     "output_type": "execute_result"
    },
    {
     "data": {
      "image/png": "[encoded data removed]",
      "text/plain": [
       "<Figure size 640x480 with 1 Axes>"
      ]
     },
     "metadata": {},
     "output_type": "display_data"
    }
   ],
   "source": [
    "sns.histplot(df_norm.fare, kde=True)"
   ]
  },
  {
   "cell_type": "code",
   "execution_count": 44,
   "metadata": {},
   "outputs": [
    {
     "data": {
      "text/plain": [
       "ShapiroResult(statistic=0.9243667125701904, pvalue=1.6045678563614274e-08)"
      ]
     },
     "execution_count": 44,
     "metadata": {},
     "output_type": "execute_result"
    }
   ],
   "source": [
    "stats.shapiro(df_norm.fare)"
   ]
  },
  {
   "cell_type": "code",
   "execution_count": 49,
   "metadata": {},
   "outputs": [
    {
     "name": "stderr",
     "output_type": "stream",
     "text": [
      "C:\\Users\\AI\\AppData\\Local\\Temp\\ipykernel_11556\\3383667921.py:2: RuntimeWarning: divide by zero encountered in log\n",
      "  df_log =np.log(df.fare.values)\n"
     ]
    },
    {
     "data": {
      "text/plain": [
       "array([1.98100147, 4.26666208, 2.07002232, 3.97217693, 2.08567209,\n",
       "       2.13514821, 3.94859599, 3.0480875 , 2.40994062, 3.4035546 ,\n",
       "       2.81540872, 3.27902975, 2.08567209, 3.44281906, 2.06104842,\n",
       "       2.77258872, 3.37159691, 2.56494936, 2.89037176, 1.97754723,\n",
       "       3.25809654, 2.56494936, 2.0830849 , 3.5695327 , 3.0480875 ,\n",
       "       3.44640972, 1.97754723, 5.57215403, 2.06422638, 2.06633097,\n",
       "       3.32218303, 4.9871674 , 2.04769284, 2.35137526, 4.40880001,\n",
       "       3.95124372, 1.97812838, 2.08567209, 2.89037176, 2.41963008,\n",
       "       2.24865675, 3.04452244, 2.06633097, 3.72760004, 2.06422638,\n",
       "       2.08567209, 2.74084002, 2.04769284, 3.07635328, 2.87919846,\n",
       "       3.68103628, 2.05412373, 4.34028234, 3.25809654, 4.12679884,\n",
       "       3.5695327 , 2.35137526, 1.97812838, 3.32323584, 3.84801768,\n",
       "       1.97812838, 4.38202663, 4.42454719, 3.32862669, 3.32218303,\n",
       "       2.72430406, 2.35137526, 2.09903581, 2.07002232, 2.15900336,\n",
       "       2.35137526, 3.84801768, 4.29728541, 2.67098503, 4.0341663 ,\n",
       "       2.03470565, 2.06633097, 2.08567209, 3.36729583, 2.52372664,\n",
       "       2.19722458, 2.2512918 , 2.05251988, 3.852273  , 2.35137526,\n",
       "       2.7631695 , 3.53732956, 2.08567209, 5.57215403, 2.08567209,\n",
       "       2.08567209, 2.06104842, 4.11373861, 3.02407675, 1.98100147,\n",
       "       2.08567209, 3.54541893, 4.14880592, 3.13549422, 3.25809654,\n",
       "       2.06633097, 2.06633097, 4.34753223, 2.15804475, 2.07002232,\n",
       "       2.06633097, 2.03470565, 2.05091346, 2.06633097, 3.18428438,\n",
       "       3.95124372, 2.67098503, 2.08567209, 2.28493016, 2.67126864,\n",
       "       2.07002232, 2.04769284, 3.04452244, 5.51149462, 3.44281906,\n",
       "       4.29728541, 2.08567209, 3.4035546 , 2.56494936, 4.34753223,\n",
       "       2.41963008, 2.04769284, 1.96595084, 3.10719762, 1.94233233,\n",
       "       2.06633097, 1.95302762, 2.67414865, 3.25809654, 2.56494936,\n",
       "       2.71109888, 3.26893376, 3.97217693, 2.22101706, 4.3719763 ,\n",
       "       2.72430406, 2.04769284, 2.7631695 , 1.9095425 , 2.44234704,\n",
       "       3.60413823, 2.05358513, 3.53732956, 3.25809654, 2.56494936,\n",
       "       2.52772665, 4.19870458, 2.08567209, 2.67414865, 1.98958521,\n",
       "       4.11707102, 2.04553568, 2.08567209, 2.15900336, 4.24204592,\n",
       "       2.77881927, 2.75684037, 2.05091346, 2.15900336, 3.68103628,\n",
       "       3.02164366, 4.00733319, 3.32862669, 3.25520775, 4.0341663 ,\n",
       "       3.51154544, 3.37159691, 2.40994062, 2.07002232, 3.42412584,\n",
       "       2.06104842, 3.23737172, 3.35733257, 2.56494936,       -inf,\n",
       "       4.24204592, 2.71137799, 3.44640972, 3.66356165, 3.09217817,\n",
       "       3.91202301, 2.74084002, 3.27902975, 2.74084002, 2.06633097,\n",
       "       2.56494936, 2.56494936, 2.06104842, 3.25809654, 3.32218303,\n",
       "       4.9871674 , 2.04769284, 2.12873158, 2.04769284, 2.56494936,\n",
       "       2.2512918 , 4.24204592, 1.87115581, 1.97754723, 2.08567209,\n",
       "       2.34779744, 2.7631695 , 2.93319176, 2.04769284, 3.4339872 ,\n",
       "       1.95302762, 3.04452244, 1.98100147, 2.56494936, 2.04769284,\n",
       "       4.72981849, 2.07002232, 3.29583687, 4.33456415, 2.35137526,\n",
       "       2.08567209, 2.56494936, 2.08567209, 2.06633097, 4.49980967,\n",
       "       2.23537634, 2.35137526, 1.98100147, 2.56494936, 3.23737172,\n",
       "       4.42454719, 2.05091346, 2.60268969, 3.44640972, 2.35137526,\n",
       "       2.02154756, 3.25809654, 3.26766599, 2.35137526, 2.50756467,\n",
       "       2.67098503, 2.74084002, 2.35137526, 1.96360973, 1.97754723,\n",
       "       4.49980967, 2.05091346, 2.67414865, 3.96184502, 3.25809654,\n",
       "       1.98100147, 2.34779744, 3.27902975, 2.77881927, 3.00630122,\n",
       "       2.72430406, 4.3719763 , 4.46014441, 6.23896739, 3.25809654,\n",
       "       2.04769284, 3.44640972, 4.37764204,       -inf, 2.04769284,\n",
       "       2.35137526, 3.68103628, 2.05091346, 5.03345624, 4.90995492,\n",
       "       3.4339872 ,       -inf, 2.97041447, 3.39114705, 2.04769284,\n",
       "       4.35617407, 2.04769284,       -inf, 3.37159691, 3.00815479,\n",
       "       2.04769284, 2.06104842, 2.2512918 , 2.08567209, 3.25809654,\n",
       "       2.15900336, 2.2512918 , 2.06633097, 2.56494936, 2.04769284,\n",
       "       4.36754731, 4.51172946, 2.55528745, 2.18041746, 2.06633097,\n",
       "       3.32218303, 1.97812838, 5.0209156 , 3.41772668, 5.51149462,\n",
       "       2.04769284, 3.14630513,       -inf, 2.51365606, 2.08567209,\n",
       "       5.0209156 , 4.7084783 , 4.69043003, 3.17805383, 4.04180839,\n",
       "       4.42074602, 5.56977478, 3.25809654, 2.06633097, 3.26766599,\n",
       "       2.06104842, 3.25809654, 2.63905733, 5.10513727, 4.9015642 ,\n",
       "       1.98100147, 2.06633097, 2.51365606, 3.36729583, 4.24204592,\n",
       "       4.90995492, 1.83057946, 2.56494936, 3.02164366, 4.06008433,\n",
       "       3.14630513, 3.34990409, 5.03345624, 2.89037176, 4.89522444,\n",
       "       2.06633097, 4.19870458, 4.9015642 , 2.08567209, 3.5695327 ,\n",
       "       3.25809654, 5.57215403, 2.56494936, 2.56494936, 2.56494936,\n",
       "       2.56494936, 2.56494936, 2.77881927, 2.76631911, 2.15900336,\n",
       "       2.22191719, 3.55534806, 1.97812838, 2.87919846, 1.97754723,\n",
       "       2.2512918 , 4.00733319, 2.56494936, 2.06422638, 2.06422638,\n",
       "       3.32862669, 3.32218303, 2.67098503, 1.95302762, 2.74084002,\n",
       "       1.98100147, 4.3208159 , 1.97812838, 2.04769284, 4.23844491,\n",
       "       4.01533202, 1.87115581, 2.08567209, 4.90995492, 3.0480875 ,\n",
       "       4.40880001, 1.98100147, 5.354225  , 1.38941449, 2.05091346,\n",
       "       5.42726012, 2.75631324, 2.07002232, 3.95124372, 2.06633097,\n",
       "       4.29728541, 3.84801768, 2.56494936, 2.04500536, 2.48490665,\n",
       "       4.78749174, 2.05358513, 2.07002232, 4.72981849, 2.81540872,\n",
       "       2.05358513, 2.06104842, 3.25809654, 2.35137526, 2.53765722,\n",
       "       2.07002232, 2.08567209, 2.28493016, 2.7631695 , 2.15900336,\n",
       "       3.04452244, 2.04769284, 2.93119375, 2.05091346, 3.23737172,\n",
       "       2.06633097, 1.9254596 , 4.49980967,       -inf, 2.07002232,\n",
       "       2.08567209, 3.48124009, 2.56494936, 2.56494936, 3.18428438,\n",
       "       2.06633097, 2.04553568, 2.06369318, 2.66722821, 3.00630122,\n",
       "       1.98100147, 3.25809654, 3.25809654, 2.04769284, 2.08567209,\n",
       "       3.27902975, 2.77881927, 3.25809654, 1.96360973, 4.02356438,\n",
       "       4.78749174, 3.53732956, 2.93119375, 5.57215403, 2.35137526,\n",
       "       3.26766599, 2.2512918 , 2.05091346, 2.56494936, 2.09340608,\n",
       "       4.4049897 , 2.97041447, 3.27902975, 2.95794214, 3.41772668,\n",
       "       3.32323584, 2.99406589, 3.32323584, 4.48980647, 2.08567209,\n",
       "       2.06633097, 3.27902975, 3.94859599, 2.35137526, 2.04769284,\n",
       "       3.27902975, 2.08567209, 3.65065824, 2.56494936, 2.08567209,\n",
       "       1.95302762,       -inf, 3.27902975, 2.04446182, 2.95794214,\n",
       "       1.98100147, 2.15900336, 3.32323584, 2.62406696, 2.28620161,\n",
       "       3.95124372, 3.04452244, 1.95243169, 2.01767252, 2.50858249,\n",
       "       3.84801768,       -inf, 2.08567209, 2.26046017, 4.51172946,\n",
       "       3.23737172, 4.49980967, 3.39114705, 2.08567209, 2.76631911,\n",
       "       2.99406589, 1.98100147, 3.41772668, 3.90205751, 2.08567209,\n",
       "       2.67126864, 4.36012223, 2.71469474, 5.0209156 , 2.05358513,\n",
       "       2.15900336, 2.04769284, 2.03198299, 2.26046017, 4.46014441,\n",
       "       4.69043003, 3.25809654, 3.27902975, 3.1146258 , 4.0341663 ,\n",
       "       2.04769284, 2.08567209, 3.26909354, 4.08429423, 2.01434286,\n",
       "       3.5269721 , 2.35137526, 3.18428438, 3.25809654, 2.06633097,\n",
       "       4.53796144, 2.06633097, 1.97754723, 4.06008433, 1.97812838,\n",
       "       2.04769284, 2.35137526, 5.40168229, 2.07002232, 2.44234704,\n",
       "       3.25809654, 1.97812838, 1.97812838, 3.10719762, 2.15900336,\n",
       "       3.26766599, 3.27902975, 4.66744051, 2.67414865, 3.90197267,\n",
       "       4.26267988, 3.44281906, 3.44281906, 3.25809654, 4.66744051,\n",
       "       3.25809654, 3.25809654, 2.62918735, 3.02164366, 3.60413823,\n",
       "       4.7084783 , 3.25809654, 2.05786033, 1.97754723, 2.05091346,\n",
       "       3.27902975, 3.67882912, 5.42726012, 4.37764204, 2.85647021,\n",
       "       2.04769284, 2.06633097, 2.60268969, 2.08567209, 2.08567209,\n",
       "       3.18428438, 2.06633097, 3.0480875 , 1.97812838, 2.06104842,\n",
       "       2.35137526, 3.94117784, 3.27289041, 2.04769284, 2.08567209,\n",
       "       2.67414865, 2.56494936, 4.02356438, 2.67126864, 2.07002232,\n",
       "       3.40119738, 4.7084783 , 3.25809654, 3.69199958, 2.16475878,\n",
       "       4.37764204, 2.7080502 , 4.3719763 , 2.08567209, 2.08567209,\n",
       "       1.96360973, 4.36012223, 1.98100147, 2.04769284, 3.25809654,\n",
       "       3.18428438, 3.49650756,       -inf, 1.97754723, 4.04180839,\n",
       "       3.29583687, 2.06633097, 3.74714836, 2.08567209, 3.27902975,\n",
       "       2.74406064, 2.06633097, 3.41772668, 3.72760004, 5.03345624,\n",
       "       3.44281906, 1.95302762, 2.74084002, 2.04769284, 2.08567209,\n",
       "       4.17438727, 2.66722821, 2.77881927, 3.66356165, 2.35137526,\n",
       "       2.67098503, 3.96184502, 2.75631324, 2.06104842, 2.77881927,\n",
       "       3.47571099, 2.51365606, 4.35617407, 2.06633097, 2.04553568,\n",
       "       3.40119738, 1.95362318, 3.41772668,       -inf, 3.32862669,\n",
       "       2.56494936, 2.07002232, 3.26766599, 3.68103628, 2.77881927,\n",
       "       2.06104842, 4.23844491, 3.32862669, 4.0341663 , 2.95794214,\n",
       "       4.34028234, 2.06633097, 3.5695327 , 2.02154756, 2.02154756,\n",
       "       2.06633097, 3.13549422, 2.13218815, 2.05786033, 1.9095425 ,\n",
       "       4.29728541, 2.06633097, 2.74084002, 2.56494936, 4.72981849,\n",
       "       4.89522444, 1.97754723, 3.24210395, 2.01434286, 2.07002232,\n",
       "       4.29728541, 2.56494936, 2.05091346, 2.08567209, 3.95124372,\n",
       "       3.66356165, 3.95124372, 2.35137526, 2.56494936,       -inf,\n",
       "       2.05091346, 2.08567209, 2.28662846, 3.84801768, 6.23896739,\n",
       "       2.09648301, 4.34028234, 2.22191719, 3.84801768, 3.66356165,\n",
       "       3.72760004, 3.68103628, 2.31952087, 2.05358513, 5.35345638,\n",
       "       4.04305127, 2.5965002 , 4.0341663 , 1.97754723, 3.27902975,\n",
       "       2.60268969, 2.08567209, 2.04553568, 4.7084783 , 2.03470565,\n",
       "       5.42726012, 3.26909354, 2.67098503, 2.0466213 , 2.06104842,\n",
       "       3.25809654, 2.60268969, 3.26909354, 5.0209156 , 2.72430406,\n",
       "       3.90205751, 3.27902975, 3.95124372, 2.24953236, 2.56494936,\n",
       "       2.03470565, 5.42726012, 2.35137526, 2.74084002, 2.05091346,\n",
       "       3.49650756, 1.95362318, 2.56494936, 2.56494936, 3.97217693,\n",
       "       2.15900336, 3.04452244, 2.04607864, 3.25809654, 2.07002232,\n",
       "       5.35345638, 2.93319176,       -inf, 2.56494936, 2.56494936,\n",
       "       2.77881927, 3.53732956, 6.23896739, 2.06633097, 2.06633097,\n",
       "       3.40119738, 4.36754731, 5.56977478, 2.77881927, 2.07002232,\n",
       "       4.26267988, 3.00815479, 2.56494936, 3.97217693, 2.04769284,\n",
       "       3.13549422, 2.52372664, 2.2512918 , 2.06633097, 4.17438727,\n",
       "       2.67414865, 2.05358513, 2.44234704, 2.08567209, 4.46014441,\n",
       "       2.67414865, 1.96360973, 1.97812838, 4.78749174, 2.05091346,\n",
       "       4.35617407, 3.67882912, 2.04769284, 3.18428438, 2.12375743,\n",
       "       2.2512918 , 2.06104842, 2.35137526, 1.97754723, 3.13549422,\n",
       "       2.04769284, 2.04769284, 2.52372664, 2.04607864, 5.35345638,\n",
       "       1.97812838, 4.04305127, 3.40119738, 3.15487049, 1.95302762,\n",
       "       1.98100147, 2.01434286, 3.37159691, 3.02407675, 4.3719763 ,\n",
       "       2.04769284, 3.25809654, 4.24204592, 3.42412584, 2.06633097,\n",
       "       2.56494936, 3.25536975, 2.16140164, 1.97812838, 3.18428438,\n",
       "       2.56494936, 3.26766599, 4.78749174, 2.14202894, 1.94233233,\n",
       "       2.05091346,       -inf, 2.05091346, 2.56494936, 3.97217693,\n",
       "       2.06527923, 3.18428438, 2.35137526, 3.44281906, 2.08567209,\n",
       "             -inf, 2.07002232, 3.61103142, 1.86408013, 3.32862669,\n",
       "       4.53796144, 2.15900336,       -inf, 2.52372664, 3.68103628,\n",
       "       1.93874166, 4.0341663 , 3.61103142, 2.04769284, 4.38202663,\n",
       "       2.67098503, 2.93119375, 1.97812838, 2.06104842, 2.11625551,\n",
       "       4.42074602, 2.15900336, 2.08567209, 4.0341663 , 3.39114705,\n",
       "       2.07002232, 2.35137526, 3.4339872 , 1.86214027, 2.15900336,\n",
       "       2.02154756, 4.24204592, 2.06633097, 3.49650756, 4.48980647,\n",
       "       3.44281906, 2.05091346, 2.72430406, 3.67376582, 3.25809654,\n",
       "       2.23537634, 5.10513727, 3.27902975, 2.95794214, 1.97812838,\n",
       "       2.64676328, 2.44234704, 3.25536975, 4.24204592, 2.56494936,\n",
       "       2.56494936, 2.62888433, 3.92189016, 2.2512918 , 2.40994062,\n",
       "       2.06633097, 3.96184502, 1.60943791, 2.19722458, 3.17805383,\n",
       "       1.97754723, 2.28704497, 2.06633097, 2.06633097, 4.42074602,\n",
       "       3.25809654, 2.06633097, 2.35296447, 2.35137526, 1.95302762,\n",
       "       3.37159691, 2.56494936, 3.40119738, 3.15487049, 3.40119738,\n",
       "       2.04769284])"
      ]
     },
     "execution_count": 49,
     "metadata": {},
     "output_type": "execute_result"
    }
   ],
   "source": [
    "# log transformation\n",
    "df_log =np.log(df.fare.values) \n",
    "df_log"
   ]
  },
  {
   "cell_type": "code",
   "execution_count": 50,
   "metadata": {},
   "outputs": [
    {
     "data": {
      "text/plain": [
       "ShapiroResult(statistic=nan, pvalue=1.0)"
      ]
     },
     "execution_count": 50,
     "metadata": {},
     "output_type": "execute_result"
    }
   ],
   "source": [
    "stats.shapiro(df_log)"
   ]
  },
  {
   "cell_type": "code",
   "execution_count": 51,
   "metadata": {},
   "outputs": [
    {
     "name": "stderr",
     "output_type": "stream",
     "text": [
      "c:\\Users\\AI\\AppData\\Local\\Programs\\Python\\Python311\\Lib\\site-packages\\seaborn\\_oldcore.py:1498: FutureWarning: is_categorical_dtype is deprecated and will be removed in a future version. Use isinstance(dtype, CategoricalDtype) instead\n",
      "  if pd.api.types.is_categorical_dtype(vector):\n",
      "c:\\Users\\AI\\AppData\\Local\\Programs\\Python\\Python311\\Lib\\site-packages\\seaborn\\_oldcore.py:1119: FutureWarning: use_inf_as_na option is deprecated and will be removed in a future version. Convert inf values to NaN before operating instead.\n",
      "  with pd.option_context('mode.use_inf_as_na', True):\n"
     ]
    },
    {
     "data": {
      "text/plain": [
       "<Axes: ylabel='Count'>"
      ]
     },
     "execution_count": 51,
     "metadata": {},
     "output_type": "execute_result"
    },
    {
     "data": {
      "image/png": "[encoded data removed]",
      "text/plain": [
       "<Figure size 640x480 with 1 Axes>"
      ]
     },
     "metadata": {},
     "output_type": "display_data"
    }
   ],
   "source": [
    "sns.histplot(df_log, kde=True)"
   ]
  },
  {
   "cell_type": "code",
   "execution_count": null,
   "metadata": {},
   "outputs": [],
   "source": []
  }
 ],
 "metadata": {
  "kernelspec": {
   "display_name": "Python 3",
   "language": "python",
   "name": "python3"
  },
  "language_info": {
   "codemirror_mode": {
    "name": "ipython",
    "version": 3
   },
   "file_extension": ".py",
   "mimetype": "text/x-python",
   "name": "python",
   "nbconvert_exporter": "python",
   "pygments_lexer": "ipython3",
   "version": "3.11.1"
  },
  "orig_nbformat": 4
 },
 "nbformat": 4,
 "nbformat_minor": 2
}
