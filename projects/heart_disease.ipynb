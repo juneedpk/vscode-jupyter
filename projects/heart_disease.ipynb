{
 "cells": [
  {
   "cell_type": "markdown",
   "metadata": {},
   "source": [
    "# Heart disease prediction\n",
    "\n",
    "'Author' : [junaid Amin](https://twitter.com/juneedpk)\n",
    "\n",
    "'Date' : 18-03-24\n",
    "\n",
    "'Dataset' : [Heart Disease UCI](https://www.kaggle.com/datasets/johnsmith88/heart-disease-dataset)"
   ]
  },
  {
   "cell_type": "markdown",
   "metadata": {},
   "source": [
    "# Meta Data\n",
    "\n",
    "## ABOUT DATA\n",
    "This is a multivariate type of dataset which means providing or involving a variety of separate mathematical or statistical variables, multivariate numerical data analysis. It is composed of 14 attributes which are age, sex, chest pain type, resting blood pressure, serum cholesterol, fasting blood sugar, resting electrocardiographic results, maximum heart rate achieved, exercise-induced angina, oldpeak — ST depression induced by exercise relative to rest, the slope of the peak exercise ST segment, number of major vessels and Thalassemia. This database includes 76 attributes, but all published studies relate to the use of a subset of 14 of them. The Cleveland database is the only one used by ML researchers to date. One of the major tasks on this dataset is to predict based on the given attributes of a patient that whether that particular person has heart disease or not and other is the experimental task to diagnose and find out various insights from this dataset which could help in understanding the problem more.\n",
    "\n",
    "## Content\n",
    "### Column Descriptions:\n",
    "* 'id' (Unique id for each patient)\n",
    "* 'age '(Age of the patient in years)\n",
    "* o'rigin' (place of study)\n",
    "* 'sex' (Male/Female)\n",
    "* 'cp chest pain type' ([typical angina, atypical angina, non-anginal, asymptomatic])\n",
    "* 'trestbps resting blood pressure' (resting blood pressure (in mm Hg on admission to the hospital))\n",
    "* 'chol' (serum cholesterol in mg/dl)\n",
    "*' fbs '(if fasting blood sugar > 120 mg/dl)\n",
    "* 'restecg '(resting electrocardiographic results)\n",
    "* -- 'Values': [normal, stt abnormality, lv hypertrophy]\n",
    "* 'thalach': maximum heart rate achieved\n",
    "* 'exang': exercise-induced angina (True/ False)\n",
    "*' oldpeak': ST depression induced by exercise relative to rest\n",
    "* 'slope': the slope of the peak exercise ST segment\n",
    "* 'ca': number of major vessels (0-3) colored by fluoroscopy\n",
    "* 'thal': [normal; fixed defect; reversible defect]\n",
    "* 'num': the predicted attribute\n",
    "### Acknowledgements\n",
    "Creators:\n",
    "* Hungarian Institute of Cardiology. Budapest: Andras Janosi, M.D.\n",
    "* University Hospital, Zurich, Switzerland: William Steinbrunn, M.D.\n",
    "* University Hospital, Basel, Switzerland: Matthias Pfisterer, M.D.\n",
    "* V.A. Medical Center, Long Beach and Cleveland Clinic Foundation: Robert Detrano, M.D., Ph.D."
   ]
  },
  {
   "cell_type": "markdown",
   "metadata": {},
   "source": [
    "## Aims and Objectives\n",
    "\n",
    "we will do this after EDA"
   ]
  },
  {
   "cell_type": "markdown",
   "metadata": {},
   "source": [
    "### Import Libraries \n",
    "\n",
    "Lets start the project by importing libraries"
   ]
  },
  {
   "cell_type": "code",
   "execution_count": 3,
   "metadata": {},
   "outputs": [],
   "source": [
    "# to import the data\n",
    "import pandas as pd\n",
    "import numpy as np\n",
    "\n",
    "# to plot the data\n",
    "import matplotlib.pyplot as plt\n",
    "import plotly.express as px\n",
    "\n",
    "# to process the data\n",
    "from sklearn.preprocessing import StandardScaler,LabelEncoder,MinMaxScaler\n",
    "import seaborn as sns\n",
    "from sklearn.impute import SimpleImputer, KNNImputer\n",
    "from sklearn.experimental import enable_iterative_imputer\n",
    "from sklearn.impute import IterativeImputer\n",
    "\n",
    "# machine learning\n",
    "\n",
    "from sklearn.model_selection import train_test_split,GridSearchCV,cross_val_score\n",
    "from sklearn.ensemble import RandomForestClassifier,AdaBoostClassifier,GradientBoostingClassifier\n",
    "from sklearn.linear_model import LogisticRegression\n",
    "from sklearn.svm import SVC\n",
    "from sklearn.tree import DecisionTreeClassifier\n",
    "from sklearn.neighbors import KNeighborsClassifier\n",
    "from xgboost import XGBClassifier\n",
    "\n",
    "# metrices\n",
    "\n",
    "from sklearn.metrics import accuracy_score,confusion_matrix,classification_report\n",
    "\n",
    "import warnings\n",
    "warnings.filterwarnings('ignore')"
   ]
  }
 ],
 "metadata": {
  "kernelspec": {
   "display_name": "Python 3",
   "language": "python",
   "name": "python3"
  },
  "language_info": {
   "codemirror_mode": {
    "name": "ipython",
    "version": 3
   },
   "file_extension": ".py",
   "mimetype": "text/x-python",
   "name": "python",
   "nbconvert_exporter": "python",
   "pygments_lexer": "ipython3",
   "version": "3.11.1"
  }
 },
 "nbformat": 4,
 "nbformat_minor": 2
}
