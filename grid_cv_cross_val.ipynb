{
 "cells": [
  {
   "cell_type": "code",
   "execution_count": 1,
   "metadata": {},
   "outputs": [
    {
     "name": "stdout",
     "output_type": "stream",
     "text": [
      "r2 scores:  [0.         0.85081513 0.         0.76155439 0.        ]\n"
     ]
    }
   ],
   "source": [
    "from sklearn.model_selection import GridSearchCV, cross_val_score\n",
    "from sklearn.linear_model import LinearRegression\n",
    "from sklearn.datasets import load_iris  # Example dataset (you can replace this with your own data)\n",
    "import numpy as np\n",
    "\n",
    "# Load a sample dataset (Boston Housing Prices)\n",
    "data = load_iris()\n",
    "X, y = data.data, data.target\n",
    "\n",
    "# Create a Linear Regression model\n",
    "lr_model = LinearRegression()\n",
    "\n",
    "# Define a hyperparameter grid for GridSearchCV (In this case, there are no hyperparameters to tune for Linear Regression)\n",
    "param_grid = {'fit_intercept' : [True, False]}\n",
    "\n",
    "# Create a GridSearchCV object\n",
    "grid_search = GridSearchCV(estimator=lr_model, param_grid=param_grid, cv=5, scoring='r2')\n",
    "\n",
    "# Perform cross-validation with GridSearchCV\n",
    "cross_val_scores = cross_val_score(grid_search, X, y, cv=5, scoring='r2')\n",
    "\n",
    "\n",
    "print('r2 scores: ', cross_val_scores)\n"
   ]
  }
 ],
 "metadata": {
  "kernelspec": {
   "display_name": "Python 3",
   "language": "python",
   "name": "python3"
  },
  "language_info": {
   "codemirror_mode": {
    "name": "ipython",
    "version": 3
   },
   "file_extension": ".py",
   "mimetype": "text/x-python",
   "name": "python",
   "nbconvert_exporter": "python",
   "pygments_lexer": "ipython3",
   "version": "3.11.1"
  },
  "orig_nbformat": 4
 },
 "nbformat": 4,
 "nbformat_minor": 2
}
